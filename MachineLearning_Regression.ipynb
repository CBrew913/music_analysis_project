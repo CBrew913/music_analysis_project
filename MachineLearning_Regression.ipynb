{
 "cells": [
  {
   "cell_type": "markdown",
   "id": "884bada9",
   "metadata": {},
   "source": [
    "# Machine Learning Linear Regression "
   ]
  },
  {
   "cell_type": "code",
   "execution_count": 4,
   "id": "71c3e2bc",
   "metadata": {},
   "outputs": [],
   "source": [
    "import pandas as pd\n",
    "from pathlib import Path\n",
    "import matplotlib.pyplot as plt\n",
    "from sklearn.linear_model import LinearRegression"
   ]
  },
  {
   "cell_type": "code",
   "execution_count": 5,
   "id": "e6ec4d65",
   "metadata": {},
   "outputs": [
    {
     "data": {
      "text/html": [
       "<div>\n",
       "<style scoped>\n",
       "    .dataframe tbody tr th:only-of-type {\n",
       "        vertical-align: middle;\n",
       "    }\n",
       "\n",
       "    .dataframe tbody tr th {\n",
       "        vertical-align: top;\n",
       "    }\n",
       "\n",
       "    .dataframe thead th {\n",
       "        text-align: right;\n",
       "    }\n",
       "</style>\n",
       "<table border=\"1\" class=\"dataframe\">\n",
       "  <thead>\n",
       "    <tr style=\"text-align: right;\">\n",
       "      <th></th>\n",
       "      <th>title</th>\n",
       "      <th>artist</th>\n",
       "      <th>lyrics</th>\n",
       "    </tr>\n",
       "  </thead>\n",
       "  <tbody>\n",
       "    <tr>\n",
       "      <th>0</th>\n",
       "      <td>Hey, Soul Sister</td>\n",
       "      <td>Train</td>\n",
       "      <td>hey heeeeey heeeeey  your lipstick stains on t...</td>\n",
       "    </tr>\n",
       "    <tr>\n",
       "      <th>1</th>\n",
       "      <td>Love The Way You Lie</td>\n",
       "      <td>Eminem</td>\n",
       "      <td>just gonna stand there and watch me burn well ...</td>\n",
       "    </tr>\n",
       "    <tr>\n",
       "      <th>2</th>\n",
       "      <td>TiK ToK</td>\n",
       "      <td>Kesha</td>\n",
       "      <td>wake up in the morning feelin like p diddy hey...</td>\n",
       "    </tr>\n",
       "    <tr>\n",
       "      <th>3</th>\n",
       "      <td>Bad Romance</td>\n",
       "      <td>Lady Gaga</td>\n",
       "      <td>ohohohohoh ohohohoh ohohoh caught in a bad rom...</td>\n",
       "    </tr>\n",
       "    <tr>\n",
       "      <th>4</th>\n",
       "      <td>Just the Way You Are</td>\n",
       "      <td>Bruno Mars</td>\n",
       "      <td>oh ohohoh ohohohoh ohohoh  oh her eyes her eye...</td>\n",
       "    </tr>\n",
       "  </tbody>\n",
       "</table>\n",
       "</div>"
      ],
      "text/plain": [
       "                  title      artist  \\\n",
       "0      Hey, Soul Sister       Train   \n",
       "1  Love The Way You Lie      Eminem   \n",
       "2               TiK ToK       Kesha   \n",
       "3           Bad Romance   Lady Gaga   \n",
       "4  Just the Way You Are  Bruno Mars   \n",
       "\n",
       "                                              lyrics  \n",
       "0  hey heeeeey heeeeey  your lipstick stains on t...  \n",
       "1  just gonna stand there and watch me burn well ...  \n",
       "2  wake up in the morning feelin like p diddy hey...  \n",
       "3  ohohohohoh ohohohoh ohohoh caught in a bad rom...  \n",
       "4  oh ohohoh ohohohoh ohohoh  oh her eyes her eye...  "
      ]
     },
     "execution_count": 5,
     "metadata": {},
     "output_type": "execute_result"
    }
   ],
   "source": [
    "# importing data \n",
    "lyricData_df = pd.read_csv(Path('data/lyric_data_clean.csv'), index_col=[0])\n",
    "lyricData_df.head()\n",
    "\n",
    "# need data to have number of percent of bad words and year? "
   ]
  },
  {
   "cell_type": "code",
   "execution_count": 6,
   "id": "b247f69b",
   "metadata": {},
   "outputs": [],
   "source": [
    "## Code copied from Module 17.2.3\n",
    "## The data in the df column must be reshaped into an array with shape (num_samples, num_features)\n",
    "## https://stackoverflow.com/questions/18691084/what-does-1-mean-in-numpy-reshape\n",
    "# X = df.YearsExperience.values.reshape(-1, 1)\n",
    "\n",
    "# X = lyricData_df.years "
   ]
  },
  {
   "cell_type": "code",
   "execution_count": 7,
   "id": "908d81d7",
   "metadata": {},
   "outputs": [],
   "source": [
    "#y = LyricData_df.PercentBadWords"
   ]
  },
  {
   "cell_type": "code",
   "execution_count": 8,
   "id": "8bc2a67f",
   "metadata": {},
   "outputs": [],
   "source": [
    "# Create a model with scikit-learn\n",
    "model = LinearRegression()"
   ]
  },
  {
   "cell_type": "code",
   "execution_count": 9,
   "id": "fb54aaba",
   "metadata": {},
   "outputs": [
    {
     "ename": "NameError",
     "evalue": "name 'X' is not defined",
     "output_type": "error",
     "traceback": [
      "\u001b[1;31m---------------------------------------------------------------------------\u001b[0m",
      "\u001b[1;31mNameError\u001b[0m                                 Traceback (most recent call last)",
      "Input \u001b[1;32mIn [9]\u001b[0m, in \u001b[0;36m<cell line: 3>\u001b[1;34m()\u001b[0m\n\u001b[0;32m      1\u001b[0m \u001b[38;5;66;03m# Fit the data into the model\u001b[39;00m\n\u001b[0;32m      2\u001b[0m \u001b[38;5;66;03m# By convention, X is capitalized and y is lowercase\u001b[39;00m\n\u001b[1;32m----> 3\u001b[0m model\u001b[38;5;241m.\u001b[39mfit(\u001b[43mX\u001b[49m, y)\n",
      "\u001b[1;31mNameError\u001b[0m: name 'X' is not defined"
     ]
    }
   ],
   "source": [
    "# Fit the data into the model\n",
    "# By convention, X is capitalized and y is lowercase\n",
    "model.fit(X, y)"
   ]
  },
  {
   "cell_type": "code",
   "execution_count": null,
   "id": "c5cca441",
   "metadata": {},
   "outputs": [],
   "source": [
    "# The model creates predicted y values based on X values\n",
    "y_pred = model.predict(X)\n",
    "print(y_pred.shape)"
   ]
  }
 ],
 "metadata": {
  "kernelspec": {
   "display_name": "Python 3 (ipykernel)",
   "language": "python",
   "name": "python3"
  },
  "language_info": {
   "codemirror_mode": {
    "name": "ipython",
    "version": 3
   },
   "file_extension": ".py",
   "mimetype": "text/x-python",
   "name": "python",
   "nbconvert_exporter": "python",
   "pygments_lexer": "ipython3",
   "version": "3.9.12"
  }
 },
 "nbformat": 4,
 "nbformat_minor": 5
}
