{
 "cells": [
  {
   "cell_type": "code",
   "execution_count": 1,
   "metadata": {
    "colab": {
     "base_uri": "https://localhost:8080/"
    },
    "id": "F6boKQMPbaih",
    "outputId": "6e856181-1b90-4679-c2fb-2671a3018b13"
   },
   "outputs": [],
   "source": [
    "import pandas as pd\n",
    "import numpy as np\n",
    "from pathlib import Path\n"
   ]
  },
  {
   "cell_type": "code",
   "execution_count": 7,
   "metadata": {
    "id": "8ttgziAUgINI"
   },
   "outputs": [
    {
     "name": "stdout",
     "output_type": "stream",
     "text": [
      "   Unnamed: 0                 title      artist        top genre  year  bpm  \\\n",
      "0           1      Hey, Soul Sister       Train       neo mellow  2010   97   \n",
      "1           2  Love The Way You Lie      Eminem  detroit hip hop  2010   87   \n",
      "2           3               TiK ToK       Kesha        dance pop  2010  120   \n",
      "3           4           Bad Romance   Lady Gaga        dance pop  2010  119   \n",
      "4           5  Just the Way You Are  Bruno Mars              pop  2010  109   \n",
      "\n",
      "   nrgy  dnce  dB  live  val  dur  acous  spch  pop  \n",
      "0    89    67  -4     8   80  217     19     4   83  \n",
      "1    93    75  -5    52   64  263     24    23   82  \n",
      "2    84    76  -3    29   71  200     10    14   80  \n",
      "3    92    70  -4     8   71  295      0     4   79  \n",
      "4    84    64  -5     9   43  221      2     4   78  \n"
     ]
    }
   ],
   "source": [
    "file_path = Path('top10s.csv')\n",
    "top_songs_df = pd.read_csv(file_path, encoding = \"ISO-8859-1\")\n",
    "print(top_songs_df.head())"
   ]
  },
  {
   "cell_type": "code",
   "execution_count": null,
   "metadata": {},
   "outputs": [],
   "source": []
  }
 ],
 "metadata": {
  "colab": {
   "provenance": []
  },
  "kernelspec": {
   "display_name": "mlenv",
   "language": "python",
   "name": "mlenv"
  },
  "language_info": {
   "codemirror_mode": {
    "name": "ipython",
    "version": 3
   },
   "file_extension": ".py",
   "mimetype": "text/x-python",
   "name": "python",
   "nbconvert_exporter": "python",
   "pygments_lexer": "ipython3",
   "version": "3.7.13"
  }
 },
 "nbformat": 4,
 "nbformat_minor": 1
}
