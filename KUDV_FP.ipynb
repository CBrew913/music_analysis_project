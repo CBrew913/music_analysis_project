{
 "cells": [
  {
   "cell_type": "code",
   "execution_count": 1,
   "metadata": {
    "colab": {
     "base_uri": "https://localhost:8080/"
    },
    "id": "F6boKQMPbaih",
    "outputId": "6e856181-1b90-4679-c2fb-2671a3018b13"
   },
   "outputs": [],
   "source": [
    "import pandas as pd\n",
    "import numpy as np\n",
    "from pathlib import Path\n"
   ]
  },
  {
   "cell_type": "code",
   "execution_count": 2,
   "metadata": {
    "id": "8ttgziAUgINI"
   },
   "outputs": [
    {
     "name": "stdout",
     "output_type": "stream",
     "text": [
      "   Unnamed: 0                 title      artist        top genre  year  bpm  \\\n",
      "0           1      Hey, Soul Sister       Train       neo mellow  2010   97   \n",
      "1           2  Love The Way You Lie      Eminem  detroit hip hop  2010   87   \n",
      "2           3               TiK ToK       Kesha        dance pop  2010  120   \n",
      "3           4           Bad Romance   Lady Gaga        dance pop  2010  119   \n",
      "4           5  Just the Way You Are  Bruno Mars              pop  2010  109   \n",
      "\n",
      "   nrgy  dnce  dB  live  val  dur  acous  spch  pop  \n",
      "0    89    67  -4     8   80  217     19     4   83  \n",
      "1    93    75  -5    52   64  263     24    23   82  \n",
      "2    84    76  -3    29   71  200     10    14   80  \n",
      "3    92    70  -4     8   71  295      0     4   79  \n",
      "4    84    64  -5     9   43  221      2     4   78  \n"
     ]
    }
   ],
   "source": [
    "file_path = Path('top10s.csv')\n",
    "top_songs_df = pd.read_csv(file_path, encoding = \"ISO-8859-1\")\n",
    "print(top_songs_df.head())\n",
    "\n",
    "#https://www.kaggle.com/datasets/leonardopena/top-spotify-songs-from-20102019-by-year?resource=download\n"
   ]
  },
  {
   "cell_type": "code",
   "execution_count": 3,
   "metadata": {},
   "outputs": [
    {
     "data": {
      "text/plain": [
       "<bound method NDFrame.head of                                                  title            artist  year\n",
       "0                                     Hey, Soul Sister             Train  2010\n",
       "1                                 Love The Way You Lie            Eminem  2010\n",
       "2                                              TiK ToK             Kesha  2010\n",
       "3                                          Bad Romance         Lady Gaga  2010\n",
       "4                                 Just the Way You Are        Bruno Mars  2010\n",
       "..                                                 ...               ...   ...\n",
       "598                Find U Again (feat. Camila Cabello)       Mark Ronson  2019\n",
       "599      Cross Me (feat. Chance the Rapper & PnB Rock)        Ed Sheeran  2019\n",
       "600  No Brainer (feat. Justin Bieber, Chance the Ra...         DJ Khaled  2019\n",
       "601    Nothing Breaks Like a Heart (feat. Miley Cyrus)       Mark Ronson  2019\n",
       "602                                   Kills You Slowly  The Chainsmokers  2019\n",
       "\n",
       "[603 rows x 3 columns]>"
      ]
     },
     "execution_count": 3,
     "metadata": {},
     "output_type": "execute_result"
    }
   ],
   "source": [
    "top_songs_df = top_songs_df[['title', 'artist', 'year']]\n",
    "top_songs_df.head"
   ]
  },
  {
   "cell_type": "code",
   "execution_count": 4,
   "metadata": {},
   "outputs": [],
   "source": [
    "artists = top_songs_df.artist.tolist()\n",
    "song_titles = top_songs_df.title.tolist()\n"
   ]
  },
  {
   "cell_type": "code",
   "execution_count": 5,
   "metadata": {},
   "outputs": [],
   "source": [
    "import requests\n",
    "import xml.etree.ElementTree as ET\n",
    "\n",
    "url = \"http://api.chartlyrics.com/apiv1.asmx/SearchLyricDirect?\""
   ]
  },
  {
   "cell_type": "code",
   "execution_count": null,
   "metadata": {},
   "outputs": [],
   "source": [
    "# lyrics = []\n",
    "\n",
    "# for artist in artists:\n",
    "\n",
    "#     query_url = url +\"artist=\" artists.replace(\" \",\"+\") +\"&song=\" + song_titles.replace(\" \",\"+\")\n",
    "     \n",
    "#     try:\n",
    "#         song_query = requests.get(query_url).xml()\n",
    "#         lyric = song_query[\"GetLyricResult\"][\"Lyric\"]\n",
    "        \n",
    "#         lyrics.append({\"Lyric\": lyric}\n",
    "                      \n",
    "#     except:\n",
    "#         print(\"Lyric not found. Skipping...\")\n",
    "#         pass\n",
    "                      "
   ]
  },
  {
   "cell_type": "code",
   "execution_count": null,
   "metadata": {},
   "outputs": [],
   "source": [
    "# import xml.etree.ElementTree as ET\n",
    "  \n",
    "# def parseXML(xmlfile):\n",
    "  \n",
    "#     # create element tree object\n",
    "#     tree = ET.parse(query_url)\n",
    "  \n",
    "#     # get root element\n",
    "#     root = tree.getroot()\n",
    "  \n",
    "#     # create empty list for news items\n",
    "#     lyrics = []\n",
    "  \n",
    "#     # iterate news items\n",
    "#     for item in root.findall('./channel/item'):\n",
    "  \n",
    "#         # empty news dictionary\n",
    "#         lyric = {}\n",
    "  \n",
    "#         # iterate child elements of item\n",
    "#         for child in item:\n",
    "  \n",
    "#             # special checking for namespace object content:media\n",
    "#             if child.tag == '{http://search.yahoo.com/mrss/}content':\n",
    "#                 news['media'] = child.attrib['url']\n",
    "#             else:\n",
    "#                 news[child.tag] = child.text.encode('utf8')\n",
    "  \n",
    "#         # append news dictionary to news items list\n",
    "#         newsitems.append(news)\n",
    "      \n",
    "#     # return news items list\n",
    "#     return newsitems\n",
    "          "
   ]
  },
  {
   "cell_type": "code",
   "execution_count": 6,
   "metadata": {},
   "outputs": [],
   "source": [
    "from splinter import Browser\n",
    "from bs4 import BeautifulSoup as bs\n",
    "from webdriver_manager.chrome import ChromeDriverManager\n",
    "\n",
    "def init_browser():\n",
    "    executable_path = {\"executable_path\": ChromeDriverManager().install()}\n",
    "    return Browser(\"chrome\", **executable_path, headless=False)\n",
    "\n",
    "lyrics =[]\n",
    "\n",
    "def scrape_info():\n",
    "    browser = init_browser()\n",
    "\n",
    "    for artist in artists:\n",
    "    # Visit visitcostarica.herokuapp.com\n",
    "        query_url = url +\"artist=\" + artists.replace(\" \",\"+\") +\"&song=\" + song_title.replace(\" \",\"+\")\n",
    "        browser.visit(query_url)\n",
    "\n",
    "        time.sleep(1)\n",
    "        \n",
    "        # Scrape page into Soup\n",
    "        html = browser.html\n",
    "        soup = bs(html, \"html.parser\")\n",
    "        \n",
    "        #find lyric\n",
    "        lyric_folder = soup.find('div', id='folder0')\n",
    "        \n",
    "        lyric_span = lyric_folder.find('div', class_='opened')\n",
    "        \n",
    "        lyric_line = lyric_span.find_all('div', class_='line')[9]\n",
    "        \n",
    "        lyric = lyric_line.find_all('span')[1].get_text()\n",
    "        \n",
    "        lyrics.append(lyric)\n",
    "        \n",
    "    return lyrics\n",
    "\n"
   ]
  },
  {
   "cell_type": "code",
   "execution_count": 7,
   "metadata": {},
   "outputs": [
    {
     "name": "stdout",
     "output_type": "stream",
     "text": [
      "[]\n"
     ]
    }
   ],
   "source": [
    "print(lyrics)\n",
    "        \n"
   ]
  },
  {
   "cell_type": "code",
   "execution_count": null,
   "metadata": {},
   "outputs": [],
   "source": []
  }
 ],
 "metadata": {
  "colab": {
   "provenance": []
  },
  "kernelspec": {
   "display_name": "PythonData",
   "language": "python",
   "name": "pythondata"
  },
  "language_info": {
   "codemirror_mode": {
    "name": "ipython",
    "version": 3
   },
   "file_extension": ".py",
   "mimetype": "text/x-python",
   "name": "python",
   "nbconvert_exporter": "python",
   "pygments_lexer": "ipython3",
   "version": "3.7.13"
  }
 },
 "nbformat": 4,
 "nbformat_minor": 1
}
