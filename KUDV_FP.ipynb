{
  "cells": [
    {
      "cell_type": "code",
      "execution_count": null,
      "metadata": {
        "id": "F6boKQMPbaih"
      },
      "outputs": [],
      "source": [
        "import pandas as pd\n",
        "import numpy as np\n",
        "from pathlib import Path\n",
        "import requests"
      ]
    },
    {
      "cell_type": "code",
      "execution_count": null,
      "metadata": {
        "id": "8ttgziAUgINI",
        "outputId": "d50bb8e4-14b3-4ca9-fb73-0dc0542215b0"
      },
      "outputs": [
        {
          "name": "stdout",
          "output_type": "stream",
          "text": [
            "   Unnamed: 0                 title      artist        top genre  year  bpm  \\\n",
            "0           1      Hey, Soul Sister       Train       neo mellow  2010   97   \n",
            "1           2  Love The Way You Lie      Eminem  detroit hip hop  2010   87   \n",
            "2           3               TiK ToK       Kesha        dance pop  2010  120   \n",
            "3           4           Bad Romance   Lady Gaga        dance pop  2010  119   \n",
            "4           5  Just the Way You Are  Bruno Mars              pop  2010  109   \n",
            "\n",
            "   nrgy  dnce  dB  live  val  dur  acous  spch  pop  \n",
            "0    89    67  -4     8   80  217     19     4   83  \n",
            "1    93    75  -5    52   64  263     24    23   82  \n",
            "2    84    76  -3    29   71  200     10    14   80  \n",
            "3    92    70  -4     8   71  295      0     4   79  \n",
            "4    84    64  -5     9   43  221      2     4   78  \n"
          ]
        }
      ],
      "source": [
        "file_path = Path('top10s.csv')\n",
        "top_songs_df = pd.read_csv(file_path, encoding = \"ISO-8859-1\")\n",
        "top_songs_df.head()"
      ]
    },
    {
      "cell_type": "code",
      "execution_count": null,
      "metadata": {
        "id": "MumRlrEOB9pU",
        "outputId": "1ffab98b-18f8-4f31-a405-b768764b40dd"
      },
      "outputs": [
        {
          "data": {
            "text/plain": [
              "<bound method NDFrame.head of                                                  title            artist  year\n",
              "0                                     Hey, Soul Sister             Train  2010\n",
              "1                                 Love The Way You Lie            Eminem  2010\n",
              "2                                              TiK ToK             Kesha  2010\n",
              "3                                          Bad Romance         Lady Gaga  2010\n",
              "4                                 Just the Way You Are        Bruno Mars  2010\n",
              "..                                                 ...               ...   ...\n",
              "598                Find U Again (feat. Camila Cabello)       Mark Ronson  2019\n",
              "599      Cross Me (feat. Chance the Rapper & PnB Rock)        Ed Sheeran  2019\n",
              "600  No Brainer (feat. Justin Bieber, Chance the Ra...         DJ Khaled  2019\n",
              "601    Nothing Breaks Like a Heart (feat. Miley Cyrus)       Mark Ronson  2019\n",
              "602                                   Kills You Slowly  The Chainsmokers  2019\n",
              "\n",
              "[603 rows x 3 columns]>"
            ]
          },
          "execution_count": 8,
          "metadata": {},
          "output_type": "execute_result"
        }
      ],
      "source": [
        "top_songs_df = top_songs_df[['title', 'artist', 'year', 'top genre', 'pop']]\n",
        "top_songs_df.head()"
      ]
    },
    {
      "cell_type": "code",
      "source": [
        "url = \"http://api.chartlyrics.com/apiv1.asmx/SearchLyricDirect?\""
      ],
      "metadata": {
        "id": "CwNvQ4HuCJCJ"
      },
      "execution_count": null,
      "outputs": []
    },
    {
      "cell_type": "code",
      "source": [
        "lyrics_data = []\n",
        "\n",
        "print(\"Beginning Data Retrieval     \")\n",
        "print(\"-----------------------------\")\n",
        "\n",
        "record_count = 1\n",
        "set_count = 1\n",
        "\n",
        "for i, song in enumerate(top_songs_df):\n",
        "\n",
        "    if (i % 50 == 0 and i >= 50):\n",
        "        set_count += 1\n",
        "        record_count = 1\n",
        "        time.sleep(30)\n",
        "\n",
        "    song_url = url + (f\"artist={artist}&song={song}\")\n",
        "\n",
        "    print(f\"Processing Record {record_count} of Set {set_count} | {song}\")\n",
        "    record_count += 1\n",
        "    \n",
        "    try:\n",
        "        song_lyrics = requests.get(song_url)\n",
        "        \n",
        "        # Parse the XML file\n",
        "        \n",
        "        # lyrics_data.append(Parsed data)\n",
        "        \n",
        "    except:\n",
        "        print(\"Song not found. Skipping\")\n",
        "        pass\n",
        "    \n",
        "print(\"-----------------------------\")\n",
        "print(\"Data Retrieval Complete      \")\n",
        "print(\"-----------------------------\")"
      ],
      "metadata": {
        "id": "Bq7Nj4a_CJC_"
      },
      "execution_count": null,
      "outputs": []
    }
  ],
  "metadata": {
    "colab": {
      "provenance": [],
      "collapsed_sections": []
    },
    "kernelspec": {
      "display_name": "mlenv",
      "language": "python",
      "name": "mlenv"
    },
    "language_info": {
      "codemirror_mode": {
        "name": "ipython",
        "version": 3
      },
      "file_extension": ".py",
      "mimetype": "text/x-python",
      "name": "python",
      "nbconvert_exporter": "python",
      "pygments_lexer": "ipython3",
      "version": "3.7.13"
    }
  },
  "nbformat": 4,
  "nbformat_minor": 0
}