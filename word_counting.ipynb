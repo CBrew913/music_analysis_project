{
 "cells": [
  {
   "cell_type": "code",
   "execution_count": 1,
   "id": "31daf95c",
   "metadata": {},
   "outputs": [],
   "source": [
    "import pandas as pd\n",
    "import numpy as np\n",
    "from pathlib import Path"
   ]
  },
  {
   "cell_type": "code",
   "execution_count": 2,
   "id": "f7b819c4",
   "metadata": {},
   "outputs": [
    {
     "data": {
      "text/html": [
       "<div>\n",
       "<style scoped>\n",
       "    .dataframe tbody tr th:only-of-type {\n",
       "        vertical-align: middle;\n",
       "    }\n",
       "\n",
       "    .dataframe tbody tr th {\n",
       "        vertical-align: top;\n",
       "    }\n",
       "\n",
       "    .dataframe thead th {\n",
       "        text-align: right;\n",
       "    }\n",
       "</style>\n",
       "<table border=\"1\" class=\"dataframe\">\n",
       "  <thead>\n",
       "    <tr style=\"text-align: right;\">\n",
       "      <th></th>\n",
       "      <th>Unnamed: 0</th>\n",
       "      <th>title</th>\n",
       "      <th>artist</th>\n",
       "      <th>lyrics</th>\n",
       "    </tr>\n",
       "  </thead>\n",
       "  <tbody>\n",
       "    <tr>\n",
       "      <th>0</th>\n",
       "      <td>0</td>\n",
       "      <td>Hey, Soul Sister</td>\n",
       "      <td>Train</td>\n",
       "      <td>hey he-e-e-e-ey he-e-e-e-ey  your lipstick sta...</td>\n",
       "    </tr>\n",
       "    <tr>\n",
       "      <th>1</th>\n",
       "      <td>1</td>\n",
       "      <td>Love The Way You Lie</td>\n",
       "      <td>Eminem</td>\n",
       "      <td>just gonna stand there and watch me burn? well...</td>\n",
       "    </tr>\n",
       "    <tr>\n",
       "      <th>2</th>\n",
       "      <td>2</td>\n",
       "      <td>TiK ToK</td>\n",
       "      <td>Kesha</td>\n",
       "      <td>wake up in the morning feelin' like p. diddy (...</td>\n",
       "    </tr>\n",
       "    <tr>\n",
       "      <th>3</th>\n",
       "      <td>3</td>\n",
       "      <td>Bad Romance</td>\n",
       "      <td>Lady Gaga</td>\n",
       "      <td>oh-oh-oh-oh-oh, oh-oh-oh-oh, oh-oh-oh caught i...</td>\n",
       "    </tr>\n",
       "    <tr>\n",
       "      <th>4</th>\n",
       "      <td>4</td>\n",
       "      <td>Just the Way You Are</td>\n",
       "      <td>Bruno Mars</td>\n",
       "      <td>oh, oh-oh-oh oh-oh-oh-oh oh-oh-oh  oh, her eye...</td>\n",
       "    </tr>\n",
       "  </tbody>\n",
       "</table>\n",
       "</div>"
      ],
      "text/plain": [
       "   Unnamed: 0                 title      artist  \\\n",
       "0           0      Hey, Soul Sister       Train   \n",
       "1           1  Love The Way You Lie      Eminem   \n",
       "2           2               TiK ToK       Kesha   \n",
       "3           3           Bad Romance   Lady Gaga   \n",
       "4           4  Just the Way You Are  Bruno Mars   \n",
       "\n",
       "                                              lyrics  \n",
       "0  hey he-e-e-e-ey he-e-e-e-ey  your lipstick sta...  \n",
       "1  just gonna stand there and watch me burn? well...  \n",
       "2  wake up in the morning feelin' like p. diddy (...  \n",
       "3  oh-oh-oh-oh-oh, oh-oh-oh-oh, oh-oh-oh caught i...  \n",
       "4  oh, oh-oh-oh oh-oh-oh-oh oh-oh-oh  oh, her eye...  "
      ]
     },
     "execution_count": 2,
     "metadata": {},
     "output_type": "execute_result"
    }
   ],
   "source": [
    "file_path = Path('data/lyric_data_clean.csv')\n",
    "df = pd.read_csv(file_path)\n",
    "df.head()"
   ]
  },
  {
   "cell_type": "code",
   "execution_count": 3,
   "id": "4fb4bc2d",
   "metadata": {
    "scrolled": true
   },
   "outputs": [
    {
     "data": {
      "text/html": [
       "<div>\n",
       "<style scoped>\n",
       "    .dataframe tbody tr th:only-of-type {\n",
       "        vertical-align: middle;\n",
       "    }\n",
       "\n",
       "    .dataframe tbody tr th {\n",
       "        vertical-align: top;\n",
       "    }\n",
       "\n",
       "    .dataframe thead th {\n",
       "        text-align: right;\n",
       "    }\n",
       "</style>\n",
       "<table border=\"1\" class=\"dataframe\">\n",
       "  <thead>\n",
       "    <tr style=\"text-align: right;\">\n",
       "      <th></th>\n",
       "      <th>Unnamed: 0</th>\n",
       "      <th>title</th>\n",
       "      <th>artist</th>\n",
       "      <th>lyrics</th>\n",
       "      <th>total_words</th>\n",
       "    </tr>\n",
       "  </thead>\n",
       "  <tbody>\n",
       "    <tr>\n",
       "      <th>0</th>\n",
       "      <td>0</td>\n",
       "      <td>Hey, Soul Sister</td>\n",
       "      <td>Train</td>\n",
       "      <td>hey he-e-e-e-ey he-e-e-e-ey  your lipstick sta...</td>\n",
       "      <td>295</td>\n",
       "    </tr>\n",
       "    <tr>\n",
       "      <th>1</th>\n",
       "      <td>1</td>\n",
       "      <td>Love The Way You Lie</td>\n",
       "      <td>Eminem</td>\n",
       "      <td>just gonna stand there and watch me burn? well...</td>\n",
       "      <td>740</td>\n",
       "    </tr>\n",
       "    <tr>\n",
       "      <th>2</th>\n",
       "      <td>2</td>\n",
       "      <td>TiK ToK</td>\n",
       "      <td>Kesha</td>\n",
       "      <td>wake up in the morning feelin' like p. diddy (...</td>\n",
       "      <td>478</td>\n",
       "    </tr>\n",
       "    <tr>\n",
       "      <th>3</th>\n",
       "      <td>3</td>\n",
       "      <td>Bad Romance</td>\n",
       "      <td>Lady Gaga</td>\n",
       "      <td>oh-oh-oh-oh-oh, oh-oh-oh-oh, oh-oh-oh caught i...</td>\n",
       "      <td>524</td>\n",
       "    </tr>\n",
       "    <tr>\n",
       "      <th>4</th>\n",
       "      <td>4</td>\n",
       "      <td>Just the Way You Are</td>\n",
       "      <td>Bruno Mars</td>\n",
       "      <td>oh, oh-oh-oh oh-oh-oh-oh oh-oh-oh  oh, her eye...</td>\n",
       "      <td>326</td>\n",
       "    </tr>\n",
       "  </tbody>\n",
       "</table>\n",
       "</div>"
      ],
      "text/plain": [
       "   Unnamed: 0                 title      artist  \\\n",
       "0           0      Hey, Soul Sister       Train   \n",
       "1           1  Love The Way You Lie      Eminem   \n",
       "2           2               TiK ToK       Kesha   \n",
       "3           3           Bad Romance   Lady Gaga   \n",
       "4           4  Just the Way You Are  Bruno Mars   \n",
       "\n",
       "                                              lyrics  total_words  \n",
       "0  hey he-e-e-e-ey he-e-e-e-ey  your lipstick sta...          295  \n",
       "1  just gonna stand there and watch me burn? well...          740  \n",
       "2  wake up in the morning feelin' like p. diddy (...          478  \n",
       "3  oh-oh-oh-oh-oh, oh-oh-oh-oh, oh-oh-oh caught i...          524  \n",
       "4  oh, oh-oh-oh oh-oh-oh-oh oh-oh-oh  oh, her eye...          326  "
      ]
     },
     "execution_count": 3,
     "metadata": {},
     "output_type": "execute_result"
    }
   ],
   "source": [
    "df['total_words'] = df['lyrics'].apply(lambda n: len(n.split()))\n",
    "\n",
    "df.head()"
   ]
  },
  {
   "cell_type": "code",
   "execution_count": 19,
   "id": "85937383",
   "metadata": {
    "scrolled": true
   },
   "outputs": [],
   "source": [
    "# curse_words = ['damn', 'sex', 'ass']\n",
    "\n",
    "# df['total_bad_words'] = df.loc[df['lyrics'].isin(curse_words),'lyrics'].value_counts()\n",
    "\n",
    "# df.head(20)"
   ]
  },
  {
   "cell_type": "code",
   "execution_count": null,
   "id": "99fd5727",
   "metadata": {},
   "outputs": [],
   "source": [
    "# def get_count_dict(data, selected_words):\n",
    "\n",
    "#     count_dict = {}\n",
    "\n",
    "# df['total_bad_words'] = df.loc[df['lyrics'].str.contains('|'.join(curse_words)),'lyrics'].value_counts()\n",
    "\n",
    "#     for i in range(len(counts.index.tolist())):\n",
    "#         count_dict[counts.index.tolist()[i]] = counts[i]\n",
    "\n",
    "#     return count_dict\n",
    "\n",
    "# curse_words = ['nigga', 'shit', 'fuckin', 'bitch', 'ass', 'sex']\n",
    "\n",
    "# get_count_dict(df, curse_words)"
   ]
  },
  {
   "cell_type": "code",
   "execution_count": null,
   "id": "2cd17a97",
   "metadata": {},
   "outputs": [],
   "source": [
    "# df.head(10)"
   ]
  },
  {
   "cell_type": "code",
   "execution_count": null,
   "id": "8b6dff02",
   "metadata": {},
   "outputs": [],
   "source": [
    "# def curse_count(data, curse):\n",
    "    \n",
    "#     p = '('+ curse +')'\n",
    "    \n",
    "#     word_count_df = df['lyrics'].str.extractall(p)\n",
    "    \n",
    "#     return word_count_df[2].value_counts()\n"
   ]
  },
  {
   "cell_type": "code",
   "execution_count": null,
   "id": "731c6e5b",
   "metadata": {},
   "outputs": [],
   "source": [
    "# curse_words = ['nigga', 'shit', 'fuckin', 'bitch', 'ass', 'sex']\n",
    "\n",
    "# curse_count(df['lyrics'], \"fuck\")"
   ]
  },
  {
   "cell_type": "code",
   "execution_count": null,
   "id": "ea13f9c4",
   "metadata": {},
   "outputs": [],
   "source": [
    "# curse_words = ['nigga', 'shit', 'fuckin', 'bitch', 'ass', 'sex']\n",
    "\n",
    "words_df = df.groupby(['lyrics']).size()"
   ]
  },
  {
   "cell_type": "code",
   "execution_count": null,
   "id": "a264e512",
   "metadata": {},
   "outputs": [],
   "source": [
    "display(words_df)"
   ]
  }
 ],
 "metadata": {
  "kernelspec": {
   "display_name": "PythonData",
   "language": "python",
   "name": "pythondata"
  },
  "language_info": {
   "codemirror_mode": {
    "name": "ipython",
    "version": 3
   },
   "file_extension": ".py",
   "mimetype": "text/x-python",
   "name": "python",
   "nbconvert_exporter": "python",
   "pygments_lexer": "ipython3",
   "version": "3.9.12"
  }
 },
 "nbformat": 4,
 "nbformat_minor": 5
}
