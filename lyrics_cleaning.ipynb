{
 "cells": [
  {
   "cell_type": "code",
   "execution_count": 1,
<<<<<<< HEAD
   "id": "62d83827",
   "metadata": {},
   "outputs": [],
   "source": [
    "import pandas as pd\n",
    "import numpy as np\n",
    "from pathlib import Path"
   ]
  },
  {
   "cell_type": "code",
   "execution_count": 2,
   "id": "0489aff6",
=======
   "id": "40d3c350",
>>>>>>> main
   "metadata": {},
   "outputs": [
    {
     "data": {
      "text/html": [
       "<div>\n",
       "<style scoped>\n",
       "    .dataframe tbody tr th:only-of-type {\n",
       "        vertical-align: middle;\n",
       "    }\n",
       "\n",
       "    .dataframe tbody tr th {\n",
       "        vertical-align: top;\n",
       "    }\n",
       "\n",
       "    .dataframe thead th {\n",
       "        text-align: right;\n",
       "    }\n",
       "</style>\n",
       "<table border=\"1\" class=\"dataframe\">\n",
       "  <thead>\n",
       "    <tr style=\"text-align: right;\">\n",
       "      <th></th>\n",
       "      <th>Unnamed: 0</th>\n",
       "      <th>title</th>\n",
       "      <th>artist</th>\n",
       "      <th>lyrics</th>\n",
       "    </tr>\n",
       "  </thead>\n",
       "  <tbody>\n",
       "    <tr>\n",
       "      <th>0</th>\n",
       "      <td>0</td>\n",
       "      <td>Hey, Soul Sister</td>\n",
       "      <td>Train</td>\n",
       "      <td>Hey\\nHe-e-e-e-ey\\nHe-e-e-e-ey\\n\\nYour lipstick...</td>\n",
       "    </tr>\n",
       "    <tr>\n",
       "      <th>1</th>\n",
       "      <td>1</td>\n",
       "      <td>Love The Way You Lie</td>\n",
       "      <td>Eminem</td>\n",
       "      <td>Just gonna stand there and watch me burn?\\nWel...</td>\n",
       "    </tr>\n",
       "    <tr>\n",
       "      <th>2</th>\n",
       "      <td>2</td>\n",
       "      <td>TiK ToK</td>\n",
       "      <td>Kesha</td>\n",
       "      <td>Wake up in the morning feelin' like P. Diddy (...</td>\n",
       "    </tr>\n",
       "    <tr>\n",
       "      <th>3</th>\n",
       "      <td>3</td>\n",
       "      <td>Bad Romance</td>\n",
       "      <td>Lady Gaga</td>\n",
       "      <td>Oh-oh-oh-oh-oh, oh-oh-oh-oh, oh-oh-oh\\nCaught ...</td>\n",
       "    </tr>\n",
       "    <tr>\n",
       "      <th>4</th>\n",
       "      <td>4</td>\n",
       "      <td>Just the Way You Are</td>\n",
       "      <td>Bruno Mars</td>\n",
       "      <td>Oh, oh-oh-oh\\nOh-oh-oh-oh\\nOh-oh-oh\\n\\nOh, her...</td>\n",
       "    </tr>\n",
       "  </tbody>\n",
       "</table>\n",
       "</div>"
      ],
      "text/plain": [
       "   Unnamed: 0                 title      artist  \\\n",
       "0           0      Hey, Soul Sister       Train   \n",
       "1           1  Love The Way You Lie      Eminem   \n",
       "2           2               TiK ToK       Kesha   \n",
       "3           3           Bad Romance   Lady Gaga   \n",
       "4           4  Just the Way You Are  Bruno Mars   \n",
       "\n",
       "                                              lyrics  \n",
       "0  Hey\\nHe-e-e-e-ey\\nHe-e-e-e-ey\\n\\nYour lipstick...  \n",
       "1  Just gonna stand there and watch me burn?\\nWel...  \n",
       "2  Wake up in the morning feelin' like P. Diddy (...  \n",
       "3  Oh-oh-oh-oh-oh, oh-oh-oh-oh, oh-oh-oh\\nCaught ...  \n",
       "4  Oh, oh-oh-oh\\nOh-oh-oh-oh\\nOh-oh-oh\\n\\nOh, her...  "
      ]
     },
<<<<<<< HEAD
     "execution_count": 2,
=======
     "execution_count": 1,
>>>>>>> main
     "metadata": {},
     "output_type": "execute_result"
    }
   ],
   "source": [
<<<<<<< HEAD
    "file_path = Path('data/lyric_data.csv')\n",
    "df = pd.read_csv(file_path, encoding = \"ISO-8859-1\")\n",
=======
    "# Dependencies\n",
    "import pandas as pd\n",
    "\n",
    "# Getting csv file\n",
    "df = pd.read_csv('data/lyric_data.csv')\n",
>>>>>>> main
    "df.head()"
   ]
  },
  {
   "cell_type": "code",
<<<<<<< HEAD
   "execution_count": 3,
   "id": "e185b60c",
   "metadata": {},
   "outputs": [
    {
     "name": "stderr",
     "output_type": "stream",
     "text": [
      "C:\\Users\\jmhhb\\anaconda3\\envs\\PythonData\\lib\\site-packages\\ipykernel_launcher.py:1: FutureWarning: The default value of regex will change from True to False in a future version.\n",
      "  \"\"\"Entry point for launching an IPython kernel.\n"
     ]
    }
   ],
   "source": [
    "df['lyrics'] = df['lyrics'].str.replace(r'^.*\\n*', '')"
   ]
  },
  {
   "cell_type": "code",
   "execution_count": 4,
   "id": "c616f1bf",
   "metadata": {},
   "outputs": [
    {
     "data": {
      "text/html": [
       "<div>\n",
       "<style scoped>\n",
       "    .dataframe tbody tr th:only-of-type {\n",
       "        vertical-align: middle;\n",
       "    }\n",
       "\n",
       "    .dataframe tbody tr th {\n",
       "        vertical-align: top;\n",
       "    }\n",
       "\n",
       "    .dataframe thead th {\n",
       "        text-align: right;\n",
       "    }\n",
       "</style>\n",
       "<table border=\"1\" class=\"dataframe\">\n",
       "  <thead>\n",
       "    <tr style=\"text-align: right;\">\n",
       "      <th></th>\n",
       "      <th>Unnamed: 0</th>\n",
       "      <th>title</th>\n",
       "      <th>artist</th>\n",
       "      <th>lyrics</th>\n",
       "    </tr>\n",
       "  </thead>\n",
       "  <tbody>\n",
       "    <tr>\n",
       "      <th>0</th>\n",
       "      <td>0</td>\n",
       "      <td>Hey, Soul Sister</td>\n",
       "      <td>Train</td>\n",
       "      <td>He-e-e-e-ey\\nHe-e-e-e-ey\\n\\nYour lipstick stai...</td>\n",
       "    </tr>\n",
       "    <tr>\n",
       "      <th>1</th>\n",
       "      <td>1</td>\n",
       "      <td>Love The Way You Lie</td>\n",
       "      <td>Eminem</td>\n",
       "      <td>Well, that's all right because I like the way ...</td>\n",
       "    </tr>\n",
       "    <tr>\n",
       "      <th>2</th>\n",
       "      <td>2</td>\n",
       "      <td>TiK ToK</td>\n",
       "      <td>Kesha</td>\n",
       "      <td>Grab my glasses, I'm out the door, I'm gonna h...</td>\n",
       "    </tr>\n",
       "    <tr>\n",
       "      <th>3</th>\n",
       "      <td>3</td>\n",
       "      <td>Bad Romance</td>\n",
       "      <td>Lady Gaga</td>\n",
       "      <td>Caught in a bad romance\\nOh-oh-oh-oh-oh, oh-oh...</td>\n",
       "    </tr>\n",
       "    <tr>\n",
       "      <th>4</th>\n",
       "      <td>4</td>\n",
       "      <td>Just the Way You Are</td>\n",
       "      <td>Bruno Mars</td>\n",
       "      <td>Oh-oh-oh-oh\\nOh-oh-oh\\n\\nOh, her eyes, her eye...</td>\n",
       "    </tr>\n",
       "    <tr>\n",
       "      <th>5</th>\n",
       "      <td>5</td>\n",
       "      <td>Baby</td>\n",
       "      <td>Justin Bieber</td>\n",
       "      <td>Oh, woah-oh-oh-oh, oh\\nOh, woah, oh-oh-oh, oh,...</td>\n",
       "    </tr>\n",
       "    <tr>\n",
       "      <th>6</th>\n",
       "      <td>6</td>\n",
       "      <td>Dynamite</td>\n",
       "      <td>Taio Cruz</td>\n",
       "      <td>I hit the floor 'cause that's my plans, plans,...</td>\n",
       "    </tr>\n",
       "    <tr>\n",
       "      <th>7</th>\n",
       "      <td>7</td>\n",
       "      <td>Secrets</td>\n",
       "      <td>OneRepublic</td>\n",
       "      <td>Something to get off my chest\\nMy life gets ki...</td>\n",
       "    </tr>\n",
       "    <tr>\n",
       "      <th>8</th>\n",
       "      <td>8</td>\n",
       "      <td>Empire State of Mind (Part II) Broken Down</td>\n",
       "      <td>Alicia Keys</td>\n",
       "      <td>Ooooh, New York\\n\\nGrew up in a town that is f...</td>\n",
       "    </tr>\n",
       "    <tr>\n",
       "      <th>9</th>\n",
       "      <td>9</td>\n",
       "      <td>Only Girl (In The World)</td>\n",
       "      <td>Rihanna</td>\n",
       "      <td>La-la-la-la\\nLa-la-la-la (Uh, yeah)\\nLa-la-la-...</td>\n",
       "    </tr>\n",
       "    <tr>\n",
       "      <th>10</th>\n",
       "      <td>10</td>\n",
       "      <td>Club Can't Handle Me (feat. David Guetta)</td>\n",
       "      <td>Flo Rida</td>\n",
       "      <td>To make 'em stop and stare as I zone out\\nThe ...</td>\n",
       "    </tr>\n",
       "    <tr>\n",
       "      <th>11</th>\n",
       "      <td>11</td>\n",
       "      <td>Marry You</td>\n",
       "      <td>Bruno Mars</td>\n",
       "      <td>We're looking for something dumb to do\\nHey ba...</td>\n",
       "    </tr>\n",
       "    <tr>\n",
       "      <th>12</th>\n",
       "      <td>12</td>\n",
       "      <td>Cooler Than Me - Single Mix</td>\n",
       "      <td>Mike Posner</td>\n",
       "      <td>I would already have you up under my arm\\nI us...</td>\n",
       "    </tr>\n",
       "    <tr>\n",
       "      <th>13</th>\n",
       "      <td>13</td>\n",
       "      <td>Telephone</td>\n",
       "      <td>Lady Gaga</td>\n",
       "      <td>I have got no service in the club, you say, sa...</td>\n",
       "    </tr>\n",
       "    <tr>\n",
       "      <th>14</th>\n",
       "      <td>14</td>\n",
       "      <td>Like A G6</td>\n",
       "      <td>Far East Movement</td>\n",
       "      <td>When we drink we do it right, gettin' slizard\\...</td>\n",
       "    </tr>\n",
       "    <tr>\n",
       "      <th>15</th>\n",
       "      <td>15</td>\n",
       "      <td>OMG (feat. will.i.am)</td>\n",
       "      <td>Usher</td>\n",
       "      <td>Adele - Rolling In The Deep\\nBlack Eyed Peas -...</td>\n",
       "    </tr>\n",
       "    <tr>\n",
       "      <th>16</th>\n",
       "      <td>16</td>\n",
       "      <td>Eenie Meenie</td>\n",
       "      <td>Sean Kingston</td>\n",
       "      <td>Catch a bad chick by her toe\\nIf she holla let...</td>\n",
       "    </tr>\n",
       "    <tr>\n",
       "      <th>17</th>\n",
       "      <td>17</td>\n",
       "      <td>The Time (Dirty Bit)</td>\n",
       "      <td>The Black Eyed Peas</td>\n",
       "      <td>Big mega radio smasher\\n\\nI've had the time of...</td>\n",
       "    </tr>\n",
       "    <tr>\n",
       "      <th>18</th>\n",
       "      <td>18</td>\n",
       "      <td>Alejandro</td>\n",
       "      <td>Lady Gaga</td>\n",
       "      <td>But I just can't be with you like this anymore...</td>\n",
       "    </tr>\n",
       "    <tr>\n",
       "      <th>19</th>\n",
       "      <td>19</td>\n",
       "      <td>Your Love Is My Drug</td>\n",
       "      <td>Kesha</td>\n",
       "      <td>Or maybe just need some sleep\\nI got a sick ob...</td>\n",
       "    </tr>\n",
       "  </tbody>\n",
       "</table>\n",
       "</div>"
      ],
      "text/plain": [
       "    Unnamed: 0                                       title  \\\n",
       "0            0                            Hey, Soul Sister   \n",
       "1            1                        Love The Way You Lie   \n",
       "2            2                                     TiK ToK   \n",
       "3            3                                 Bad Romance   \n",
       "4            4                        Just the Way You Are   \n",
       "5            5                                        Baby   \n",
       "6            6                                    Dynamite   \n",
       "7            7                                     Secrets   \n",
       "8            8  Empire State of Mind (Part II) Broken Down   \n",
       "9            9                    Only Girl (In The World)   \n",
       "10          10   Club Can't Handle Me (feat. David Guetta)   \n",
       "11          11                                   Marry You   \n",
       "12          12                 Cooler Than Me - Single Mix   \n",
       "13          13                                   Telephone   \n",
       "14          14                                   Like A G6   \n",
       "15          15                       OMG (feat. will.i.am)   \n",
       "16          16                                Eenie Meenie   \n",
       "17          17                        The Time (Dirty Bit)   \n",
       "18          18                                   Alejandro   \n",
       "19          19                        Your Love Is My Drug   \n",
       "\n",
       "                 artist                                             lyrics  \n",
       "0                 Train  He-e-e-e-ey\\nHe-e-e-e-ey\\n\\nYour lipstick stai...  \n",
       "1                Eminem  Well, that's all right because I like the way ...  \n",
       "2                 Kesha  Grab my glasses, I'm out the door, I'm gonna h...  \n",
       "3             Lady Gaga  Caught in a bad romance\\nOh-oh-oh-oh-oh, oh-oh...  \n",
       "4            Bruno Mars  Oh-oh-oh-oh\\nOh-oh-oh\\n\\nOh, her eyes, her eye...  \n",
       "5         Justin Bieber  Oh, woah-oh-oh-oh, oh\\nOh, woah, oh-oh-oh, oh,...  \n",
       "6             Taio Cruz  I hit the floor 'cause that's my plans, plans,...  \n",
       "7           OneRepublic  Something to get off my chest\\nMy life gets ki...  \n",
       "8           Alicia Keys  Ooooh, New York\\n\\nGrew up in a town that is f...  \n",
       "9               Rihanna  La-la-la-la\\nLa-la-la-la (Uh, yeah)\\nLa-la-la-...  \n",
       "10             Flo Rida  To make 'em stop and stare as I zone out\\nThe ...  \n",
       "11           Bruno Mars  We're looking for something dumb to do\\nHey ba...  \n",
       "12          Mike Posner  I would already have you up under my arm\\nI us...  \n",
       "13            Lady Gaga  I have got no service in the club, you say, sa...  \n",
       "14    Far East Movement  When we drink we do it right, gettin' slizard\\...  \n",
       "15                Usher  Adele - Rolling In The Deep\\nBlack Eyed Peas -...  \n",
       "16        Sean Kingston  Catch a bad chick by her toe\\nIf she holla let...  \n",
       "17  The Black Eyed Peas  Big mega radio smasher\\n\\nI've had the time of...  \n",
       "18            Lady Gaga  But I just can't be with you like this anymore...  \n",
       "19                Kesha  Or maybe just need some sleep\\nI got a sick ob...  "
      ]
     },
     "execution_count": 4,
     "metadata": {},
     "output_type": "execute_result"
    }
   ],
   "source": [
    "lyric_df.head(20)"
   ]
  },
  {
   "cell_type": "code",
   "execution_count": 5,
   "id": "bf71055d",
=======
   "execution_count": 2,
   "id": "956d228d",
>>>>>>> main
   "metadata": {},
   "outputs": [
    {
     "data": {
      "text/html": [
       "<div>\n",
       "<style scoped>\n",
       "    .dataframe tbody tr th:only-of-type {\n",
       "        vertical-align: middle;\n",
       "    }\n",
       "\n",
       "    .dataframe tbody tr th {\n",
       "        vertical-align: top;\n",
       "    }\n",
       "\n",
       "    .dataframe thead th {\n",
       "        text-align: right;\n",
       "    }\n",
       "</style>\n",
       "<table border=\"1\" class=\"dataframe\">\n",
       "  <thead>\n",
       "    <tr style=\"text-align: right;\">\n",
       "      <th></th>\n",
       "      <th>title</th>\n",
       "      <th>artist</th>\n",
       "      <th>lyrics</th>\n",
       "    </tr>\n",
       "  </thead>\n",
       "  <tbody>\n",
       "    <tr>\n",
       "      <th>0</th>\n",
       "      <td>Hey, Soul Sister</td>\n",
       "      <td>Train</td>\n",
<<<<<<< HEAD
       "      <td>He-e-e-e-ey\\nHe-e-e-e-ey\\n\\nYour lipstick stai...</td>\n",
=======
       "      <td>Hey\\nHe-e-e-e-ey\\nHe-e-e-e-ey\\n\\nYour lipstick...</td>\n",
>>>>>>> main
       "    </tr>\n",
       "    <tr>\n",
       "      <th>1</th>\n",
       "      <td>Love The Way You Lie</td>\n",
       "      <td>Eminem</td>\n",
<<<<<<< HEAD
       "      <td>Well, that's all right because I like the way ...</td>\n",
=======
       "      <td>Just gonna stand there and watch me burn?\\nWel...</td>\n",
>>>>>>> main
       "    </tr>\n",
       "    <tr>\n",
       "      <th>2</th>\n",
       "      <td>TiK ToK</td>\n",
       "      <td>Kesha</td>\n",
<<<<<<< HEAD
       "      <td>Grab my glasses, I'm out the door, I'm gonna h...</td>\n",
=======
       "      <td>Wake up in the morning feelin' like P. Diddy (...</td>\n",
>>>>>>> main
       "    </tr>\n",
       "    <tr>\n",
       "      <th>3</th>\n",
       "      <td>Bad Romance</td>\n",
       "      <td>Lady Gaga</td>\n",
<<<<<<< HEAD
       "      <td>Caught in a bad romance\\nOh-oh-oh-oh-oh, oh-oh...</td>\n",
=======
       "      <td>Oh-oh-oh-oh-oh, oh-oh-oh-oh, oh-oh-oh\\nCaught ...</td>\n",
>>>>>>> main
       "    </tr>\n",
       "    <tr>\n",
       "      <th>4</th>\n",
       "      <td>Just the Way You Are</td>\n",
       "      <td>Bruno Mars</td>\n",
<<<<<<< HEAD
       "      <td>Oh-oh-oh-oh\\nOh-oh-oh\\n\\nOh, her eyes, her eye...</td>\n",
=======
       "      <td>Oh, oh-oh-oh\\nOh-oh-oh-oh\\nOh-oh-oh\\n\\nOh, her...</td>\n",
>>>>>>> main
       "    </tr>\n",
       "  </tbody>\n",
       "</table>\n",
       "</div>"
      ],
      "text/plain": [
       "                  title      artist  \\\n",
       "0      Hey, Soul Sister       Train   \n",
       "1  Love The Way You Lie      Eminem   \n",
       "2               TiK ToK       Kesha   \n",
       "3           Bad Romance   Lady Gaga   \n",
       "4  Just the Way You Are  Bruno Mars   \n",
       "\n",
       "                                              lyrics  \n",
<<<<<<< HEAD
       "0  He-e-e-e-ey\\nHe-e-e-e-ey\\n\\nYour lipstick stai...  \n",
       "1  Well, that's all right because I like the way ...  \n",
       "2  Grab my glasses, I'm out the door, I'm gonna h...  \n",
       "3  Caught in a bad romance\\nOh-oh-oh-oh-oh, oh-oh...  \n",
       "4  Oh-oh-oh-oh\\nOh-oh-oh\\n\\nOh, her eyes, her eye...  "
      ]
     },
     "execution_count": 5,
=======
       "0  Hey\\nHe-e-e-e-ey\\nHe-e-e-e-ey\\n\\nYour lipstick...  \n",
       "1  Just gonna stand there and watch me burn?\\nWel...  \n",
       "2  Wake up in the morning feelin' like P. Diddy (...  \n",
       "3  Oh-oh-oh-oh-oh, oh-oh-oh-oh, oh-oh-oh\\nCaught ...  \n",
       "4  Oh, oh-oh-oh\\nOh-oh-oh-oh\\nOh-oh-oh\\n\\nOh, her...  "
      ]
     },
     "execution_count": 2,
>>>>>>> main
     "metadata": {},
     "output_type": "execute_result"
    }
   ],
   "source": [
    "# Dropping unnamed column\n",
    "df = df.drop(['Unnamed: 0'], axis=1)\n",
    "df.head()"
   ]
  },
  {
   "cell_type": "code",
<<<<<<< HEAD
   "execution_count": 6,
   "id": "df54760b",
=======
   "execution_count": 3,
   "id": "c513fc91",
>>>>>>> main
   "metadata": {},
   "outputs": [
    {
     "data": {
      "text/plain": [
       "15"
      ]
     },
<<<<<<< HEAD
     "execution_count": 6,
=======
     "execution_count": 3,
>>>>>>> main
     "metadata": {},
     "output_type": "execute_result"
    }
   ],
   "source": [
    "# Checking count of rows containing NaN\n",
    "df['lyrics'].isnull().sum()"
   ]
  },
  {
   "cell_type": "code",
<<<<<<< HEAD
   "execution_count": 7,
   "id": "1cce8d80",
=======
   "execution_count": 4,
   "id": "a8f1d597",
>>>>>>> main
   "metadata": {},
   "outputs": [
    {
     "data": {
      "text/plain": [
       "0"
      ]
     },
<<<<<<< HEAD
     "execution_count": 7,
=======
     "execution_count": 4,
>>>>>>> main
     "metadata": {},
     "output_type": "execute_result"
    }
   ],
   "source": [
    "# Removing rows containing NaN\n",
<<<<<<< HEAD
    "df = lyric_df.dropna()\n",
=======
    "df = df.dropna()\n",
>>>>>>> main
    "df['lyrics'].isnull().sum()"
   ]
  },
  {
   "cell_type": "code",
<<<<<<< HEAD
   "execution_count": 8,
   "id": "cf919501",
=======
   "execution_count": 5,
   "id": "00bfafba",
>>>>>>> main
   "metadata": {},
   "outputs": [
    {
     "data": {
      "text/html": [
       "<div>\n",
       "<style scoped>\n",
       "    .dataframe tbody tr th:only-of-type {\n",
       "        vertical-align: middle;\n",
       "    }\n",
       "\n",
       "    .dataframe tbody tr th {\n",
       "        vertical-align: top;\n",
       "    }\n",
       "\n",
       "    .dataframe thead th {\n",
       "        text-align: right;\n",
       "    }\n",
       "</style>\n",
       "<table border=\"1\" class=\"dataframe\">\n",
       "  <thead>\n",
       "    <tr style=\"text-align: right;\">\n",
       "      <th></th>\n",
       "      <th>title</th>\n",
       "      <th>artist</th>\n",
       "      <th>lyrics</th>\n",
       "    </tr>\n",
       "  </thead>\n",
       "  <tbody>\n",
       "    <tr>\n",
       "      <th>0</th>\n",
       "      <td>Hey, Soul Sister</td>\n",
       "      <td>Train</td>\n",
<<<<<<< HEAD
       "      <td>He-e-e-e-ey He-e-e-e-ey  Your lipstick stains On the front lobe of my left-side brains I knew I wouldn't forget you And so I went and let you blow my mind Your sweet moonbeam The smell of you in every single dream I dream I knew when we collided You're the one I have decided who's one of my kind Hey, soul sister Ain't that Mr. Mister on the radio, stereo? The way you move ain't fair, you know Hey, soul sister I don't want to miss a single thing you do Tonight  Hey He-e-e-e-ey He-e-e-e-ey  Just in time I'm so glad you have a one-track mind like me You gave my life direction A game show love connection we can't deny I'm so obsessed My heart is bound to beat right out my untrimmed chest I believe in you, like a virgin, you're Madonna And I'm always gonna wanna blow your mind  Hey, soul sister Ain't that Mr. Mister on the radio, stereo? The way you move ain't fair, you know Hey, soul sister I don't want to miss a single thing you do Tonight See Train LiveGet tickets as low as $150You might also like The way you can cut a rug Watching you's the only drug I need So gangster, I'm so thug You're the only one I'm dreaming of, you see I can be myself now finally In fact, there's nothing I can't be I want the world to see you be, with me  Hey, soul sister Ain't that Mr. Mister on the radio, stereo? The way you move ain't fair, you know Hey, soul sister I don't want to miss a single thing you do tonight Hey, soul sister I don't want to miss a single thing you do Tonight  Hey He-e-e-e-ey He-e-e-e-ey Tonight Hey He-e-e-e-ey He-e-e-e-ey Tonight64Embed</td>\n",
=======
       "      <td>Hey He-e-e-e-ey He-e-e-e-ey  Your lipstick stains On the front lobe of my left-side brains I knew I wouldn't forget you And so I went and let you blow my mind Your sweet moonbeam The smell of you in every single dream I dream I knew when we collided You're the one I have decided who's one of my kind Hey, soul sister Ain't that Mr. Mister on the radio, stereo? The way you move ain't fair, you know Hey, soul sister I don't want to miss a single thing you do Tonight  Hey He-e-e-e-ey He-e-e-e-ey  Just in time I'm so glad you have a one-track mind like me You gave my life direction A game show love connection we can't deny I'm so obsessed My heart is bound to beat right out my untrimmed chest I believe in you, like a virgin, you're Madonna And I'm always gonna wanna blow your mind  Hey, soul sister Ain't that Mr. Mister on the radio, stereo? The way you move ain't fair, you know Hey, soul sister I don't want to miss a single thing you do Tonight See Train LiveGet tickets as low as $150You might also like The way you can cut a rug Watching you's the only drug I need So gangster, I'm so thug You're the only one I'm dreaming of, you see I can be myself now finally In fact, there's nothing I can't be I want the world to see you be, with me  Hey, soul sister Ain't that Mr. Mister on the radio, stereo? The way you move ain't fair, you know Hey, soul sister I don't want to miss a single thing you do tonight Hey, soul sister I don't want to miss a single thing you do Tonight  Hey He-e-e-e-ey He-e-e-e-ey Tonight Hey He-e-e-e-ey He-e-e-e-ey Tonight64Embed</td>\n",
>>>>>>> main
       "    </tr>\n",
       "    <tr>\n",
       "      <th>1</th>\n",
       "      <td>Love The Way You Lie</td>\n",
       "      <td>Eminem</td>\n",
<<<<<<< HEAD
       "      <td>Well, that's all right because I like the way it hurts Just gonna stand there and hear me cry? Well, that's all right because I love the way you lie I love the way you lie  I can't tell you what it really is, I can only tell you what it feels like And right now, there's a steel knife in my windpipe I can't breathe, but I still fight while I can fight As long as the wrong feels right, it's like I'm in flight High off her love, drunk from her hate It's like I'm huffin' paint and I love her, the more I suffer, I suffocate And right before I'm about to drown, she resuscitates me She fuckin' hates me, and I love it â \"Wait! Where you going?\" â \"I'm leaving you!\" â \"No, you ain't! Come back!\" â We're runnin' right back, here we go again It's so insane, 'cause when it's goin' good, it's goin' great I'm Superman with the wind at his back, she's Lois Lane But when it's bad, it's awful, I feel so ashamed I snapped, \"Who's that dude?\", I don't even know his name I laid hands on her, I'll never stoop so low again I guess I don't know my own strength Just gonna stand there and watch me burn? Well, that's all right because I like the way it hurts Just gonna stand there and hear me cry? Well, that's all right because I love the way you lie I love the way you lie I love the way you lie You ever love somebody so much you can barely breathe when you're with 'em? You meet, and neither one of you even know what hit 'em Got that warm fuzzy feelin', yeah, them chills, used to get 'em Now you're gettin' fuckin' sick of lookin' at 'em? You swore you'd never hit 'em, never do nothin' to hurt 'em Now you're in each other's face Spewin' venom in your words when you spit 'em You push, pull each other's hair, scratch, claw, bit 'em Throw 'em down, pin 'em So lost in the moments when you're in 'em It's the rage that took over, it controls you both So they say you're best to go your separate ways Guess that they don't know ya 'Cause today, that was yesterday, yesterday is over It's a different day, sound like broken records playin' over But you promised her, next time you'll show restraint You don't get another chance, life is no Nintendo game But you lied again Now you get to watch her leave out the window Guess that's why they call it window pane You might also like Just gonna stand there and watch me burn? Well, that's all right because I like the way it hurts Just gonna stand there and hear me cry? Well, that's all right because I love the way you lie I love the way you lie I love the way you lie  Now, I know we said things, did things that we didn't mean Then we fall back into the same patterns, same routine But your temper's just as bad as mine is, you're the same as me When it comes to love you're just as blinded, baby, please Come back, it wasn't you, baby, it was me Maybe our relationship isn't as crazy as it seems Maybe that's what happens when a tornado meets a volcano All I know is I love you too much to walk away though Come inside, pick up your bags off the sidewalk Don't you hear sincerity in my voice when I talk? Told you this is my fault, look me in the eyeball Next time I'm pissed, I'll aim my fist at the drywall Next time? There won't be no next time! I apologize, even though I know it's lies I'm tired of the games, I just want her back, I know I'm a liar If she ever tries to fuckin' leave again, I'ma tie her To the bed and set this house on fire, just gonnaâ Just gonna stand there and watch me burn? Well, that's all right because I like the way it hurts Just gonna stand there and hear me cry? Well, that's all right because I love the way you lie I love the way you lie I love the way you lie303Embed</td>\n",
=======
       "      <td>Just gonna stand there and watch me burn? Well, that's all right because I like the way it hurts Just gonna stand there and hear me cry? Well, that's all right because I love the way you lie I love the way you lie  I can't tell you what it really is, I can only tell you what it feels like And right now, there's a steel knife in my windpipe I can't breathe, but I still fight while I can fight As long as the wrong feels right, it's like I'm in flight High off her love, drunk from her hate It's like I'm huffin' paint and I love her, the more I suffer, I suffocate And right before I'm about to drown, she resuscitates me She fuckin' hates me, and I love it — \"Wait! Where you going?\" — \"I'm leaving you!\" — \"No, you ain't! Come back!\" — We're runnin' right back, here we go again It's so insane, 'cause when it's goin' good, it's goin' great I'm Superman with the wind at his back, she's Lois Lane But when it's bad, it's awful, I feel so ashamed I snapped, \"Who's that dude?\", I don't even know his name I laid hands on her, I'll never stoop so low again I guess I don't know my own strength Just gonna stand there and watch me burn? Well, that's all right because I like the way it hurts Just gonna stand there and hear me cry? Well, that's all right because I love the way you lie I love the way you lie I love the way you lie You ever love somebody so much you can barely breathe when you're with 'em? You meet, and neither one of you even know what hit 'em Got that warm fuzzy feelin', yeah, them chills, used to get 'em Now you're gettin' fuckin' sick of lookin' at 'em? You swore you'd never hit 'em, never do nothin' to hurt 'em Now you're in each other's face Spewin' venom in your words when you spit 'em You push, pull each other's hair, scratch, claw, bit 'em Throw 'em down, pin 'em So lost in the moments when you're in 'em It's the rage that took over, it controls you both So they say you're best to go your separate ways Guess that they don't know ya 'Cause today, that was yesterday, yesterday is over It's a different day, sound like broken records playin' over But you promised her, next time you'll show restraint You don't get another chance, life is no Nintendo game But you lied again Now you get to watch her leave out the window Guess that's why they call it window pane You might also like Just gonna stand there and watch me burn? Well, that's all right because I like the way it hurts Just gonna stand there and hear me cry? Well, that's all right because I love the way you lie I love the way you lie I love the way you lie  Now, I know we said things, did things that we didn't mean Then we fall back into the same patterns, same routine But your temper's just as bad as mine is, you're the same as me When it comes to love you're just as blinded, baby, please Come back, it wasn't you, baby, it was me Maybe our relationship isn't as crazy as it seems Maybe that's what happens when a tornado meets a volcano All I know is I love you too much to walk away though Come inside, pick up your bags off the sidewalk Don't you hear sincerity in my voice when I talk? Told you this is my fault, look me in the eyeball Next time I'm pissed, I'll aim my fist at the drywall Next time? There won't be no next time! I apologize, even though I know it's lies I'm tired of the games, I just want her back, I know I'm a liar If she ever tries to fuckin' leave again, I'ma tie her To the bed and set this house on fire, just gonna— Just gonna stand there and watch me burn? Well, that's all right because I like the way it hurts Just gonna stand there and hear me cry? Well, that's all right because I love the way you lie I love the way you lie I love the way you lie303Embed</td>\n",
>>>>>>> main
       "    </tr>\n",
       "    <tr>\n",
       "      <th>2</th>\n",
       "      <td>TiK ToK</td>\n",
       "      <td>Kesha</td>\n",
<<<<<<< HEAD
       "      <td>Grab my glasses, I'm out the door, I'm gonna hit this city (Let's go) Before I leave, brush my teeth with a bottle of Jack 'Cause when I leave for the night, I ain't coming back  I'm talkin' pedicure on our toes, toes, tryin' on all our clothes, clothes Boys blowin' up our phones, phones Drop-toppin', playin' our favorite CDs, pullin' up to the parties Tryna get a little bit tipsy Don't stop, make it pop, DJ, blow my speakers up Tonight, I'ma fight 'til we see the sunlight Tick tock on the clock, but the party don't stop, no Oh, woah, woah, oh, oh, woah, woah, oh Don't stop, make it pop, DJ, blow my speakers up Tonight, I'ma fight 'til we see the sunlight Tick tock on the clock, but the party don't stop, no Oh, woah, woah, oh, oh, woah, woah, oh  Ain't got a care in the world, but got plenty of beer Ain't got no money in my pocket, but I'm already here And now the dudes are linin' up, 'cause they hear we got swagger But we kick 'em to the curb unless they look like Mick Jagger  I'm talkin' 'bout everybody gettin' crunk, crunk, boys try to touch my junk, junk Gonna smack him if he gettin' too drunk, drunk No-now we go until they kick us out, out or the police shut us down, down Police shut us down, down, po-po shut us down  Don't stop, make it pop, DJ, blow my speakers up Tonight, I'ma fight 'til we see the sunlight Tick tock on the clock, but the party don't stop, no Oh, woah, woah, oh, oh, woah, woah, oh Don't stop, make it pop, DJ, blow my speakers up Tonight, I'ma fight 'til we see the sunlight Tick tock on the clock, but the party don't stop, no Oh, woah, woah, oh, oh, woah, woah, oh You might also like (DJ) You build me up, you break me down My heart, it pounds, yeah, you got me With my hands up, you got me now You got that sound, yeah, you got me (DJ) You build me up, you break me down My heart, it pounds, yeah, you got me With my hands up, put your hands up Put your hands up  Now, the party don't start 'til I walk in  Don't stop, make it pop, DJ, blow my speakers up Tonight, I'ma fight 'til we see the sunlight Tick tock on the clock, but the party don't stop, no Oh, woah, woah, oh, oh, woah, woah, oh Don't stop, make it pop, DJ, blow my speakers up Tonight, I'ma fight 'til we see the sunlight Tick tock on the clock, but the party don't stop, no Oh, woah, woah, oh, oh, woah, woah, oh58Embed</td>\n",
=======
       "      <td>Wake up in the morning feelin' like P. Diddy (Hey, what up, girl?) Grab my glasses, I'm out the door, I'm gonna hit this city (Let's go) Before I leave, brush my teeth with a bottle of Jack 'Cause when I leave for the night, I ain't coming back  I'm talkin' pedicure on our toes, toes, tryin' on all our clothes, clothes Boys blowin' up our phones, phones Drop-toppin', playin' our favorite CDs, pullin' up to the parties Tryna get a little bit tipsy Don't stop, make it pop, DJ, blow my speakers up Tonight, I'ma fight 'til we see the sunlight Tick tock on the clock, but the party don't stop, no Oh, woah, woah, oh, oh, woah, woah, oh Don't stop, make it pop, DJ, blow my speakers up Tonight, I'ma fight 'til we see the sunlight Tick tock on the clock, but the party don't stop, no Oh, woah, woah, oh, oh, woah, woah, oh  Ain't got a care in the world, but got plenty of beer Ain't got no money in my pocket, but I'm already here And now the dudes are linin' up, 'cause they hear we got swagger But we kick 'em to the curb unless they look like Mick Jagger  I'm talkin' 'bout everybody gettin' crunk, crunk, boys try to touch my junk, junk Gonna smack him if he gettin' too drunk, drunk No-now we go until they kick us out, out or the police shut us down, down Police shut us down, down, po-po shut us down  Don't stop, make it pop, DJ, blow my speakers up Tonight, I'ma fight 'til we see the sunlight Tick tock on the clock, but the party don't stop, no Oh, woah, woah, oh, oh, woah, woah, oh Don't stop, make it pop, DJ, blow my speakers up Tonight, I'ma fight 'til we see the sunlight Tick tock on the clock, but the party don't stop, no Oh, woah, woah, oh, oh, woah, woah, oh You might also like (DJ) You build me up, you break me down My heart, it pounds, yeah, you got me With my hands up, you got me now You got that sound, yeah, you got me (DJ) You build me up, you break me down My heart, it pounds, yeah, you got me With my hands up, put your hands up Put your hands up  Now, the party don't start 'til I walk in  Don't stop, make it pop, DJ, blow my speakers up Tonight, I'ma fight 'til we see the sunlight Tick tock on the clock, but the party don't stop, no Oh, woah, woah, oh, oh, woah, woah, oh Don't stop, make it pop, DJ, blow my speakers up Tonight, I'ma fight 'til we see the sunlight Tick tock on the clock, but the party don't stop, no Oh, woah, woah, oh, oh, woah, woah, oh58Embed</td>\n",
>>>>>>> main
       "    </tr>\n",
       "  </tbody>\n",
       "</table>\n",
       "</div>"
      ],
      "text/plain": [
       "                  title  artist  \\\n",
       "0      Hey, Soul Sister   Train   \n",
       "1  Love The Way You Lie  Eminem   \n",
       "2               TiK ToK   Kesha   \n",
       "\n",
<<<<<<< HEAD
       "                                                                                                                                                                                                                                                                                                                                                                                                                                                                                                                                                                                                                                                                                                                                                                                                                                                                                                                                                                                                                                                                                                                                                                                                                                                                                                                                                                                                                                                                                                                                                                                                                                                                                                                                                                                                                                                                                                                                                                                                                                                                                                                                                                                                                                                                                                                                                                                                                                                                                                                                                                                                                                                                                                                                                                                                                                                                                                                                                                                                                                                                                                                                                                                                                                                                                                                                                                                                                                                                                                                                                                                                                                                                                                                                                                                                             lyrics  \n",
       "0                                                                                                                                                                                                                                                                                                                                                                                                                                                                                                                                                                                                                                                                                                                                                                                                                                                                                                                                                                                                                                                                                                                                                                                                                                                                                                                                                                                                                                                                                                                                                                                                                                                                                                                                                                                                                                                                                                                                                                                                                                                                                                                                                                                        He-e-e-e-ey He-e-e-e-ey  Your lipstick stains On the front lobe of my left-side brains I knew I wouldn't forget you And so I went and let you blow my mind Your sweet moonbeam The smell of you in every single dream I dream I knew when we collided You're the one I have decided who's one of my kind Hey, soul sister Ain't that Mr. Mister on the radio, stereo? The way you move ain't fair, you know Hey, soul sister I don't want to miss a single thing you do Tonight  Hey He-e-e-e-ey He-e-e-e-ey  Just in time I'm so glad you have a one-track mind like me You gave my life direction A game show love connection we can't deny I'm so obsessed My heart is bound to beat right out my untrimmed chest I believe in you, like a virgin, you're Madonna And I'm always gonna wanna blow your mind  Hey, soul sister Ain't that Mr. Mister on the radio, stereo? The way you move ain't fair, you know Hey, soul sister I don't want to miss a single thing you do Tonight See Train LiveGet tickets as low as $150You might also like The way you can cut a rug Watching you's the only drug I need So gangster, I'm so thug You're the only one I'm dreaming of, you see I can be myself now finally In fact, there's nothing I can't be I want the world to see you be, with me  Hey, soul sister Ain't that Mr. Mister on the radio, stereo? The way you move ain't fair, you know Hey, soul sister I don't want to miss a single thing you do tonight Hey, soul sister I don't want to miss a single thing you do Tonight  Hey He-e-e-e-ey He-e-e-e-ey Tonight Hey He-e-e-e-ey He-e-e-e-ey Tonight64Embed  \n",
       "1  Well, that's all right because I like the way it hurts Just gonna stand there and hear me cry? Well, that's all right because I love the way you lie I love the way you lie  I can't tell you what it really is, I can only tell you what it feels like And right now, there's a steel knife in my windpipe I can't breathe, but I still fight while I can fight As long as the wrong feels right, it's like I'm in flight High off her love, drunk from her hate It's like I'm huffin' paint and I love her, the more I suffer, I suffocate And right before I'm about to drown, she resuscitates me She fuckin' hates me, and I love it â \"Wait! Where you going?\" â \"I'm leaving you!\" â \"No, you ain't! Come back!\" â We're runnin' right back, here we go again It's so insane, 'cause when it's goin' good, it's goin' great I'm Superman with the wind at his back, she's Lois Lane But when it's bad, it's awful, I feel so ashamed I snapped, \"Who's that dude?\", I don't even know his name I laid hands on her, I'll never stoop so low again I guess I don't know my own strength Just gonna stand there and watch me burn? Well, that's all right because I like the way it hurts Just gonna stand there and hear me cry? Well, that's all right because I love the way you lie I love the way you lie I love the way you lie You ever love somebody so much you can barely breathe when you're with 'em? You meet, and neither one of you even know what hit 'em Got that warm fuzzy feelin', yeah, them chills, used to get 'em Now you're gettin' fuckin' sick of lookin' at 'em? You swore you'd never hit 'em, never do nothin' to hurt 'em Now you're in each other's face Spewin' venom in your words when you spit 'em You push, pull each other's hair, scratch, claw, bit 'em Throw 'em down, pin 'em So lost in the moments when you're in 'em It's the rage that took over, it controls you both So they say you're best to go your separate ways Guess that they don't know ya 'Cause today, that was yesterday, yesterday is over It's a different day, sound like broken records playin' over But you promised her, next time you'll show restraint You don't get another chance, life is no Nintendo game But you lied again Now you get to watch her leave out the window Guess that's why they call it window pane You might also like Just gonna stand there and watch me burn? Well, that's all right because I like the way it hurts Just gonna stand there and hear me cry? Well, that's all right because I love the way you lie I love the way you lie I love the way you lie  Now, I know we said things, did things that we didn't mean Then we fall back into the same patterns, same routine But your temper's just as bad as mine is, you're the same as me When it comes to love you're just as blinded, baby, please Come back, it wasn't you, baby, it was me Maybe our relationship isn't as crazy as it seems Maybe that's what happens when a tornado meets a volcano All I know is I love you too much to walk away though Come inside, pick up your bags off the sidewalk Don't you hear sincerity in my voice when I talk? Told you this is my fault, look me in the eyeball Next time I'm pissed, I'll aim my fist at the drywall Next time? There won't be no next time! I apologize, even though I know it's lies I'm tired of the games, I just want her back, I know I'm a liar If she ever tries to fuckin' leave again, I'ma tie her To the bed and set this house on fire, just gonnaâ Just gonna stand there and watch me burn? Well, that's all right because I like the way it hurts Just gonna stand there and hear me cry? Well, that's all right because I love the way you lie I love the way you lie I love the way you lie303Embed  \n",
       "2                                                                                                                                                                                                                                                                                                                                                                                                                                                                                                                                                                                                                                                                                                                                                                                                                                                                                                                                                                                                                                                                                                                                                                                                                                                                                                                                                                                 Grab my glasses, I'm out the door, I'm gonna hit this city (Let's go) Before I leave, brush my teeth with a bottle of Jack 'Cause when I leave for the night, I ain't coming back  I'm talkin' pedicure on our toes, toes, tryin' on all our clothes, clothes Boys blowin' up our phones, phones Drop-toppin', playin' our favorite CDs, pullin' up to the parties Tryna get a little bit tipsy Don't stop, make it pop, DJ, blow my speakers up Tonight, I'ma fight 'til we see the sunlight Tick tock on the clock, but the party don't stop, no Oh, woah, woah, oh, oh, woah, woah, oh Don't stop, make it pop, DJ, blow my speakers up Tonight, I'ma fight 'til we see the sunlight Tick tock on the clock, but the party don't stop, no Oh, woah, woah, oh, oh, woah, woah, oh  Ain't got a care in the world, but got plenty of beer Ain't got no money in my pocket, but I'm already here And now the dudes are linin' up, 'cause they hear we got swagger But we kick 'em to the curb unless they look like Mick Jagger  I'm talkin' 'bout everybody gettin' crunk, crunk, boys try to touch my junk, junk Gonna smack him if he gettin' too drunk, drunk No-now we go until they kick us out, out or the police shut us down, down Police shut us down, down, po-po shut us down  Don't stop, make it pop, DJ, blow my speakers up Tonight, I'ma fight 'til we see the sunlight Tick tock on the clock, but the party don't stop, no Oh, woah, woah, oh, oh, woah, woah, oh Don't stop, make it pop, DJ, blow my speakers up Tonight, I'ma fight 'til we see the sunlight Tick tock on the clock, but the party don't stop, no Oh, woah, woah, oh, oh, woah, woah, oh You might also like (DJ) You build me up, you break me down My heart, it pounds, yeah, you got me With my hands up, you got me now You got that sound, yeah, you got me (DJ) You build me up, you break me down My heart, it pounds, yeah, you got me With my hands up, put your hands up Put your hands up  Now, the party don't start 'til I walk in  Don't stop, make it pop, DJ, blow my speakers up Tonight, I'ma fight 'til we see the sunlight Tick tock on the clock, but the party don't stop, no Oh, woah, woah, oh, oh, woah, woah, oh Don't stop, make it pop, DJ, blow my speakers up Tonight, I'ma fight 'til we see the sunlight Tick tock on the clock, but the party don't stop, no Oh, woah, woah, oh, oh, woah, woah, oh58Embed  "
=======
       "                                                                                                                                                                                                                                                                                                                                                                                                                                                                                                                                                                                                                                                                                                                                                                                                                                                                                                                                                                                                                                                                                                                                                                                                                                                                                                                                                                                                                                                                                                                                                                                                                                                                                                                                                                                                                                                                                                                                                                                                                                                                                                                                                                                                                                                                                                                                                                                                                                                                                                                                                                                                                                                                                                                                                                                                                                                                                                                                                                                                                                                                                                                                                                                                                                                                                                                                                                                                                                                                                                                                                                                                                                                                                                                                                                                                                                             lyrics  \n",
       "0                                                                                                                                                                                                                                                                                                                                                                                                                                                                                                                                                                                                                                                                                                                                                                                                                                                                                                                                                                                                                                                                                                                                                                                                                                                                                                                                                                                                                                                                                                                                                                                                                                                                                                                                                                                                                                                                                                                                                                                                                                                                                                                                                                                                                    Hey He-e-e-e-ey He-e-e-e-ey  Your lipstick stains On the front lobe of my left-side brains I knew I wouldn't forget you And so I went and let you blow my mind Your sweet moonbeam The smell of you in every single dream I dream I knew when we collided You're the one I have decided who's one of my kind Hey, soul sister Ain't that Mr. Mister on the radio, stereo? The way you move ain't fair, you know Hey, soul sister I don't want to miss a single thing you do Tonight  Hey He-e-e-e-ey He-e-e-e-ey  Just in time I'm so glad you have a one-track mind like me You gave my life direction A game show love connection we can't deny I'm so obsessed My heart is bound to beat right out my untrimmed chest I believe in you, like a virgin, you're Madonna And I'm always gonna wanna blow your mind  Hey, soul sister Ain't that Mr. Mister on the radio, stereo? The way you move ain't fair, you know Hey, soul sister I don't want to miss a single thing you do Tonight See Train LiveGet tickets as low as $150You might also like The way you can cut a rug Watching you's the only drug I need So gangster, I'm so thug You're the only one I'm dreaming of, you see I can be myself now finally In fact, there's nothing I can't be I want the world to see you be, with me  Hey, soul sister Ain't that Mr. Mister on the radio, stereo? The way you move ain't fair, you know Hey, soul sister I don't want to miss a single thing you do tonight Hey, soul sister I don't want to miss a single thing you do Tonight  Hey He-e-e-e-ey He-e-e-e-ey Tonight Hey He-e-e-e-ey He-e-e-e-ey Tonight64Embed  \n",
       "1  Just gonna stand there and watch me burn? Well, that's all right because I like the way it hurts Just gonna stand there and hear me cry? Well, that's all right because I love the way you lie I love the way you lie  I can't tell you what it really is, I can only tell you what it feels like And right now, there's a steel knife in my windpipe I can't breathe, but I still fight while I can fight As long as the wrong feels right, it's like I'm in flight High off her love, drunk from her hate It's like I'm huffin' paint and I love her, the more I suffer, I suffocate And right before I'm about to drown, she resuscitates me She fuckin' hates me, and I love it — \"Wait! Where you going?\" — \"I'm leaving you!\" — \"No, you ain't! Come back!\" — We're runnin' right back, here we go again It's so insane, 'cause when it's goin' good, it's goin' great I'm Superman with the wind at his back, she's Lois Lane But when it's bad, it's awful, I feel so ashamed I snapped, \"Who's that dude?\", I don't even know his name I laid hands on her, I'll never stoop so low again I guess I don't know my own strength Just gonna stand there and watch me burn? Well, that's all right because I like the way it hurts Just gonna stand there and hear me cry? Well, that's all right because I love the way you lie I love the way you lie I love the way you lie You ever love somebody so much you can barely breathe when you're with 'em? You meet, and neither one of you even know what hit 'em Got that warm fuzzy feelin', yeah, them chills, used to get 'em Now you're gettin' fuckin' sick of lookin' at 'em? You swore you'd never hit 'em, never do nothin' to hurt 'em Now you're in each other's face Spewin' venom in your words when you spit 'em You push, pull each other's hair, scratch, claw, bit 'em Throw 'em down, pin 'em So lost in the moments when you're in 'em It's the rage that took over, it controls you both So they say you're best to go your separate ways Guess that they don't know ya 'Cause today, that was yesterday, yesterday is over It's a different day, sound like broken records playin' over But you promised her, next time you'll show restraint You don't get another chance, life is no Nintendo game But you lied again Now you get to watch her leave out the window Guess that's why they call it window pane You might also like Just gonna stand there and watch me burn? Well, that's all right because I like the way it hurts Just gonna stand there and hear me cry? Well, that's all right because I love the way you lie I love the way you lie I love the way you lie  Now, I know we said things, did things that we didn't mean Then we fall back into the same patterns, same routine But your temper's just as bad as mine is, you're the same as me When it comes to love you're just as blinded, baby, please Come back, it wasn't you, baby, it was me Maybe our relationship isn't as crazy as it seems Maybe that's what happens when a tornado meets a volcano All I know is I love you too much to walk away though Come inside, pick up your bags off the sidewalk Don't you hear sincerity in my voice when I talk? Told you this is my fault, look me in the eyeball Next time I'm pissed, I'll aim my fist at the drywall Next time? There won't be no next time! I apologize, even though I know it's lies I'm tired of the games, I just want her back, I know I'm a liar If she ever tries to fuckin' leave again, I'ma tie her To the bed and set this house on fire, just gonna— Just gonna stand there and watch me burn? Well, that's all right because I like the way it hurts Just gonna stand there and hear me cry? Well, that's all right because I love the way you lie I love the way you lie I love the way you lie303Embed  \n",
       "2                                                                                                                                                                                                                                                                                                                                                                                                                                                                                                                                                                                                                                                                                                                                                                                                                                                                                                                                                                                                                                                                                                                                                                                                                                                                                                                                              Wake up in the morning feelin' like P. Diddy (Hey, what up, girl?) Grab my glasses, I'm out the door, I'm gonna hit this city (Let's go) Before I leave, brush my teeth with a bottle of Jack 'Cause when I leave for the night, I ain't coming back  I'm talkin' pedicure on our toes, toes, tryin' on all our clothes, clothes Boys blowin' up our phones, phones Drop-toppin', playin' our favorite CDs, pullin' up to the parties Tryna get a little bit tipsy Don't stop, make it pop, DJ, blow my speakers up Tonight, I'ma fight 'til we see the sunlight Tick tock on the clock, but the party don't stop, no Oh, woah, woah, oh, oh, woah, woah, oh Don't stop, make it pop, DJ, blow my speakers up Tonight, I'ma fight 'til we see the sunlight Tick tock on the clock, but the party don't stop, no Oh, woah, woah, oh, oh, woah, woah, oh  Ain't got a care in the world, but got plenty of beer Ain't got no money in my pocket, but I'm already here And now the dudes are linin' up, 'cause they hear we got swagger But we kick 'em to the curb unless they look like Mick Jagger  I'm talkin' 'bout everybody gettin' crunk, crunk, boys try to touch my junk, junk Gonna smack him if he gettin' too drunk, drunk No-now we go until they kick us out, out or the police shut us down, down Police shut us down, down, po-po shut us down  Don't stop, make it pop, DJ, blow my speakers up Tonight, I'ma fight 'til we see the sunlight Tick tock on the clock, but the party don't stop, no Oh, woah, woah, oh, oh, woah, woah, oh Don't stop, make it pop, DJ, blow my speakers up Tonight, I'ma fight 'til we see the sunlight Tick tock on the clock, but the party don't stop, no Oh, woah, woah, oh, oh, woah, woah, oh You might also like (DJ) You build me up, you break me down My heart, it pounds, yeah, you got me With my hands up, you got me now You got that sound, yeah, you got me (DJ) You build me up, you break me down My heart, it pounds, yeah, you got me With my hands up, put your hands up Put your hands up  Now, the party don't start 'til I walk in  Don't stop, make it pop, DJ, blow my speakers up Tonight, I'ma fight 'til we see the sunlight Tick tock on the clock, but the party don't stop, no Oh, woah, woah, oh, oh, woah, woah, oh Don't stop, make it pop, DJ, blow my speakers up Tonight, I'ma fight 'til we see the sunlight Tick tock on the clock, but the party don't stop, no Oh, woah, woah, oh, oh, woah, woah, oh58Embed  "
>>>>>>> main
      ]
     },
     "metadata": {},
     "output_type": "display_data"
    }
   ],
   "source": [
    "# Removing \\n from lyric text\n",
    "df['lyrics'] = df['lyrics'].replace(r'\\n',' ', regex=True) \n",
    "    \n",
    "with pd.option_context('display.max_colwidth', None):\n",
    "  display(df.head(3))"
   ]
  },
  {
   "cell_type": "code",
<<<<<<< HEAD
   "execution_count": 9,
   "id": "f7a8477c",
=======
   "execution_count": 6,
   "id": "9e34da83",
>>>>>>> main
   "metadata": {},
   "outputs": [
    {
     "name": "stderr",
     "output_type": "stream",
     "text": [
<<<<<<< HEAD
      "C:\\Users\\jmhhb\\anaconda3\\envs\\PythonData\\lib\\site-packages\\ipykernel_launcher.py:2: FutureWarning: The default value of regex will change from True to False in a future version.\n",
=======
      "/opt/anaconda3/envs/PythonData/lib/python3.7/site-packages/ipykernel_launcher.py:2: FutureWarning: The default value of regex will change from True to False in a future version.\n",
>>>>>>> main
      "  \n"
     ]
    },
    {
     "data": {
      "text/html": [
       "<div>\n",
       "<style scoped>\n",
       "    .dataframe tbody tr th:only-of-type {\n",
       "        vertical-align: middle;\n",
       "    }\n",
       "\n",
       "    .dataframe tbody tr th {\n",
       "        vertical-align: top;\n",
       "    }\n",
       "\n",
       "    .dataframe thead th {\n",
       "        text-align: right;\n",
       "    }\n",
       "</style>\n",
       "<table border=\"1\" class=\"dataframe\">\n",
       "  <thead>\n",
       "    <tr style=\"text-align: right;\">\n",
       "      <th></th>\n",
       "      <th>title</th>\n",
       "      <th>artist</th>\n",
       "      <th>lyrics</th>\n",
       "    </tr>\n",
       "  </thead>\n",
       "  <tbody>\n",
       "    <tr>\n",
       "      <th>0</th>\n",
       "      <td>Hey, Soul Sister</td>\n",
       "      <td>Train</td>\n",
<<<<<<< HEAD
       "      <td>Heeeeey Heeeeey  Your lipstick stains On the front lobe of my leftside brains I knew I wouldnt forget you And so I went and let you blow my mind Your sweet moonbeam The smell of you in every single dream I dream I knew when we collided Youre the one I have decided whos one of my kind Hey soul sister Aint that Mr Mister on the radio stereo The way you move aint fair you know Hey soul sister I dont want to miss a single thing you do Tonight  Hey Heeeeey Heeeeey  Just in time Im so glad you have a onetrack mind like me You gave my life direction A game show love connection we cant deny Im so obsessed My heart is bound to beat right out my untrimmed chest I believe in you like a virgin youre Madonna And Im always gonna wanna blow your mind  Hey soul sister Aint that Mr Mister on the radio stereo The way you move aint fair you know Hey soul sister I dont want to miss a single thing you do Tonight See Train LiveGet tickets as low as 150You might also like The way you can cut a rug Watching yous the only drug I need So gangster Im so thug Youre the only one Im dreaming of you see I can be myself now finally In fact theres nothing I cant be I want the world to see you be with me  Hey soul sister Aint that Mr Mister on the radio stereo The way you move aint fair you know Hey soul sister I dont want to miss a single thing you do tonight Hey soul sister I dont want to miss a single thing you do Tonight  Hey Heeeeey Heeeeey Tonight Hey Heeeeey Heeeeey Tonight64Embed</td>\n",
=======
       "      <td>Hey Heeeeey Heeeeey  Your lipstick stains On the front lobe of my leftside brains I knew I wouldnt forget you And so I went and let you blow my mind Your sweet moonbeam The smell of you in every single dream I dream I knew when we collided Youre the one I have decided whos one of my kind Hey soul sister Aint that Mr Mister on the radio stereo The way you move aint fair you know Hey soul sister I dont want to miss a single thing you do Tonight  Hey Heeeeey Heeeeey  Just in time Im so glad you have a onetrack mind like me You gave my life direction A game show love connection we cant deny Im so obsessed My heart is bound to beat right out my untrimmed chest I believe in you like a virgin youre Madonna And Im always gonna wanna blow your mind  Hey soul sister Aint that Mr Mister on the radio stereo The way you move aint fair you know Hey soul sister I dont want to miss a single thing you do Tonight See Train LiveGet tickets as low as 150You might also like The way you can cut a rug Watching yous the only drug I need So gangster Im so thug Youre the only one Im dreaming of you see I can be myself now finally In fact theres nothing I cant be I want the world to see you be with me  Hey soul sister Aint that Mr Mister on the radio stereo The way you move aint fair you know Hey soul sister I dont want to miss a single thing you do tonight Hey soul sister I dont want to miss a single thing you do Tonight  Hey Heeeeey Heeeeey Tonight Hey Heeeeey Heeeeey Tonight64Embed</td>\n",
>>>>>>> main
       "    </tr>\n",
       "    <tr>\n",
       "      <th>1</th>\n",
       "      <td>Love The Way You Lie</td>\n",
       "      <td>Eminem</td>\n",
<<<<<<< HEAD
       "      <td>Well thats all right because I like the way it hurts Just gonna stand there and hear me cry Well thats all right because I love the way you lie I love the way you lie  I cant tell you what it really is I can only tell you what it feels like And right now theres a steel knife in my windpipe I cant breathe but I still fight while I can fight As long as the wrong feels right its like Im in flight High off her love drunk from her hate Its like Im huffin paint and I love her the more I suffer I suffocate And right before Im about to drown she resuscitates me She fuckin hates me and I love it â Wait Where you going â Im leaving you â No you aint Come back â Were runnin right back here we go again Its so insane cause when its goin good its goin great Im Superman with the wind at his back shes Lois Lane But when its bad its awful I feel so ashamed I snapped Whos that dude I dont even know his name I laid hands on her Ill never stoop so low again I guess I dont know my own strength Just gonna stand there and watch me burn Well thats all right because I like the way it hurts Just gonna stand there and hear me cry Well thats all right because I love the way you lie I love the way you lie I love the way you lie You ever love somebody so much you can barely breathe when youre with em You meet and neither one of you even know what hit em Got that warm fuzzy feelin yeah them chills used to get em Now youre gettin fuckin sick of lookin at em You swore youd never hit em never do nothin to hurt em Now youre in each others face Spewin venom in your words when you spit em You push pull each others hair scratch claw bit em Throw em down pin em So lost in the moments when youre in em Its the rage that took over it controls you both So they say youre best to go your separate ways Guess that they dont know ya Cause today that was yesterday yesterday is over Its a different day sound like broken records playin over But you promised her next time youll show restraint You dont get another chance life is no Nintendo game But you lied again Now you get to watch her leave out the window Guess thats why they call it window pane You might also like Just gonna stand there and watch me burn Well thats all right because I like the way it hurts Just gonna stand there and hear me cry Well thats all right because I love the way you lie I love the way you lie I love the way you lie  Now I know we said things did things that we didnt mean Then we fall back into the same patterns same routine But your tempers just as bad as mine is youre the same as me When it comes to love youre just as blinded baby please Come back it wasnt you baby it was me Maybe our relationship isnt as crazy as it seems Maybe thats what happens when a tornado meets a volcano All I know is I love you too much to walk away though Come inside pick up your bags off the sidewalk Dont you hear sincerity in my voice when I talk Told you this is my fault look me in the eyeball Next time Im pissed Ill aim my fist at the drywall Next time There wont be no next time I apologize even though I know its lies Im tired of the games I just want her back I know Im a liar If she ever tries to fuckin leave again Ima tie her To the bed and set this house on fire just gonnaâ Just gonna stand there and watch me burn Well thats all right because I like the way it hurts Just gonna stand there and hear me cry Well thats all right because I love the way you lie I love the way you lie I love the way you lie303Embed</td>\n",
=======
       "      <td>Just gonna stand there and watch me burn Well thats all right because I like the way it hurts Just gonna stand there and hear me cry Well thats all right because I love the way you lie I love the way you lie  I cant tell you what it really is I can only tell you what it feels like And right now theres a steel knife in my windpipe I cant breathe but I still fight while I can fight As long as the wrong feels right its like Im in flight High off her love drunk from her hate Its like Im huffin paint and I love her the more I suffer I suffocate And right before Im about to drown she resuscitates me She fuckin hates me and I love it  Wait Where you going  Im leaving you  No you aint Come back  Were runnin right back here we go again Its so insane cause when its goin good its goin great Im Superman with the wind at his back shes Lois Lane But when its bad its awful I feel so ashamed I snapped Whos that dude I dont even know his name I laid hands on her Ill never stoop so low again I guess I dont know my own strength Just gonna stand there and watch me burn Well thats all right because I like the way it hurts Just gonna stand there and hear me cry Well thats all right because I love the way you lie I love the way you lie I love the way you lie You ever love somebody so much you can barely breathe when youre with em You meet and neither one of you even know what hit em Got that warm fuzzy feelin yeah them chills used to get em Now youre gettin fuckin sick of lookin at em You swore youd never hit em never do nothin to hurt em Now youre in each others face Spewin venom in your words when you spit em You push pull each others hair scratch claw bit em Throw em down pin em So lost in the moments when youre in em Its the rage that took over it controls you both So they say youre best to go your separate ways Guess that they dont know ya Cause today that was yesterday yesterday is over Its a different day sound like broken records playin over But you promised her next time youll show restraint You dont get another chance life is no Nintendo game But you lied again Now you get to watch her leave out the window Guess thats why they call it window pane You might also like Just gonna stand there and watch me burn Well thats all right because I like the way it hurts Just gonna stand there and hear me cry Well thats all right because I love the way you lie I love the way you lie I love the way you lie  Now I know we said things did things that we didnt mean Then we fall back into the same patterns same routine But your tempers just as bad as mine is youre the same as me When it comes to love youre just as blinded baby please Come back it wasnt you baby it was me Maybe our relationship isnt as crazy as it seems Maybe thats what happens when a tornado meets a volcano All I know is I love you too much to walk away though Come inside pick up your bags off the sidewalk Dont you hear sincerity in my voice when I talk Told you this is my fault look me in the eyeball Next time Im pissed Ill aim my fist at the drywall Next time There wont be no next time I apologize even though I know its lies Im tired of the games I just want her back I know Im a liar If she ever tries to fuckin leave again Ima tie her To the bed and set this house on fire just gonna Just gonna stand there and watch me burn Well thats all right because I like the way it hurts Just gonna stand there and hear me cry Well thats all right because I love the way you lie I love the way you lie I love the way you lie303Embed</td>\n",
>>>>>>> main
       "    </tr>\n",
       "    <tr>\n",
       "      <th>2</th>\n",
       "      <td>TiK ToK</td>\n",
       "      <td>Kesha</td>\n",
<<<<<<< HEAD
       "      <td>Grab my glasses Im out the door Im gonna hit this city Lets go Before I leave brush my teeth with a bottle of Jack Cause when I leave for the night I aint coming back  Im talkin pedicure on our toes toes tryin on all our clothes clothes Boys blowin up our phones phones Droptoppin playin our favorite CDs pullin up to the parties Tryna get a little bit tipsy Dont stop make it pop DJ blow my speakers up Tonight Ima fight til we see the sunlight Tick tock on the clock but the party dont stop no Oh woah woah oh oh woah woah oh Dont stop make it pop DJ blow my speakers up Tonight Ima fight til we see the sunlight Tick tock on the clock but the party dont stop no Oh woah woah oh oh woah woah oh  Aint got a care in the world but got plenty of beer Aint got no money in my pocket but Im already here And now the dudes are linin up cause they hear we got swagger But we kick em to the curb unless they look like Mick Jagger  Im talkin bout everybody gettin crunk crunk boys try to touch my junk junk Gonna smack him if he gettin too drunk drunk Nonow we go until they kick us out out or the police shut us down down Police shut us down down popo shut us down  Dont stop make it pop DJ blow my speakers up Tonight Ima fight til we see the sunlight Tick tock on the clock but the party dont stop no Oh woah woah oh oh woah woah oh Dont stop make it pop DJ blow my speakers up Tonight Ima fight til we see the sunlight Tick tock on the clock but the party dont stop no Oh woah woah oh oh woah woah oh You might also like DJ You build me up you break me down My heart it pounds yeah you got me With my hands up you got me now You got that sound yeah you got me DJ You build me up you break me down My heart it pounds yeah you got me With my hands up put your hands up Put your hands up  Now the party dont start til I walk in  Dont stop make it pop DJ blow my speakers up Tonight Ima fight til we see the sunlight Tick tock on the clock but the party dont stop no Oh woah woah oh oh woah woah oh Dont stop make it pop DJ blow my speakers up Tonight Ima fight til we see the sunlight Tick tock on the clock but the party dont stop no Oh woah woah oh oh woah woah oh58Embed</td>\n",
=======
       "      <td>Wake up in the morning feelin like P Diddy Hey what up girl Grab my glasses Im out the door Im gonna hit this city Lets go Before I leave brush my teeth with a bottle of Jack Cause when I leave for the night I aint coming back  Im talkin pedicure on our toes toes tryin on all our clothes clothes Boys blowin up our phones phones Droptoppin playin our favorite CDs pullin up to the parties Tryna get a little bit tipsy Dont stop make it pop DJ blow my speakers up Tonight Ima fight til we see the sunlight Tick tock on the clock but the party dont stop no Oh woah woah oh oh woah woah oh Dont stop make it pop DJ blow my speakers up Tonight Ima fight til we see the sunlight Tick tock on the clock but the party dont stop no Oh woah woah oh oh woah woah oh  Aint got a care in the world but got plenty of beer Aint got no money in my pocket but Im already here And now the dudes are linin up cause they hear we got swagger But we kick em to the curb unless they look like Mick Jagger  Im talkin bout everybody gettin crunk crunk boys try to touch my junk junk Gonna smack him if he gettin too drunk drunk Nonow we go until they kick us out out or the police shut us down down Police shut us down down popo shut us down  Dont stop make it pop DJ blow my speakers up Tonight Ima fight til we see the sunlight Tick tock on the clock but the party dont stop no Oh woah woah oh oh woah woah oh Dont stop make it pop DJ blow my speakers up Tonight Ima fight til we see the sunlight Tick tock on the clock but the party dont stop no Oh woah woah oh oh woah woah oh You might also like DJ You build me up you break me down My heart it pounds yeah you got me With my hands up you got me now You got that sound yeah you got me DJ You build me up you break me down My heart it pounds yeah you got me With my hands up put your hands up Put your hands up  Now the party dont start til I walk in  Dont stop make it pop DJ blow my speakers up Tonight Ima fight til we see the sunlight Tick tock on the clock but the party dont stop no Oh woah woah oh oh woah woah oh Dont stop make it pop DJ blow my speakers up Tonight Ima fight til we see the sunlight Tick tock on the clock but the party dont stop no Oh woah woah oh oh woah woah oh58Embed</td>\n",
>>>>>>> main
       "    </tr>\n",
       "  </tbody>\n",
       "</table>\n",
       "</div>"
      ],
      "text/plain": [
       "                  title  artist  \\\n",
       "0      Hey, Soul Sister   Train   \n",
       "1  Love The Way You Lie  Eminem   \n",
       "2               TiK ToK   Kesha   \n",
       "\n",
<<<<<<< HEAD
       "                                                                                                                                                                                                                                                                                                                                                                                                                                                                                                                                                                                                                                                                                                                                                                                                                                                                                                                                                                                                                                                                                                                                                                                                                                                                                                                                                                                                                                                                                                                                                                                                                                                                                                                                                                                                                                                                                                                                                                                                                                                                                                                                                                                                                                                                                                                                                                                                                                                                                                                                                                                                                                                                                                                                                                                                                                                                                                                                                                                                                                                                                                                                                                                                                                                                                                                                                                                                                                                                                                                                                                                                                        lyrics  \n",
       "0                                                                                                                                                                                                                                                                                                                                                                                                                                                                                                                                                                                                                                                                                                                                                                                                                                                                                                                                                                                                                                                                                                                                                                                                                                                                                                                                                                                                                                                                                                                                                                                                                                                                                                                                                                                                                                                                                                                                                                                                                                                                                       Heeeeey Heeeeey  Your lipstick stains On the front lobe of my leftside brains I knew I wouldnt forget you And so I went and let you blow my mind Your sweet moonbeam The smell of you in every single dream I dream I knew when we collided Youre the one I have decided whos one of my kind Hey soul sister Aint that Mr Mister on the radio stereo The way you move aint fair you know Hey soul sister I dont want to miss a single thing you do Tonight  Hey Heeeeey Heeeeey  Just in time Im so glad you have a onetrack mind like me You gave my life direction A game show love connection we cant deny Im so obsessed My heart is bound to beat right out my untrimmed chest I believe in you like a virgin youre Madonna And Im always gonna wanna blow your mind  Hey soul sister Aint that Mr Mister on the radio stereo The way you move aint fair you know Hey soul sister I dont want to miss a single thing you do Tonight See Train LiveGet tickets as low as 150You might also like The way you can cut a rug Watching yous the only drug I need So gangster Im so thug Youre the only one Im dreaming of you see I can be myself now finally In fact theres nothing I cant be I want the world to see you be with me  Hey soul sister Aint that Mr Mister on the radio stereo The way you move aint fair you know Hey soul sister I dont want to miss a single thing you do tonight Hey soul sister I dont want to miss a single thing you do Tonight  Hey Heeeeey Heeeeey Tonight Hey Heeeeey Heeeeey Tonight64Embed  \n",
       "1  Well thats all right because I like the way it hurts Just gonna stand there and hear me cry Well thats all right because I love the way you lie I love the way you lie  I cant tell you what it really is I can only tell you what it feels like And right now theres a steel knife in my windpipe I cant breathe but I still fight while I can fight As long as the wrong feels right its like Im in flight High off her love drunk from her hate Its like Im huffin paint and I love her the more I suffer I suffocate And right before Im about to drown she resuscitates me She fuckin hates me and I love it â Wait Where you going â Im leaving you â No you aint Come back â Were runnin right back here we go again Its so insane cause when its goin good its goin great Im Superman with the wind at his back shes Lois Lane But when its bad its awful I feel so ashamed I snapped Whos that dude I dont even know his name I laid hands on her Ill never stoop so low again I guess I dont know my own strength Just gonna stand there and watch me burn Well thats all right because I like the way it hurts Just gonna stand there and hear me cry Well thats all right because I love the way you lie I love the way you lie I love the way you lie You ever love somebody so much you can barely breathe when youre with em You meet and neither one of you even know what hit em Got that warm fuzzy feelin yeah them chills used to get em Now youre gettin fuckin sick of lookin at em You swore youd never hit em never do nothin to hurt em Now youre in each others face Spewin venom in your words when you spit em You push pull each others hair scratch claw bit em Throw em down pin em So lost in the moments when youre in em Its the rage that took over it controls you both So they say youre best to go your separate ways Guess that they dont know ya Cause today that was yesterday yesterday is over Its a different day sound like broken records playin over But you promised her next time youll show restraint You dont get another chance life is no Nintendo game But you lied again Now you get to watch her leave out the window Guess thats why they call it window pane You might also like Just gonna stand there and watch me burn Well thats all right because I like the way it hurts Just gonna stand there and hear me cry Well thats all right because I love the way you lie I love the way you lie I love the way you lie  Now I know we said things did things that we didnt mean Then we fall back into the same patterns same routine But your tempers just as bad as mine is youre the same as me When it comes to love youre just as blinded baby please Come back it wasnt you baby it was me Maybe our relationship isnt as crazy as it seems Maybe thats what happens when a tornado meets a volcano All I know is I love you too much to walk away though Come inside pick up your bags off the sidewalk Dont you hear sincerity in my voice when I talk Told you this is my fault look me in the eyeball Next time Im pissed Ill aim my fist at the drywall Next time There wont be no next time I apologize even though I know its lies Im tired of the games I just want her back I know Im a liar If she ever tries to fuckin leave again Ima tie her To the bed and set this house on fire just gonnaâ Just gonna stand there and watch me burn Well thats all right because I like the way it hurts Just gonna stand there and hear me cry Well thats all right because I love the way you lie I love the way you lie I love the way you lie303Embed  \n",
       "2                                                                                                                                                                                                                                                                                                                                                                                                                                                                                                                                                                                                                                                                                                                                                                                                                                                                                                                                                                                                                                                                                                                                                                                                                                                                                                                                                                      Grab my glasses Im out the door Im gonna hit this city Lets go Before I leave brush my teeth with a bottle of Jack Cause when I leave for the night I aint coming back  Im talkin pedicure on our toes toes tryin on all our clothes clothes Boys blowin up our phones phones Droptoppin playin our favorite CDs pullin up to the parties Tryna get a little bit tipsy Dont stop make it pop DJ blow my speakers up Tonight Ima fight til we see the sunlight Tick tock on the clock but the party dont stop no Oh woah woah oh oh woah woah oh Dont stop make it pop DJ blow my speakers up Tonight Ima fight til we see the sunlight Tick tock on the clock but the party dont stop no Oh woah woah oh oh woah woah oh  Aint got a care in the world but got plenty of beer Aint got no money in my pocket but Im already here And now the dudes are linin up cause they hear we got swagger But we kick em to the curb unless they look like Mick Jagger  Im talkin bout everybody gettin crunk crunk boys try to touch my junk junk Gonna smack him if he gettin too drunk drunk Nonow we go until they kick us out out or the police shut us down down Police shut us down down popo shut us down  Dont stop make it pop DJ blow my speakers up Tonight Ima fight til we see the sunlight Tick tock on the clock but the party dont stop no Oh woah woah oh oh woah woah oh Dont stop make it pop DJ blow my speakers up Tonight Ima fight til we see the sunlight Tick tock on the clock but the party dont stop no Oh woah woah oh oh woah woah oh You might also like DJ You build me up you break me down My heart it pounds yeah you got me With my hands up you got me now You got that sound yeah you got me DJ You build me up you break me down My heart it pounds yeah you got me With my hands up put your hands up Put your hands up  Now the party dont start til I walk in  Dont stop make it pop DJ blow my speakers up Tonight Ima fight til we see the sunlight Tick tock on the clock but the party dont stop no Oh woah woah oh oh woah woah oh Dont stop make it pop DJ blow my speakers up Tonight Ima fight til we see the sunlight Tick tock on the clock but the party dont stop no Oh woah woah oh oh woah woah oh58Embed  "
=======
       "                                                                                                                                                                                                                                                                                                                                                                                                                                                                                                                                                                                                                                                                                                                                                                                                                                                                                                                                                                                                                                                                                                                                                                                                                                                                                                                                                                                                                                                                                                                                                                                                                                                                                                                                                                                                                                                                                                                                                                                                                                                                                                                                                                                                                                                                                                                                                                                                                                                                                                                                                                                                                                                                                                                                                                                                                                                                                                                                                                                                                                                                                                                                                                                                                                                                                                                                                                                                                                                                                                                                                                                                                                                            lyrics  \n",
       "0                                                                                                                                                                                                                                                                                                                                                                                                                                                                                                                                                                                                                                                                                                                                                                                                                                                                                                                                                                                                                                                                                                                                                                                                                                                                                                                                                                                                                                                                                                                                                                                                                                                                                                                                                                                                                                                                                                                                                                                                                                                                                                                       Hey Heeeeey Heeeeey  Your lipstick stains On the front lobe of my leftside brains I knew I wouldnt forget you And so I went and let you blow my mind Your sweet moonbeam The smell of you in every single dream I dream I knew when we collided Youre the one I have decided whos one of my kind Hey soul sister Aint that Mr Mister on the radio stereo The way you move aint fair you know Hey soul sister I dont want to miss a single thing you do Tonight  Hey Heeeeey Heeeeey  Just in time Im so glad you have a onetrack mind like me You gave my life direction A game show love connection we cant deny Im so obsessed My heart is bound to beat right out my untrimmed chest I believe in you like a virgin youre Madonna And Im always gonna wanna blow your mind  Hey soul sister Aint that Mr Mister on the radio stereo The way you move aint fair you know Hey soul sister I dont want to miss a single thing you do Tonight See Train LiveGet tickets as low as 150You might also like The way you can cut a rug Watching yous the only drug I need So gangster Im so thug Youre the only one Im dreaming of you see I can be myself now finally In fact theres nothing I cant be I want the world to see you be with me  Hey soul sister Aint that Mr Mister on the radio stereo The way you move aint fair you know Hey soul sister I dont want to miss a single thing you do tonight Hey soul sister I dont want to miss a single thing you do Tonight  Hey Heeeeey Heeeeey Tonight Hey Heeeeey Heeeeey Tonight64Embed  \n",
       "1  Just gonna stand there and watch me burn Well thats all right because I like the way it hurts Just gonna stand there and hear me cry Well thats all right because I love the way you lie I love the way you lie  I cant tell you what it really is I can only tell you what it feels like And right now theres a steel knife in my windpipe I cant breathe but I still fight while I can fight As long as the wrong feels right its like Im in flight High off her love drunk from her hate Its like Im huffin paint and I love her the more I suffer I suffocate And right before Im about to drown she resuscitates me She fuckin hates me and I love it  Wait Where you going  Im leaving you  No you aint Come back  Were runnin right back here we go again Its so insane cause when its goin good its goin great Im Superman with the wind at his back shes Lois Lane But when its bad its awful I feel so ashamed I snapped Whos that dude I dont even know his name I laid hands on her Ill never stoop so low again I guess I dont know my own strength Just gonna stand there and watch me burn Well thats all right because I like the way it hurts Just gonna stand there and hear me cry Well thats all right because I love the way you lie I love the way you lie I love the way you lie You ever love somebody so much you can barely breathe when youre with em You meet and neither one of you even know what hit em Got that warm fuzzy feelin yeah them chills used to get em Now youre gettin fuckin sick of lookin at em You swore youd never hit em never do nothin to hurt em Now youre in each others face Spewin venom in your words when you spit em You push pull each others hair scratch claw bit em Throw em down pin em So lost in the moments when youre in em Its the rage that took over it controls you both So they say youre best to go your separate ways Guess that they dont know ya Cause today that was yesterday yesterday is over Its a different day sound like broken records playin over But you promised her next time youll show restraint You dont get another chance life is no Nintendo game But you lied again Now you get to watch her leave out the window Guess thats why they call it window pane You might also like Just gonna stand there and watch me burn Well thats all right because I like the way it hurts Just gonna stand there and hear me cry Well thats all right because I love the way you lie I love the way you lie I love the way you lie  Now I know we said things did things that we didnt mean Then we fall back into the same patterns same routine But your tempers just as bad as mine is youre the same as me When it comes to love youre just as blinded baby please Come back it wasnt you baby it was me Maybe our relationship isnt as crazy as it seems Maybe thats what happens when a tornado meets a volcano All I know is I love you too much to walk away though Come inside pick up your bags off the sidewalk Dont you hear sincerity in my voice when I talk Told you this is my fault look me in the eyeball Next time Im pissed Ill aim my fist at the drywall Next time There wont be no next time I apologize even though I know its lies Im tired of the games I just want her back I know Im a liar If she ever tries to fuckin leave again Ima tie her To the bed and set this house on fire just gonna Just gonna stand there and watch me burn Well thats all right because I like the way it hurts Just gonna stand there and hear me cry Well thats all right because I love the way you lie I love the way you lie I love the way you lie303Embed  \n",
       "2                                                                                                                                                                                                                                                                                                                                                                                                                                                                                                                                                                                                                                                                                                                                                                                                                                                                                                                                                                                                                                                                                                                                                                                                                                                                                                                                              Wake up in the morning feelin like P Diddy Hey what up girl Grab my glasses Im out the door Im gonna hit this city Lets go Before I leave brush my teeth with a bottle of Jack Cause when I leave for the night I aint coming back  Im talkin pedicure on our toes toes tryin on all our clothes clothes Boys blowin up our phones phones Droptoppin playin our favorite CDs pullin up to the parties Tryna get a little bit tipsy Dont stop make it pop DJ blow my speakers up Tonight Ima fight til we see the sunlight Tick tock on the clock but the party dont stop no Oh woah woah oh oh woah woah oh Dont stop make it pop DJ blow my speakers up Tonight Ima fight til we see the sunlight Tick tock on the clock but the party dont stop no Oh woah woah oh oh woah woah oh  Aint got a care in the world but got plenty of beer Aint got no money in my pocket but Im already here And now the dudes are linin up cause they hear we got swagger But we kick em to the curb unless they look like Mick Jagger  Im talkin bout everybody gettin crunk crunk boys try to touch my junk junk Gonna smack him if he gettin too drunk drunk Nonow we go until they kick us out out or the police shut us down down Police shut us down down popo shut us down  Dont stop make it pop DJ blow my speakers up Tonight Ima fight til we see the sunlight Tick tock on the clock but the party dont stop no Oh woah woah oh oh woah woah oh Dont stop make it pop DJ blow my speakers up Tonight Ima fight til we see the sunlight Tick tock on the clock but the party dont stop no Oh woah woah oh oh woah woah oh You might also like DJ You build me up you break me down My heart it pounds yeah you got me With my hands up you got me now You got that sound yeah you got me DJ You build me up you break me down My heart it pounds yeah you got me With my hands up put your hands up Put your hands up  Now the party dont start til I walk in  Dont stop make it pop DJ blow my speakers up Tonight Ima fight til we see the sunlight Tick tock on the clock but the party dont stop no Oh woah woah oh oh woah woah oh Dont stop make it pop DJ blow my speakers up Tonight Ima fight til we see the sunlight Tick tock on the clock but the party dont stop no Oh woah woah oh oh woah woah oh58Embed  "
>>>>>>> main
      ]
     },
     "metadata": {},
     "output_type": "display_data"
    }
   ],
   "source": [
    "# Removing punctuation with regex\n",
    "df['lyrics'] = df['lyrics'].str.replace('[^\\w\\s]','')\n",
    "\n",
    "with pd.option_context('display.max_colwidth', None):\n",
    "  display(df.head(3))"
   ]
  },
  {
   "cell_type": "code",
<<<<<<< HEAD
   "execution_count": 10,
   "id": "3c330f5b",
=======
   "execution_count": 7,
   "id": "14ad079b",
>>>>>>> main
   "metadata": {},
   "outputs": [
    {
     "data": {
      "text/html": [
       "<div>\n",
       "<style scoped>\n",
       "    .dataframe tbody tr th:only-of-type {\n",
       "        vertical-align: middle;\n",
       "    }\n",
       "\n",
       "    .dataframe tbody tr th {\n",
       "        vertical-align: top;\n",
       "    }\n",
       "\n",
       "    .dataframe thead th {\n",
       "        text-align: right;\n",
       "    }\n",
       "</style>\n",
       "<table border=\"1\" class=\"dataframe\">\n",
       "  <thead>\n",
       "    <tr style=\"text-align: right;\">\n",
       "      <th></th>\n",
       "      <th>title</th>\n",
       "      <th>artist</th>\n",
       "      <th>lyrics</th>\n",
       "    </tr>\n",
       "  </thead>\n",
       "  <tbody>\n",
       "    <tr>\n",
       "      <th>0</th>\n",
       "      <td>Hey, Soul Sister</td>\n",
       "      <td>Train</td>\n",
<<<<<<< HEAD
       "      <td>heeeeey heeeeey  your lipstick stains on the front lobe of my leftside brains i knew i wouldnt forget you and so i went and let you blow my mind your sweet moonbeam the smell of you in every single dream i dream i knew when we collided youre the one i have decided whos one of my kind hey soul sister aint that mr mister on the radio stereo the way you move aint fair you know hey soul sister i dont want to miss a single thing you do tonight  hey heeeeey heeeeey  just in time im so glad you have a onetrack mind like me you gave my life direction a game show love connection we cant deny im so obsessed my heart is bound to beat right out my untrimmed chest i believe in you like a virgin youre madonna and im always gonna wanna blow your mind  hey soul sister aint that mr mister on the radio stereo the way you move aint fair you know hey soul sister i dont want to miss a single thing you do tonight see train liveget tickets as low as 150you might also like the way you can cut a rug watching yous the only drug i need so gangster im so thug youre the only one im dreaming of you see i can be myself now finally in fact theres nothing i cant be i want the world to see you be with me  hey soul sister aint that mr mister on the radio stereo the way you move aint fair you know hey soul sister i dont want to miss a single thing you do tonight hey soul sister i dont want to miss a single thing you do tonight  hey heeeeey heeeeey tonight hey heeeeey heeeeey tonight64embed</td>\n",
=======
       "      <td>hey heeeeey heeeeey  your lipstick stains on the front lobe of my leftside brains i knew i wouldnt forget you and so i went and let you blow my mind your sweet moonbeam the smell of you in every single dream i dream i knew when we collided youre the one i have decided whos one of my kind hey soul sister aint that mr mister on the radio stereo the way you move aint fair you know hey soul sister i dont want to miss a single thing you do tonight  hey heeeeey heeeeey  just in time im so glad you have a onetrack mind like me you gave my life direction a game show love connection we cant deny im so obsessed my heart is bound to beat right out my untrimmed chest i believe in you like a virgin youre madonna and im always gonna wanna blow your mind  hey soul sister aint that mr mister on the radio stereo the way you move aint fair you know hey soul sister i dont want to miss a single thing you do tonight see train liveget tickets as low as 150you might also like the way you can cut a rug watching yous the only drug i need so gangster im so thug youre the only one im dreaming of you see i can be myself now finally in fact theres nothing i cant be i want the world to see you be with me  hey soul sister aint that mr mister on the radio stereo the way you move aint fair you know hey soul sister i dont want to miss a single thing you do tonight hey soul sister i dont want to miss a single thing you do tonight  hey heeeeey heeeeey tonight hey heeeeey heeeeey tonight64embed</td>\n",
>>>>>>> main
       "    </tr>\n",
       "    <tr>\n",
       "      <th>1</th>\n",
       "      <td>Love The Way You Lie</td>\n",
       "      <td>Eminem</td>\n",
<<<<<<< HEAD
       "      <td>well thats all right because i like the way it hurts just gonna stand there and hear me cry well thats all right because i love the way you lie i love the way you lie  i cant tell you what it really is i can only tell you what it feels like and right now theres a steel knife in my windpipe i cant breathe but i still fight while i can fight as long as the wrong feels right its like im in flight high off her love drunk from her hate its like im huffin paint and i love her the more i suffer i suffocate and right before im about to drown she resuscitates me she fuckin hates me and i love it â wait where you going â im leaving you â no you aint come back â were runnin right back here we go again its so insane cause when its goin good its goin great im superman with the wind at his back shes lois lane but when its bad its awful i feel so ashamed i snapped whos that dude i dont even know his name i laid hands on her ill never stoop so low again i guess i dont know my own strength just gonna stand there and watch me burn well thats all right because i like the way it hurts just gonna stand there and hear me cry well thats all right because i love the way you lie i love the way you lie i love the way you lie you ever love somebody so much you can barely breathe when youre with em you meet and neither one of you even know what hit em got that warm fuzzy feelin yeah them chills used to get em now youre gettin fuckin sick of lookin at em you swore youd never hit em never do nothin to hurt em now youre in each others face spewin venom in your words when you spit em you push pull each others hair scratch claw bit em throw em down pin em so lost in the moments when youre in em its the rage that took over it controls you both so they say youre best to go your separate ways guess that they dont know ya cause today that was yesterday yesterday is over its a different day sound like broken records playin over but you promised her next time youll show restraint you dont get another chance life is no nintendo game but you lied again now you get to watch her leave out the window guess thats why they call it window pane you might also like just gonna stand there and watch me burn well thats all right because i like the way it hurts just gonna stand there and hear me cry well thats all right because i love the way you lie i love the way you lie i love the way you lie  now i know we said things did things that we didnt mean then we fall back into the same patterns same routine but your tempers just as bad as mine is youre the same as me when it comes to love youre just as blinded baby please come back it wasnt you baby it was me maybe our relationship isnt as crazy as it seems maybe thats what happens when a tornado meets a volcano all i know is i love you too much to walk away though come inside pick up your bags off the sidewalk dont you hear sincerity in my voice when i talk told you this is my fault look me in the eyeball next time im pissed ill aim my fist at the drywall next time there wont be no next time i apologize even though i know its lies im tired of the games i just want her back i know im a liar if she ever tries to fuckin leave again ima tie her to the bed and set this house on fire just gonnaâ just gonna stand there and watch me burn well thats all right because i like the way it hurts just gonna stand there and hear me cry well thats all right because i love the way you lie i love the way you lie i love the way you lie303embed</td>\n",
=======
       "      <td>just gonna stand there and watch me burn well thats all right because i like the way it hurts just gonna stand there and hear me cry well thats all right because i love the way you lie i love the way you lie  i cant tell you what it really is i can only tell you what it feels like and right now theres a steel knife in my windpipe i cant breathe but i still fight while i can fight as long as the wrong feels right its like im in flight high off her love drunk from her hate its like im huffin paint and i love her the more i suffer i suffocate and right before im about to drown she resuscitates me she fuckin hates me and i love it  wait where you going  im leaving you  no you aint come back  were runnin right back here we go again its so insane cause when its goin good its goin great im superman with the wind at his back shes lois lane but when its bad its awful i feel so ashamed i snapped whos that dude i dont even know his name i laid hands on her ill never stoop so low again i guess i dont know my own strength just gonna stand there and watch me burn well thats all right because i like the way it hurts just gonna stand there and hear me cry well thats all right because i love the way you lie i love the way you lie i love the way you lie you ever love somebody so much you can barely breathe when youre with em you meet and neither one of you even know what hit em got that warm fuzzy feelin yeah them chills used to get em now youre gettin fuckin sick of lookin at em you swore youd never hit em never do nothin to hurt em now youre in each others face spewin venom in your words when you spit em you push pull each others hair scratch claw bit em throw em down pin em so lost in the moments when youre in em its the rage that took over it controls you both so they say youre best to go your separate ways guess that they dont know ya cause today that was yesterday yesterday is over its a different day sound like broken records playin over but you promised her next time youll show restraint you dont get another chance life is no nintendo game but you lied again now you get to watch her leave out the window guess thats why they call it window pane you might also like just gonna stand there and watch me burn well thats all right because i like the way it hurts just gonna stand there and hear me cry well thats all right because i love the way you lie i love the way you lie i love the way you lie  now i know we said things did things that we didnt mean then we fall back into the same patterns same routine but your tempers just as bad as mine is youre the same as me when it comes to love youre just as blinded baby please come back it wasnt you baby it was me maybe our relationship isnt as crazy as it seems maybe thats what happens when a tornado meets a volcano all i know is i love you too much to walk away though come inside pick up your bags off the sidewalk dont you hear sincerity in my voice when i talk told you this is my fault look me in the eyeball next time im pissed ill aim my fist at the drywall next time there wont be no next time i apologize even though i know its lies im tired of the games i just want her back i know im a liar if she ever tries to fuckin leave again ima tie her to the bed and set this house on fire just gonna just gonna stand there and watch me burn well thats all right because i like the way it hurts just gonna stand there and hear me cry well thats all right because i love the way you lie i love the way you lie i love the way you lie303embed</td>\n",
>>>>>>> main
       "    </tr>\n",
       "    <tr>\n",
       "      <th>2</th>\n",
       "      <td>TiK ToK</td>\n",
       "      <td>Kesha</td>\n",
<<<<<<< HEAD
       "      <td>grab my glasses im out the door im gonna hit this city lets go before i leave brush my teeth with a bottle of jack cause when i leave for the night i aint coming back  im talkin pedicure on our toes toes tryin on all our clothes clothes boys blowin up our phones phones droptoppin playin our favorite cds pullin up to the parties tryna get a little bit tipsy dont stop make it pop dj blow my speakers up tonight ima fight til we see the sunlight tick tock on the clock but the party dont stop no oh woah woah oh oh woah woah oh dont stop make it pop dj blow my speakers up tonight ima fight til we see the sunlight tick tock on the clock but the party dont stop no oh woah woah oh oh woah woah oh  aint got a care in the world but got plenty of beer aint got no money in my pocket but im already here and now the dudes are linin up cause they hear we got swagger but we kick em to the curb unless they look like mick jagger  im talkin bout everybody gettin crunk crunk boys try to touch my junk junk gonna smack him if he gettin too drunk drunk nonow we go until they kick us out out or the police shut us down down police shut us down down popo shut us down  dont stop make it pop dj blow my speakers up tonight ima fight til we see the sunlight tick tock on the clock but the party dont stop no oh woah woah oh oh woah woah oh dont stop make it pop dj blow my speakers up tonight ima fight til we see the sunlight tick tock on the clock but the party dont stop no oh woah woah oh oh woah woah oh you might also like dj you build me up you break me down my heart it pounds yeah you got me with my hands up you got me now you got that sound yeah you got me dj you build me up you break me down my heart it pounds yeah you got me with my hands up put your hands up put your hands up  now the party dont start til i walk in  dont stop make it pop dj blow my speakers up tonight ima fight til we see the sunlight tick tock on the clock but the party dont stop no oh woah woah oh oh woah woah oh dont stop make it pop dj blow my speakers up tonight ima fight til we see the sunlight tick tock on the clock but the party dont stop no oh woah woah oh oh woah woah oh58embed</td>\n",
=======
       "      <td>wake up in the morning feelin like p diddy hey what up girl grab my glasses im out the door im gonna hit this city lets go before i leave brush my teeth with a bottle of jack cause when i leave for the night i aint coming back  im talkin pedicure on our toes toes tryin on all our clothes clothes boys blowin up our phones phones droptoppin playin our favorite cds pullin up to the parties tryna get a little bit tipsy dont stop make it pop dj blow my speakers up tonight ima fight til we see the sunlight tick tock on the clock but the party dont stop no oh woah woah oh oh woah woah oh dont stop make it pop dj blow my speakers up tonight ima fight til we see the sunlight tick tock on the clock but the party dont stop no oh woah woah oh oh woah woah oh  aint got a care in the world but got plenty of beer aint got no money in my pocket but im already here and now the dudes are linin up cause they hear we got swagger but we kick em to the curb unless they look like mick jagger  im talkin bout everybody gettin crunk crunk boys try to touch my junk junk gonna smack him if he gettin too drunk drunk nonow we go until they kick us out out or the police shut us down down police shut us down down popo shut us down  dont stop make it pop dj blow my speakers up tonight ima fight til we see the sunlight tick tock on the clock but the party dont stop no oh woah woah oh oh woah woah oh dont stop make it pop dj blow my speakers up tonight ima fight til we see the sunlight tick tock on the clock but the party dont stop no oh woah woah oh oh woah woah oh you might also like dj you build me up you break me down my heart it pounds yeah you got me with my hands up you got me now you got that sound yeah you got me dj you build me up you break me down my heart it pounds yeah you got me with my hands up put your hands up put your hands up  now the party dont start til i walk in  dont stop make it pop dj blow my speakers up tonight ima fight til we see the sunlight tick tock on the clock but the party dont stop no oh woah woah oh oh woah woah oh dont stop make it pop dj blow my speakers up tonight ima fight til we see the sunlight tick tock on the clock but the party dont stop no oh woah woah oh oh woah woah oh58embed</td>\n",
>>>>>>> main
       "    </tr>\n",
       "  </tbody>\n",
       "</table>\n",
       "</div>"
      ],
      "text/plain": [
       "                  title  artist  \\\n",
       "0      Hey, Soul Sister   Train   \n",
       "1  Love The Way You Lie  Eminem   \n",
       "2               TiK ToK   Kesha   \n",
       "\n",
<<<<<<< HEAD
       "                                                                                                                                                                                                                                                                                                                                                                                                                                                                                                                                                                                                                                                                                                                                                                                                                                                                                                                                                                                                                                                                                                                                                                                                                                                                                                                                                                                                                                                                                                                                                                                                                                                                                                                                                                                                                                                                                                                                                                                                                                                                                                                                                                                                                                                                                                                                                                                                                                                                                                                                                                                                                                                                                                                                                                                                                                                                                                                                                                                                                                                                                                                                                                                                                                                                                                                                                                                                                                                                                                                                                                                                                        lyrics  \n",
       "0                                                                                                                                                                                                                                                                                                                                                                                                                                                                                                                                                                                                                                                                                                                                                                                                                                                                                                                                                                                                                                                                                                                                                                                                                                                                                                                                                                                                                                                                                                                                                                                                                                                                                                                                                                                                                                                                                                                                                                                                                                                                                       heeeeey heeeeey  your lipstick stains on the front lobe of my leftside brains i knew i wouldnt forget you and so i went and let you blow my mind your sweet moonbeam the smell of you in every single dream i dream i knew when we collided youre the one i have decided whos one of my kind hey soul sister aint that mr mister on the radio stereo the way you move aint fair you know hey soul sister i dont want to miss a single thing you do tonight  hey heeeeey heeeeey  just in time im so glad you have a onetrack mind like me you gave my life direction a game show love connection we cant deny im so obsessed my heart is bound to beat right out my untrimmed chest i believe in you like a virgin youre madonna and im always gonna wanna blow your mind  hey soul sister aint that mr mister on the radio stereo the way you move aint fair you know hey soul sister i dont want to miss a single thing you do tonight see train liveget tickets as low as 150you might also like the way you can cut a rug watching yous the only drug i need so gangster im so thug youre the only one im dreaming of you see i can be myself now finally in fact theres nothing i cant be i want the world to see you be with me  hey soul sister aint that mr mister on the radio stereo the way you move aint fair you know hey soul sister i dont want to miss a single thing you do tonight hey soul sister i dont want to miss a single thing you do tonight  hey heeeeey heeeeey tonight hey heeeeey heeeeey tonight64embed  \n",
       "1  well thats all right because i like the way it hurts just gonna stand there and hear me cry well thats all right because i love the way you lie i love the way you lie  i cant tell you what it really is i can only tell you what it feels like and right now theres a steel knife in my windpipe i cant breathe but i still fight while i can fight as long as the wrong feels right its like im in flight high off her love drunk from her hate its like im huffin paint and i love her the more i suffer i suffocate and right before im about to drown she resuscitates me she fuckin hates me and i love it â wait where you going â im leaving you â no you aint come back â were runnin right back here we go again its so insane cause when its goin good its goin great im superman with the wind at his back shes lois lane but when its bad its awful i feel so ashamed i snapped whos that dude i dont even know his name i laid hands on her ill never stoop so low again i guess i dont know my own strength just gonna stand there and watch me burn well thats all right because i like the way it hurts just gonna stand there and hear me cry well thats all right because i love the way you lie i love the way you lie i love the way you lie you ever love somebody so much you can barely breathe when youre with em you meet and neither one of you even know what hit em got that warm fuzzy feelin yeah them chills used to get em now youre gettin fuckin sick of lookin at em you swore youd never hit em never do nothin to hurt em now youre in each others face spewin venom in your words when you spit em you push pull each others hair scratch claw bit em throw em down pin em so lost in the moments when youre in em its the rage that took over it controls you both so they say youre best to go your separate ways guess that they dont know ya cause today that was yesterday yesterday is over its a different day sound like broken records playin over but you promised her next time youll show restraint you dont get another chance life is no nintendo game but you lied again now you get to watch her leave out the window guess thats why they call it window pane you might also like just gonna stand there and watch me burn well thats all right because i like the way it hurts just gonna stand there and hear me cry well thats all right because i love the way you lie i love the way you lie i love the way you lie  now i know we said things did things that we didnt mean then we fall back into the same patterns same routine but your tempers just as bad as mine is youre the same as me when it comes to love youre just as blinded baby please come back it wasnt you baby it was me maybe our relationship isnt as crazy as it seems maybe thats what happens when a tornado meets a volcano all i know is i love you too much to walk away though come inside pick up your bags off the sidewalk dont you hear sincerity in my voice when i talk told you this is my fault look me in the eyeball next time im pissed ill aim my fist at the drywall next time there wont be no next time i apologize even though i know its lies im tired of the games i just want her back i know im a liar if she ever tries to fuckin leave again ima tie her to the bed and set this house on fire just gonnaâ just gonna stand there and watch me burn well thats all right because i like the way it hurts just gonna stand there and hear me cry well thats all right because i love the way you lie i love the way you lie i love the way you lie303embed  \n",
       "2                                                                                                                                                                                                                                                                                                                                                                                                                                                                                                                                                                                                                                                                                                                                                                                                                                                                                                                                                                                                                                                                                                                                                                                                                                                                                                                                                                      grab my glasses im out the door im gonna hit this city lets go before i leave brush my teeth with a bottle of jack cause when i leave for the night i aint coming back  im talkin pedicure on our toes toes tryin on all our clothes clothes boys blowin up our phones phones droptoppin playin our favorite cds pullin up to the parties tryna get a little bit tipsy dont stop make it pop dj blow my speakers up tonight ima fight til we see the sunlight tick tock on the clock but the party dont stop no oh woah woah oh oh woah woah oh dont stop make it pop dj blow my speakers up tonight ima fight til we see the sunlight tick tock on the clock but the party dont stop no oh woah woah oh oh woah woah oh  aint got a care in the world but got plenty of beer aint got no money in my pocket but im already here and now the dudes are linin up cause they hear we got swagger but we kick em to the curb unless they look like mick jagger  im talkin bout everybody gettin crunk crunk boys try to touch my junk junk gonna smack him if he gettin too drunk drunk nonow we go until they kick us out out or the police shut us down down police shut us down down popo shut us down  dont stop make it pop dj blow my speakers up tonight ima fight til we see the sunlight tick tock on the clock but the party dont stop no oh woah woah oh oh woah woah oh dont stop make it pop dj blow my speakers up tonight ima fight til we see the sunlight tick tock on the clock but the party dont stop no oh woah woah oh oh woah woah oh you might also like dj you build me up you break me down my heart it pounds yeah you got me with my hands up you got me now you got that sound yeah you got me dj you build me up you break me down my heart it pounds yeah you got me with my hands up put your hands up put your hands up  now the party dont start til i walk in  dont stop make it pop dj blow my speakers up tonight ima fight til we see the sunlight tick tock on the clock but the party dont stop no oh woah woah oh oh woah woah oh dont stop make it pop dj blow my speakers up tonight ima fight til we see the sunlight tick tock on the clock but the party dont stop no oh woah woah oh oh woah woah oh58embed  "
=======
       "                                                                                                                                                                                                                                                                                                                                                                                                                                                                                                                                                                                                                                                                                                                                                                                                                                                                                                                                                                                                                                                                                                                                                                                                                                                                                                                                                                                                                                                                                                                                                                                                                                                                                                                                                                                                                                                                                                                                                                                                                                                                                                                                                                                                                                                                                                                                                                                                                                                                                                                                                                                                                                                                                                                                                                                                                                                                                                                                                                                                                                                                                                                                                                                                                                                                                                                                                                                                                                                                                                                                                                                                                                                            lyrics  \n",
       "0                                                                                                                                                                                                                                                                                                                                                                                                                                                                                                                                                                                                                                                                                                                                                                                                                                                                                                                                                                                                                                                                                                                                                                                                                                                                                                                                                                                                                                                                                                                                                                                                                                                                                                                                                                                                                                                                                                                                                                                                                                                                                                                       hey heeeeey heeeeey  your lipstick stains on the front lobe of my leftside brains i knew i wouldnt forget you and so i went and let you blow my mind your sweet moonbeam the smell of you in every single dream i dream i knew when we collided youre the one i have decided whos one of my kind hey soul sister aint that mr mister on the radio stereo the way you move aint fair you know hey soul sister i dont want to miss a single thing you do tonight  hey heeeeey heeeeey  just in time im so glad you have a onetrack mind like me you gave my life direction a game show love connection we cant deny im so obsessed my heart is bound to beat right out my untrimmed chest i believe in you like a virgin youre madonna and im always gonna wanna blow your mind  hey soul sister aint that mr mister on the radio stereo the way you move aint fair you know hey soul sister i dont want to miss a single thing you do tonight see train liveget tickets as low as 150you might also like the way you can cut a rug watching yous the only drug i need so gangster im so thug youre the only one im dreaming of you see i can be myself now finally in fact theres nothing i cant be i want the world to see you be with me  hey soul sister aint that mr mister on the radio stereo the way you move aint fair you know hey soul sister i dont want to miss a single thing you do tonight hey soul sister i dont want to miss a single thing you do tonight  hey heeeeey heeeeey tonight hey heeeeey heeeeey tonight64embed  \n",
       "1  just gonna stand there and watch me burn well thats all right because i like the way it hurts just gonna stand there and hear me cry well thats all right because i love the way you lie i love the way you lie  i cant tell you what it really is i can only tell you what it feels like and right now theres a steel knife in my windpipe i cant breathe but i still fight while i can fight as long as the wrong feels right its like im in flight high off her love drunk from her hate its like im huffin paint and i love her the more i suffer i suffocate and right before im about to drown she resuscitates me she fuckin hates me and i love it  wait where you going  im leaving you  no you aint come back  were runnin right back here we go again its so insane cause when its goin good its goin great im superman with the wind at his back shes lois lane but when its bad its awful i feel so ashamed i snapped whos that dude i dont even know his name i laid hands on her ill never stoop so low again i guess i dont know my own strength just gonna stand there and watch me burn well thats all right because i like the way it hurts just gonna stand there and hear me cry well thats all right because i love the way you lie i love the way you lie i love the way you lie you ever love somebody so much you can barely breathe when youre with em you meet and neither one of you even know what hit em got that warm fuzzy feelin yeah them chills used to get em now youre gettin fuckin sick of lookin at em you swore youd never hit em never do nothin to hurt em now youre in each others face spewin venom in your words when you spit em you push pull each others hair scratch claw bit em throw em down pin em so lost in the moments when youre in em its the rage that took over it controls you both so they say youre best to go your separate ways guess that they dont know ya cause today that was yesterday yesterday is over its a different day sound like broken records playin over but you promised her next time youll show restraint you dont get another chance life is no nintendo game but you lied again now you get to watch her leave out the window guess thats why they call it window pane you might also like just gonna stand there and watch me burn well thats all right because i like the way it hurts just gonna stand there and hear me cry well thats all right because i love the way you lie i love the way you lie i love the way you lie  now i know we said things did things that we didnt mean then we fall back into the same patterns same routine but your tempers just as bad as mine is youre the same as me when it comes to love youre just as blinded baby please come back it wasnt you baby it was me maybe our relationship isnt as crazy as it seems maybe thats what happens when a tornado meets a volcano all i know is i love you too much to walk away though come inside pick up your bags off the sidewalk dont you hear sincerity in my voice when i talk told you this is my fault look me in the eyeball next time im pissed ill aim my fist at the drywall next time there wont be no next time i apologize even though i know its lies im tired of the games i just want her back i know im a liar if she ever tries to fuckin leave again ima tie her to the bed and set this house on fire just gonna just gonna stand there and watch me burn well thats all right because i like the way it hurts just gonna stand there and hear me cry well thats all right because i love the way you lie i love the way you lie i love the way you lie303embed  \n",
       "2                                                                                                                                                                                                                                                                                                                                                                                                                                                                                                                                                                                                                                                                                                                                                                                                                                                                                                                                                                                                                                                                                                                                                                                                                                                                                                                                              wake up in the morning feelin like p diddy hey what up girl grab my glasses im out the door im gonna hit this city lets go before i leave brush my teeth with a bottle of jack cause when i leave for the night i aint coming back  im talkin pedicure on our toes toes tryin on all our clothes clothes boys blowin up our phones phones droptoppin playin our favorite cds pullin up to the parties tryna get a little bit tipsy dont stop make it pop dj blow my speakers up tonight ima fight til we see the sunlight tick tock on the clock but the party dont stop no oh woah woah oh oh woah woah oh dont stop make it pop dj blow my speakers up tonight ima fight til we see the sunlight tick tock on the clock but the party dont stop no oh woah woah oh oh woah woah oh  aint got a care in the world but got plenty of beer aint got no money in my pocket but im already here and now the dudes are linin up cause they hear we got swagger but we kick em to the curb unless they look like mick jagger  im talkin bout everybody gettin crunk crunk boys try to touch my junk junk gonna smack him if he gettin too drunk drunk nonow we go until they kick us out out or the police shut us down down police shut us down down popo shut us down  dont stop make it pop dj blow my speakers up tonight ima fight til we see the sunlight tick tock on the clock but the party dont stop no oh woah woah oh oh woah woah oh dont stop make it pop dj blow my speakers up tonight ima fight til we see the sunlight tick tock on the clock but the party dont stop no oh woah woah oh oh woah woah oh you might also like dj you build me up you break me down my heart it pounds yeah you got me with my hands up you got me now you got that sound yeah you got me dj you build me up you break me down my heart it pounds yeah you got me with my hands up put your hands up put your hands up  now the party dont start til i walk in  dont stop make it pop dj blow my speakers up tonight ima fight til we see the sunlight tick tock on the clock but the party dont stop no oh woah woah oh oh woah woah oh dont stop make it pop dj blow my speakers up tonight ima fight til we see the sunlight tick tock on the clock but the party dont stop no oh woah woah oh oh woah woah oh58embed  "
>>>>>>> main
      ]
     },
     "metadata": {},
     "output_type": "display_data"
    }
   ],
   "source": [
    "df['lyrics'] = df['lyrics'].str.lower()\n",
    "\n",
    "with pd.option_context('display.max_colwidth', None):\n",
<<<<<<< HEAD
    "  display(lyric_df.head(3))"
   ]
  },
  {
   "cell_type": "code",
   "execution_count": 11,
   "id": "d2834429",
   "metadata": {},
   "outputs": [
    {
     "data": {
      "text/html": [
       "<div>\n",
       "<style scoped>\n",
       "    .dataframe tbody tr th:only-of-type {\n",
       "        vertical-align: middle;\n",
       "    }\n",
       "\n",
       "    .dataframe tbody tr th {\n",
       "        vertical-align: top;\n",
       "    }\n",
       "\n",
       "    .dataframe thead th {\n",
       "        text-align: right;\n",
       "    }\n",
       "</style>\n",
       "<table border=\"1\" class=\"dataframe\">\n",
       "  <thead>\n",
       "    <tr style=\"text-align: right;\">\n",
       "      <th></th>\n",
       "      <th>title</th>\n",
       "      <th>artist</th>\n",
       "      <th>lyrics</th>\n",
       "    </tr>\n",
       "  </thead>\n",
       "  <tbody>\n",
       "    <tr>\n",
       "      <th>0</th>\n",
       "      <td>Hey, Soul Sister</td>\n",
       "      <td>Train</td>\n",
       "      <td>heeeeey heeeeey  your lipstick stains on the front lobe of my leftside brains i knew i wouldnt forget you and so i went and let you blow my mind your sweet moonbeam the smell of you in every single dream i dream i knew when we collided youre the one i have decided whos one of my kind hey soul sister aint that mr mister on the radio stereo the way you move aint fair you know hey soul sister i dont want to miss a single thing you do tonight  hey heeeeey heeeeey  just in time im so glad you have a onetrack mind like me you gave my life direction a game show love connection we cant deny im so obsessed my heart is bound to beat right out my untrimmed chest i believe in you like a virgin youre madonna and im always gonna wanna blow your mind  hey soul sister aint that mr mister on the radio stereo the way you move aint fair you know hey soul sister i dont want to miss a single thing you do tonight see train liveget tickets as low as 150you might also like the way you can cut a rug watching yous the only drug i need so gangster im so thug youre the only one im dreaming of you see i can be myself now finally in fact theres nothing i cant be i want the world to see you be with me  hey soul sister aint that mr mister on the radio stereo the way you move aint fair you know hey soul sister i dont want to miss a single thing you do tonight hey soul sister i dont want to miss a single thing you do tonight  hey heeeeey heeeeey tonight hey heeeeey heeeeey tonight64embed</td>\n",
       "    </tr>\n",
       "    <tr>\n",
       "      <th>1</th>\n",
       "      <td>Love The Way You Lie</td>\n",
       "      <td>Eminem</td>\n",
       "      <td>well thats all right because i like the way it hurts just gonna stand there and hear me cry well thats all right because i love the way you lie i love the way you lie  i cant tell you what it really is i can only tell you what it feels like and right now theres a steel knife in my windpipe i cant breathe but i still fight while i can fight as long as the wrong feels right its like im in flight high off her love drunk from her hate its like im huffin paint and i love her the more i suffer i suffocate and right before im about to drown she resuscitates me she fuckin hates me and i love it â wait where you going â im leaving you â no you aint come back â were runnin right back here we go again its so insane cause when its goin good its goin great im superman with the wind at his back shes lois lane but when its bad its awful i feel so ashamed i snapped whos that dude i dont even know his name i laid hands on her ill never stoop so low again i guess i dont know my own strength just gonna stand there and watch me burn well thats all right because i like the way it hurts just gonna stand there and hear me cry well thats all right because i love the way you lie i love the way you lie i love the way you lie you ever love somebody so much you can barely breathe when youre with em you meet and neither one of you even know what hit em got that warm fuzzy feelin yeah them chills used to get em now youre gettin fuckin sick of lookin at em you swore youd never hit em never do nothin to hurt em now youre in each others face spewin venom in your words when you spit em you push pull each others hair scratch claw bit em throw em down pin em so lost in the moments when youre in em its the rage that took over it controls you both so they say youre best to go your separate ways guess that they dont know ya cause today that was yesterday yesterday is over its a different day sound like broken records playin over but you promised her next time youll show restraint you dont get another chance life is no nintendo game but you lied again now you get to watch her leave out the window guess thats why they call it window pane you might also like just gonna stand there and watch me burn well thats all right because i like the way it hurts just gonna stand there and hear me cry well thats all right because i love the way you lie i love the way you lie i love the way you lie  now i know we said things did things that we didnt mean then we fall back into the same patterns same routine but your tempers just as bad as mine is youre the same as me when it comes to love youre just as blinded baby please come back it wasnt you baby it was me maybe our relationship isnt as crazy as it seems maybe thats what happens when a tornado meets a volcano all i know is i love you too much to walk away though come inside pick up your bags off the sidewalk dont you hear sincerity in my voice when i talk told you this is my fault look me in the eyeball next time im pissed ill aim my fist at the drywall next time there wont be no next time i apologize even though i know its lies im tired of the games i just want her back i know im a liar if she ever tries to fuckin leave again ima tie her to the bed and set this house on fire just gonnaâ just gonna stand there and watch me burn well thats all right because i like the way it hurts just gonna stand there and hear me cry well thats all right because i love the way you lie i love the way you lie i love the way you lie303embed</td>\n",
       "    </tr>\n",
       "    <tr>\n",
       "      <th>2</th>\n",
       "      <td>TiK ToK</td>\n",
       "      <td>Kesha</td>\n",
       "      <td>grab my glasses im out the door im gonna hit this city lets go before i leave brush my teeth with a bottle of jack cause when i leave for the night i aint coming back  im talkin pedicure on our toes toes tryin on all our clothes clothes boys blowin up our phones phones droptoppin playin our favorite cds pullin up to the parties tryna get a little bit tipsy dont stop make it pop dj blow my speakers up tonight ima fight til we see the sunlight tick tock on the clock but the party dont stop no oh woah woah oh oh woah woah oh dont stop make it pop dj blow my speakers up tonight ima fight til we see the sunlight tick tock on the clock but the party dont stop no oh woah woah oh oh woah woah oh  aint got a care in the world but got plenty of beer aint got no money in my pocket but im already here and now the dudes are linin up cause they hear we got swagger but we kick em to the curb unless they look like mick jagger  im talkin bout everybody gettin crunk crunk boys try to touch my junk junk gonna smack him if he gettin too drunk drunk nonow we go until they kick us out out or the police shut us down down police shut us down down popo shut us down  dont stop make it pop dj blow my speakers up tonight ima fight til we see the sunlight tick tock on the clock but the party dont stop no oh woah woah oh oh woah woah oh dont stop make it pop dj blow my speakers up tonight ima fight til we see the sunlight tick tock on the clock but the party dont stop no oh woah woah oh oh woah woah oh you might also like dj you build me up you break me down my heart it pounds yeah you got me with my hands up you got me now you got that sound yeah you got me dj you build me up you break me down my heart it pounds yeah you got me with my hands up put your hands up put your hands up  now the party dont start til i walk in  dont stop make it pop dj blow my speakers up tonight ima fight til we see the sunlight tick tock on the clock but the party dont stop no oh woah woah oh oh woah woah oh dont stop make it pop dj blow my speakers up tonight ima fight til we see the sunlight tick tock on the clock but the party dont stop no oh woah woah oh oh woah woah oh58embed</td>\n",
       "    </tr>\n",
       "  </tbody>\n",
       "</table>\n",
       "</div>"
      ],
      "text/plain": [
       "                  title  artist  \\\n",
       "0      Hey, Soul Sister   Train   \n",
       "1  Love The Way You Lie  Eminem   \n",
       "2               TiK ToK   Kesha   \n",
       "\n",
       "                                                                                                                                                                                                                                                                                                                                                                                                                                                                                                                                                                                                                                                                                                                                                                                                                                                                                                                                                                                                                                                                                                                                                                                                                                                                                                                                                                                                                                                                                                                                                                                                                                                                                                                                                                                                                                                                                                                                                                                                                                                                                                                                                                                                                                                                                                                                                                                                                                                                                                                                                                                                                                                                                                                                                                                                                                                                                                                                                                                                                                                                                                                                                                                                                                                                                                                                                                                                                                                                                                                                                                                                                        lyrics  \n",
       "0                                                                                                                                                                                                                                                                                                                                                                                                                                                                                                                                                                                                                                                                                                                                                                                                                                                                                                                                                                                                                                                                                                                                                                                                                                                                                                                                                                                                                                                                                                                                                                                                                                                                                                                                                                                                                                                                                                                                                                                                                                                                                       heeeeey heeeeey  your lipstick stains on the front lobe of my leftside brains i knew i wouldnt forget you and so i went and let you blow my mind your sweet moonbeam the smell of you in every single dream i dream i knew when we collided youre the one i have decided whos one of my kind hey soul sister aint that mr mister on the radio stereo the way you move aint fair you know hey soul sister i dont want to miss a single thing you do tonight  hey heeeeey heeeeey  just in time im so glad you have a onetrack mind like me you gave my life direction a game show love connection we cant deny im so obsessed my heart is bound to beat right out my untrimmed chest i believe in you like a virgin youre madonna and im always gonna wanna blow your mind  hey soul sister aint that mr mister on the radio stereo the way you move aint fair you know hey soul sister i dont want to miss a single thing you do tonight see train liveget tickets as low as 150you might also like the way you can cut a rug watching yous the only drug i need so gangster im so thug youre the only one im dreaming of you see i can be myself now finally in fact theres nothing i cant be i want the world to see you be with me  hey soul sister aint that mr mister on the radio stereo the way you move aint fair you know hey soul sister i dont want to miss a single thing you do tonight hey soul sister i dont want to miss a single thing you do tonight  hey heeeeey heeeeey tonight hey heeeeey heeeeey tonight64embed  \n",
       "1  well thats all right because i like the way it hurts just gonna stand there and hear me cry well thats all right because i love the way you lie i love the way you lie  i cant tell you what it really is i can only tell you what it feels like and right now theres a steel knife in my windpipe i cant breathe but i still fight while i can fight as long as the wrong feels right its like im in flight high off her love drunk from her hate its like im huffin paint and i love her the more i suffer i suffocate and right before im about to drown she resuscitates me she fuckin hates me and i love it â wait where you going â im leaving you â no you aint come back â were runnin right back here we go again its so insane cause when its goin good its goin great im superman with the wind at his back shes lois lane but when its bad its awful i feel so ashamed i snapped whos that dude i dont even know his name i laid hands on her ill never stoop so low again i guess i dont know my own strength just gonna stand there and watch me burn well thats all right because i like the way it hurts just gonna stand there and hear me cry well thats all right because i love the way you lie i love the way you lie i love the way you lie you ever love somebody so much you can barely breathe when youre with em you meet and neither one of you even know what hit em got that warm fuzzy feelin yeah them chills used to get em now youre gettin fuckin sick of lookin at em you swore youd never hit em never do nothin to hurt em now youre in each others face spewin venom in your words when you spit em you push pull each others hair scratch claw bit em throw em down pin em so lost in the moments when youre in em its the rage that took over it controls you both so they say youre best to go your separate ways guess that they dont know ya cause today that was yesterday yesterday is over its a different day sound like broken records playin over but you promised her next time youll show restraint you dont get another chance life is no nintendo game but you lied again now you get to watch her leave out the window guess thats why they call it window pane you might also like just gonna stand there and watch me burn well thats all right because i like the way it hurts just gonna stand there and hear me cry well thats all right because i love the way you lie i love the way you lie i love the way you lie  now i know we said things did things that we didnt mean then we fall back into the same patterns same routine but your tempers just as bad as mine is youre the same as me when it comes to love youre just as blinded baby please come back it wasnt you baby it was me maybe our relationship isnt as crazy as it seems maybe thats what happens when a tornado meets a volcano all i know is i love you too much to walk away though come inside pick up your bags off the sidewalk dont you hear sincerity in my voice when i talk told you this is my fault look me in the eyeball next time im pissed ill aim my fist at the drywall next time there wont be no next time i apologize even though i know its lies im tired of the games i just want her back i know im a liar if she ever tries to fuckin leave again ima tie her to the bed and set this house on fire just gonnaâ just gonna stand there and watch me burn well thats all right because i like the way it hurts just gonna stand there and hear me cry well thats all right because i love the way you lie i love the way you lie i love the way you lie303embed  \n",
       "2                                                                                                                                                                                                                                                                                                                                                                                                                                                                                                                                                                                                                                                                                                                                                                                                                                                                                                                                                                                                                                                                                                                                                                                                                                                                                                                                                                      grab my glasses im out the door im gonna hit this city lets go before i leave brush my teeth with a bottle of jack cause when i leave for the night i aint coming back  im talkin pedicure on our toes toes tryin on all our clothes clothes boys blowin up our phones phones droptoppin playin our favorite cds pullin up to the parties tryna get a little bit tipsy dont stop make it pop dj blow my speakers up tonight ima fight til we see the sunlight tick tock on the clock but the party dont stop no oh woah woah oh oh woah woah oh dont stop make it pop dj blow my speakers up tonight ima fight til we see the sunlight tick tock on the clock but the party dont stop no oh woah woah oh oh woah woah oh  aint got a care in the world but got plenty of beer aint got no money in my pocket but im already here and now the dudes are linin up cause they hear we got swagger but we kick em to the curb unless they look like mick jagger  im talkin bout everybody gettin crunk crunk boys try to touch my junk junk gonna smack him if he gettin too drunk drunk nonow we go until they kick us out out or the police shut us down down police shut us down down popo shut us down  dont stop make it pop dj blow my speakers up tonight ima fight til we see the sunlight tick tock on the clock but the party dont stop no oh woah woah oh oh woah woah oh dont stop make it pop dj blow my speakers up tonight ima fight til we see the sunlight tick tock on the clock but the party dont stop no oh woah woah oh oh woah woah oh you might also like dj you build me up you break me down my heart it pounds yeah you got me with my hands up you got me now you got that sound yeah you got me dj you build me up you break me down my heart it pounds yeah you got me with my hands up put your hands up put your hands up  now the party dont start til i walk in  dont stop make it pop dj blow my speakers up tonight ima fight til we see the sunlight tick tock on the clock but the party dont stop no oh woah woah oh oh woah woah oh dont stop make it pop dj blow my speakers up tonight ima fight til we see the sunlight tick tock on the clock but the party dont stop no oh woah woah oh oh woah woah oh58embed  "
      ]
     },
     "metadata": {},
     "output_type": "display_data"
    }
   ],
   "source": [
    "df['lyrics'] = df['lyrics'].replace(\"see train liveget tickets as low as 150\", '')\n",
    "\n",
    "with pd.option_context('display.max_colwidth', None):\n",
=======
>>>>>>> main
    "  display(df.head(3))"
   ]
  },
  {
   "cell_type": "code",
<<<<<<< HEAD
   "execution_count": 13,
   "id": "b3b29d49",
   "metadata": {},
   "outputs": [
    {
     "name": "stderr",
     "output_type": "stream",
     "text": [
      "C:\\Users\\jmhhb\\anaconda3\\envs\\PythonData\\lib\\site-packages\\ipykernel_launcher.py:2: FutureWarning: The default value of regex will change from True to False in a future version.\n",
      "  \n"
     ]
    },
    {
     "data": {
      "text/html": [
       "<div>\n",
       "<style scoped>\n",
       "    .dataframe tbody tr th:only-of-type {\n",
       "        vertical-align: middle;\n",
       "    }\n",
       "\n",
       "    .dataframe tbody tr th {\n",
       "        vertical-align: top;\n",
       "    }\n",
       "\n",
       "    .dataframe thead th {\n",
       "        text-align: right;\n",
       "    }\n",
       "</style>\n",
       "<table border=\"1\" class=\"dataframe\">\n",
       "  <thead>\n",
       "    <tr style=\"text-align: right;\">\n",
       "      <th></th>\n",
       "      <th>title</th>\n",
       "      <th>artist</th>\n",
       "      <th>lyrics</th>\n",
       "    </tr>\n",
       "  </thead>\n",
       "  <tbody>\n",
       "    <tr>\n",
       "      <th>0</th>\n",
       "      <td>Hey, Soul Sister</td>\n",
       "      <td>Train</td>\n",
       "      <td>heeeeey heeeeey  your lipstick stains on the front lobe of my leftside brains i knew i wouldnt forget you and so i went and let you blow my mind your sweet moonbeam the smell of you in every single dream i dream i knew when we collided youre the one i have decided whos one of my kind hey soul sister aint that mr mister on the radio stereo the way you move aint fair you know hey soul sister i dont want to miss a single thing you do tonight  hey heeeeey heeeeey  just in time im so glad you have a onetrack mind like me you gave my life direction a game show love connection we cant deny im so obsessed my heart is bound to beat right out my untrimmed chest i believe in you like a virgin youre madonna and im always gonna wanna blow your mind  hey soul sister aint that mr mister on the radio stereo the way you move aint fair you know hey soul sister i dont want to miss a single thing you do tonight see train liveget tickets as low as you might also like the way you can cut a rug watching yous the only drug i need so gangster im so thug youre the only one im dreaming of you see i can be myself now finally in fact theres nothing i cant be i want the world to see you be with me  hey soul sister aint that mr mister on the radio stereo the way you move aint fair you know hey soul sister i dont want to miss a single thing you do tonight hey soul sister i dont want to miss a single thing you do tonight  hey heeeeey heeeeey tonight hey heeeeey heeeeey tonightembed</td>\n",
       "    </tr>\n",
       "    <tr>\n",
       "      <th>1</th>\n",
       "      <td>Love The Way You Lie</td>\n",
       "      <td>Eminem</td>\n",
       "      <td>well thats all right because i like the way it hurts just gonna stand there and hear me cry well thats all right because i love the way you lie i love the way you lie  i cant tell you what it really is i can only tell you what it feels like and right now theres a steel knife in my windpipe i cant breathe but i still fight while i can fight as long as the wrong feels right its like im in flight high off her love drunk from her hate its like im huffin paint and i love her the more i suffer i suffocate and right before im about to drown she resuscitates me she fuckin hates me and i love it â wait where you going â im leaving you â no you aint come back â were runnin right back here we go again its so insane cause when its goin good its goin great im superman with the wind at his back shes lois lane but when its bad its awful i feel so ashamed i snapped whos that dude i dont even know his name i laid hands on her ill never stoop so low again i guess i dont know my own strength just gonna stand there and watch me burn well thats all right because i like the way it hurts just gonna stand there and hear me cry well thats all right because i love the way you lie i love the way you lie i love the way you lie you ever love somebody so much you can barely breathe when youre with em you meet and neither one of you even know what hit em got that warm fuzzy feelin yeah them chills used to get em now youre gettin fuckin sick of lookin at em you swore youd never hit em never do nothin to hurt em now youre in each others face spewin venom in your words when you spit em you push pull each others hair scratch claw bit em throw em down pin em so lost in the moments when youre in em its the rage that took over it controls you both so they say youre best to go your separate ways guess that they dont know ya cause today that was yesterday yesterday is over its a different day sound like broken records playin over but you promised her next time youll show restraint you dont get another chance life is no nintendo game but you lied again now you get to watch her leave out the window guess thats why they call it window pane you might also like just gonna stand there and watch me burn well thats all right because i like the way it hurts just gonna stand there and hear me cry well thats all right because i love the way you lie i love the way you lie i love the way you lie  now i know we said things did things that we didnt mean then we fall back into the same patterns same routine but your tempers just as bad as mine is youre the same as me when it comes to love youre just as blinded baby please come back it wasnt you baby it was me maybe our relationship isnt as crazy as it seems maybe thats what happens when a tornado meets a volcano all i know is i love you too much to walk away though come inside pick up your bags off the sidewalk dont you hear sincerity in my voice when i talk told you this is my fault look me in the eyeball next time im pissed ill aim my fist at the drywall next time there wont be no next time i apologize even though i know its lies im tired of the games i just want her back i know im a liar if she ever tries to fuckin leave again ima tie her to the bed and set this house on fire just gonnaâ just gonna stand there and watch me burn well thats all right because i like the way it hurts just gonna stand there and hear me cry well thats all right because i love the way you lie i love the way you lie i love the way you lieembed</td>\n",
       "    </tr>\n",
       "    <tr>\n",
       "      <th>2</th>\n",
       "      <td>TiK ToK</td>\n",
       "      <td>Kesha</td>\n",
       "      <td>grab my glasses im out the door im gonna hit this city lets go before i leave brush my teeth with a bottle of jack cause when i leave for the night i aint coming back  im talkin pedicure on our toes toes tryin on all our clothes clothes boys blowin up our phones phones droptoppin playin our favorite cds pullin up to the parties tryna get a little bit tipsy dont stop make it pop dj blow my speakers up tonight ima fight til we see the sunlight tick tock on the clock but the party dont stop no oh woah woah oh oh woah woah oh dont stop make it pop dj blow my speakers up tonight ima fight til we see the sunlight tick tock on the clock but the party dont stop no oh woah woah oh oh woah woah oh  aint got a care in the world but got plenty of beer aint got no money in my pocket but im already here and now the dudes are linin up cause they hear we got swagger but we kick em to the curb unless they look like mick jagger  im talkin bout everybody gettin crunk crunk boys try to touch my junk junk gonna smack him if he gettin too drunk drunk nonow we go until they kick us out out or the police shut us down down police shut us down down popo shut us down  dont stop make it pop dj blow my speakers up tonight ima fight til we see the sunlight tick tock on the clock but the party dont stop no oh woah woah oh oh woah woah oh dont stop make it pop dj blow my speakers up tonight ima fight til we see the sunlight tick tock on the clock but the party dont stop no oh woah woah oh oh woah woah oh you might also like dj you build me up you break me down my heart it pounds yeah you got me with my hands up you got me now you got that sound yeah you got me dj you build me up you break me down my heart it pounds yeah you got me with my hands up put your hands up put your hands up  now the party dont start til i walk in  dont stop make it pop dj blow my speakers up tonight ima fight til we see the sunlight tick tock on the clock but the party dont stop no oh woah woah oh oh woah woah oh dont stop make it pop dj blow my speakers up tonight ima fight til we see the sunlight tick tock on the clock but the party dont stop no oh woah woah oh oh woah woah ohembed</td>\n",
       "    </tr>\n",
       "  </tbody>\n",
       "</table>\n",
       "</div>"
      ],
      "text/plain": [
       "                  title  artist  \\\n",
       "0      Hey, Soul Sister   Train   \n",
       "1  Love The Way You Lie  Eminem   \n",
       "2               TiK ToK   Kesha   \n",
       "\n",
       "                                                                                                                                                                                                                                                                                                                                                                                                                                                                                                                                                                                                                                                                                                                                                                                                                                                                                                                                                                                                                                                                                                                                                                                                                                                                                                                                                                                                                                                                                                                                                                                                                                                                                                                                                                                                                                                                                                                                                                                                                                                                                                                                                                                                                                                                                                                                                                                                                                                                                                                                                                                                                                                                                                                                                                                                                                                                                                                                                                                                                                                                                                                                                                                                                                                                                                                                                                                                                                                                                                                                                                                                                     lyrics  \n",
       "0                                                                                                                                                                                                                                                                                                                                                                                                                                                                                                                                                                                                                                                                                                                                                                                                                                                                                                                                                                                                                                                                                                                                                                                                                                                                                                                                                                                                                                                                                                                                                                                                                                                                                                                                                                                                                                                                                                                                                                                                                                                                                         heeeeey heeeeey  your lipstick stains on the front lobe of my leftside brains i knew i wouldnt forget you and so i went and let you blow my mind your sweet moonbeam the smell of you in every single dream i dream i knew when we collided youre the one i have decided whos one of my kind hey soul sister aint that mr mister on the radio stereo the way you move aint fair you know hey soul sister i dont want to miss a single thing you do tonight  hey heeeeey heeeeey  just in time im so glad you have a onetrack mind like me you gave my life direction a game show love connection we cant deny im so obsessed my heart is bound to beat right out my untrimmed chest i believe in you like a virgin youre madonna and im always gonna wanna blow your mind  hey soul sister aint that mr mister on the radio stereo the way you move aint fair you know hey soul sister i dont want to miss a single thing you do tonight see train liveget tickets as low as you might also like the way you can cut a rug watching yous the only drug i need so gangster im so thug youre the only one im dreaming of you see i can be myself now finally in fact theres nothing i cant be i want the world to see you be with me  hey soul sister aint that mr mister on the radio stereo the way you move aint fair you know hey soul sister i dont want to miss a single thing you do tonight hey soul sister i dont want to miss a single thing you do tonight  hey heeeeey heeeeey tonight hey heeeeey heeeeey tonightembed  \n",
       "1  well thats all right because i like the way it hurts just gonna stand there and hear me cry well thats all right because i love the way you lie i love the way you lie  i cant tell you what it really is i can only tell you what it feels like and right now theres a steel knife in my windpipe i cant breathe but i still fight while i can fight as long as the wrong feels right its like im in flight high off her love drunk from her hate its like im huffin paint and i love her the more i suffer i suffocate and right before im about to drown she resuscitates me she fuckin hates me and i love it â wait where you going â im leaving you â no you aint come back â were runnin right back here we go again its so insane cause when its goin good its goin great im superman with the wind at his back shes lois lane but when its bad its awful i feel so ashamed i snapped whos that dude i dont even know his name i laid hands on her ill never stoop so low again i guess i dont know my own strength just gonna stand there and watch me burn well thats all right because i like the way it hurts just gonna stand there and hear me cry well thats all right because i love the way you lie i love the way you lie i love the way you lie you ever love somebody so much you can barely breathe when youre with em you meet and neither one of you even know what hit em got that warm fuzzy feelin yeah them chills used to get em now youre gettin fuckin sick of lookin at em you swore youd never hit em never do nothin to hurt em now youre in each others face spewin venom in your words when you spit em you push pull each others hair scratch claw bit em throw em down pin em so lost in the moments when youre in em its the rage that took over it controls you both so they say youre best to go your separate ways guess that they dont know ya cause today that was yesterday yesterday is over its a different day sound like broken records playin over but you promised her next time youll show restraint you dont get another chance life is no nintendo game but you lied again now you get to watch her leave out the window guess thats why they call it window pane you might also like just gonna stand there and watch me burn well thats all right because i like the way it hurts just gonna stand there and hear me cry well thats all right because i love the way you lie i love the way you lie i love the way you lie  now i know we said things did things that we didnt mean then we fall back into the same patterns same routine but your tempers just as bad as mine is youre the same as me when it comes to love youre just as blinded baby please come back it wasnt you baby it was me maybe our relationship isnt as crazy as it seems maybe thats what happens when a tornado meets a volcano all i know is i love you too much to walk away though come inside pick up your bags off the sidewalk dont you hear sincerity in my voice when i talk told you this is my fault look me in the eyeball next time im pissed ill aim my fist at the drywall next time there wont be no next time i apologize even though i know its lies im tired of the games i just want her back i know im a liar if she ever tries to fuckin leave again ima tie her to the bed and set this house on fire just gonnaâ just gonna stand there and watch me burn well thats all right because i like the way it hurts just gonna stand there and hear me cry well thats all right because i love the way you lie i love the way you lie i love the way you lieembed  \n",
       "2                                                                                                                                                                                                                                                                                                                                                                                                                                                                                                                                                                                                                                                                                                                                                                                                                                                                                                                                                                                                                                                                                                                                                                                                                                                                                                                                                                     grab my glasses im out the door im gonna hit this city lets go before i leave brush my teeth with a bottle of jack cause when i leave for the night i aint coming back  im talkin pedicure on our toes toes tryin on all our clothes clothes boys blowin up our phones phones droptoppin playin our favorite cds pullin up to the parties tryna get a little bit tipsy dont stop make it pop dj blow my speakers up tonight ima fight til we see the sunlight tick tock on the clock but the party dont stop no oh woah woah oh oh woah woah oh dont stop make it pop dj blow my speakers up tonight ima fight til we see the sunlight tick tock on the clock but the party dont stop no oh woah woah oh oh woah woah oh  aint got a care in the world but got plenty of beer aint got no money in my pocket but im already here and now the dudes are linin up cause they hear we got swagger but we kick em to the curb unless they look like mick jagger  im talkin bout everybody gettin crunk crunk boys try to touch my junk junk gonna smack him if he gettin too drunk drunk nonow we go until they kick us out out or the police shut us down down police shut us down down popo shut us down  dont stop make it pop dj blow my speakers up tonight ima fight til we see the sunlight tick tock on the clock but the party dont stop no oh woah woah oh oh woah woah oh dont stop make it pop dj blow my speakers up tonight ima fight til we see the sunlight tick tock on the clock but the party dont stop no oh woah woah oh oh woah woah oh you might also like dj you build me up you break me down my heart it pounds yeah you got me with my hands up you got me now you got that sound yeah you got me dj you build me up you break me down my heart it pounds yeah you got me with my hands up put your hands up put your hands up  now the party dont start til i walk in  dont stop make it pop dj blow my speakers up tonight ima fight til we see the sunlight tick tock on the clock but the party dont stop no oh woah woah oh oh woah woah oh dont stop make it pop dj blow my speakers up tonight ima fight til we see the sunlight tick tock on the clock but the party dont stop no oh woah woah oh oh woah woah ohembed  "
      ]
     },
     "metadata": {},
     "output_type": "display_data"
    }
   ],
   "source": [
    "# Removed numbers\n",
    "df['lyrics'] = df['lyrics'].str.replace(r'\\d', '')\n",
    "\n",
    "with pd.option_context('display.max_colwidth', None):\n",
    "  display(df.head(3))"
   ]
  },
  {
   "cell_type": "code",
   "execution_count": 14,
   "id": "bb95d05f",
   "metadata": {},
   "outputs": [
    {
     "data": {
      "text/html": [
       "<div>\n",
       "<style scoped>\n",
       "    .dataframe tbody tr th:only-of-type {\n",
       "        vertical-align: middle;\n",
       "    }\n",
       "\n",
       "    .dataframe tbody tr th {\n",
       "        vertical-align: top;\n",
       "    }\n",
       "\n",
       "    .dataframe thead th {\n",
       "        text-align: right;\n",
       "    }\n",
       "</style>\n",
       "<table border=\"1\" class=\"dataframe\">\n",
       "  <thead>\n",
       "    <tr style=\"text-align: right;\">\n",
       "      <th></th>\n",
       "      <th>title</th>\n",
       "      <th>artist</th>\n",
       "      <th>lyrics</th>\n",
       "    </tr>\n",
       "  </thead>\n",
       "  <tbody>\n",
       "    <tr>\n",
       "      <th>0</th>\n",
       "      <td>Hey, Soul Sister</td>\n",
       "      <td>Train</td>\n",
       "      <td>heeeeey heeeeey  your lipstick stains on the front lobe of my leftside brains i knew i wouldnt forget you and so i went and let you blow my mind your sweet moonbeam the smell of you in every single dream i dream i knew when we collided youre the one i have decided whos one of my kind hey soul sister aint that mr mister on the radio stereo the way you move aint fair you know hey soul sister i dont want to miss a single thing you do tonight  hey heeeeey heeeeey  just in time im so glad you have a onetrack mind like me you gave my life direction a game show love connection we cant deny im so obsessed my heart is bound to beat right out my untrimmed chest i believe in you like a virgin youre madonna and im always gonna wanna blow your mind  hey soul sister aint that mr mister on the radio stereo the way you move aint fair you know hey soul sister i dont want to miss a single thing you do tonight see train liveget tickets as low as you might also like the way you can cut a rug watching yous the only drug i need so gangster im so thug youre the only one im dreaming of you see i can be myself now finally in fact theres nothing i cant be i want the world to see you be with me  hey soul sister aint that mr mister on the radio stereo the way you move aint fair you know hey soul sister i dont want to miss a single thing you do tonight hey soul sister i dont want to miss a single thing you do tonight  hey heeeeey heeeeey tonight hey heeeeey heeeeey tonight</td>\n",
       "    </tr>\n",
       "    <tr>\n",
       "      <th>1</th>\n",
       "      <td>Love The Way You Lie</td>\n",
       "      <td>Eminem</td>\n",
       "      <td>well thats all right because i like the way it hurts just gonna stand there and hear me cry well thats all right because i love the way you lie i love the way you lie  i cant tell you what it really is i can only tell you what it feels like and right now theres a steel knife in my windpipe i cant breathe but i still fight while i can fight as long as the wrong feels right its like im in flight high off her love drunk from her hate its like im huffin paint and i love her the more i suffer i suffocate and right before im about to drown she resuscitates me she fuckin hates me and i love it â wait where you going â im leaving you â no you aint come back â were runnin right back here we go again its so insane cause when its goin good its goin great im superman with the wind at his back shes lois lane but when its bad its awful i feel so ashamed i snapped whos that dude i dont even know his name i laid hands on her ill never stoop so low again i guess i dont know my own strength just gonna stand there and watch me burn well thats all right because i like the way it hurts just gonna stand there and hear me cry well thats all right because i love the way you lie i love the way you lie i love the way you lie you ever love somebody so much you can barely breathe when youre with em you meet and neither one of you even know what hit em got that warm fuzzy feelin yeah them chills used to get em now youre gettin fuckin sick of lookin at em you swore youd never hit em never do nothin to hurt em now youre in each others face spewin venom in your words when you spit em you push pull each others hair scratch claw bit em throw em down pin em so lost in the moments when youre in em its the rage that took over it controls you both so they say youre best to go your separate ways guess that they dont know ya cause today that was yesterday yesterday is over its a different day sound like broken records playin over but you promised her next time youll show restraint you dont get another chance life is no nintendo game but you lied again now you get to watch her leave out the window guess thats why they call it window pane you might also like just gonna stand there and watch me burn well thats all right because i like the way it hurts just gonna stand there and hear me cry well thats all right because i love the way you lie i love the way you lie i love the way you lie  now i know we said things did things that we didnt mean then we fall back into the same patterns same routine but your tempers just as bad as mine is youre the same as me when it comes to love youre just as blinded baby please come back it wasnt you baby it was me maybe our relationship isnt as crazy as it seems maybe thats what happens when a tornado meets a volcano all i know is i love you too much to walk away though come inside pick up your bags off the sidewalk dont you hear sincerity in my voice when i talk told you this is my fault look me in the eyeball next time im pissed ill aim my fist at the drywall next time there wont be no next time i apologize even though i know its lies im tired of the games i just want her back i know im a liar if she ever tries to fuckin leave again ima tie her to the bed and set this house on fire just gonnaâ just gonna stand there and watch me burn well thats all right because i like the way it hurts just gonna stand there and hear me cry well thats all right because i love the way you lie i love the way you lie i love the way you lie</td>\n",
       "    </tr>\n",
       "    <tr>\n",
       "      <th>2</th>\n",
       "      <td>TiK ToK</td>\n",
       "      <td>Kesha</td>\n",
       "      <td>grab my glasses im out the door im gonna hit this city lets go before i leave brush my teeth with a bottle of jack cause when i leave for the night i aint coming back  im talkin pedicure on our toes toes tryin on all our clothes clothes boys blowin up our phones phones droptoppin playin our favorite cds pullin up to the parties tryna get a little bit tipsy dont stop make it pop dj blow my speakers up tonight ima fight til we see the sunlight tick tock on the clock but the party dont stop no oh woah woah oh oh woah woah oh dont stop make it pop dj blow my speakers up tonight ima fight til we see the sunlight tick tock on the clock but the party dont stop no oh woah woah oh oh woah woah oh  aint got a care in the world but got plenty of beer aint got no money in my pocket but im already here and now the dudes are linin up cause they hear we got swagger but we kick em to the curb unless they look like mick jagger  im talkin bout everybody gettin crunk crunk boys try to touch my junk junk gonna smack him if he gettin too drunk drunk nonow we go until they kick us out out or the police shut us down down police shut us down down popo shut us down  dont stop make it pop dj blow my speakers up tonight ima fight til we see the sunlight tick tock on the clock but the party dont stop no oh woah woah oh oh woah woah oh dont stop make it pop dj blow my speakers up tonight ima fight til we see the sunlight tick tock on the clock but the party dont stop no oh woah woah oh oh woah woah oh you might also like dj you build me up you break me down my heart it pounds yeah you got me with my hands up you got me now you got that sound yeah you got me dj you build me up you break me down my heart it pounds yeah you got me with my hands up put your hands up put your hands up  now the party dont start til i walk in  dont stop make it pop dj blow my speakers up tonight ima fight til we see the sunlight tick tock on the clock but the party dont stop no oh woah woah oh oh woah woah oh dont stop make it pop dj blow my speakers up tonight ima fight til we see the sunlight tick tock on the clock but the party dont stop no oh woah woah oh oh woah woah oh</td>\n",
       "    </tr>\n",
       "  </tbody>\n",
       "</table>\n",
       "</div>"
      ],
      "text/plain": [
       "                  title  artist  \\\n",
       "0      Hey, Soul Sister   Train   \n",
       "1  Love The Way You Lie  Eminem   \n",
       "2               TiK ToK   Kesha   \n",
       "\n",
       "                                                                                                                                                                                                                                                                                                                                                                                                                                                                                                                                                                                                                                                                                                                                                                                                                                                                                                                                                                                                                                                                                                                                                                                                                                                                                                                                                                                                                                                                                                                                                                                                                                                                                                                                                                                                                                                                                                                                                                                                                                                                                                                                                                                                                                                                                                                                                                                                                                                                                                                                                                                                                                                                                                                                                                                                                                                                                                                                                                                                                                                                                                                                                                                                                                                                                                                                                                                                                                                                                                                                                                                                                lyrics  \n",
       "0                                                                                                                                                                                                                                                                                                                                                                                                                                                                                                                                                                                                                                                                                                                                                                                                                                                                                                                                                                                                                                                                                                                                                                                                                                                                                                                                                                                                                                                                                                                                                                                                                                                                                                                                                                                                                                                                                                                                                                                                                                                                                         heeeeey heeeeey  your lipstick stains on the front lobe of my leftside brains i knew i wouldnt forget you and so i went and let you blow my mind your sweet moonbeam the smell of you in every single dream i dream i knew when we collided youre the one i have decided whos one of my kind hey soul sister aint that mr mister on the radio stereo the way you move aint fair you know hey soul sister i dont want to miss a single thing you do tonight  hey heeeeey heeeeey  just in time im so glad you have a onetrack mind like me you gave my life direction a game show love connection we cant deny im so obsessed my heart is bound to beat right out my untrimmed chest i believe in you like a virgin youre madonna and im always gonna wanna blow your mind  hey soul sister aint that mr mister on the radio stereo the way you move aint fair you know hey soul sister i dont want to miss a single thing you do tonight see train liveget tickets as low as you might also like the way you can cut a rug watching yous the only drug i need so gangster im so thug youre the only one im dreaming of you see i can be myself now finally in fact theres nothing i cant be i want the world to see you be with me  hey soul sister aint that mr mister on the radio stereo the way you move aint fair you know hey soul sister i dont want to miss a single thing you do tonight hey soul sister i dont want to miss a single thing you do tonight  hey heeeeey heeeeey tonight hey heeeeey heeeeey tonight  \n",
       "1  well thats all right because i like the way it hurts just gonna stand there and hear me cry well thats all right because i love the way you lie i love the way you lie  i cant tell you what it really is i can only tell you what it feels like and right now theres a steel knife in my windpipe i cant breathe but i still fight while i can fight as long as the wrong feels right its like im in flight high off her love drunk from her hate its like im huffin paint and i love her the more i suffer i suffocate and right before im about to drown she resuscitates me she fuckin hates me and i love it â wait where you going â im leaving you â no you aint come back â were runnin right back here we go again its so insane cause when its goin good its goin great im superman with the wind at his back shes lois lane but when its bad its awful i feel so ashamed i snapped whos that dude i dont even know his name i laid hands on her ill never stoop so low again i guess i dont know my own strength just gonna stand there and watch me burn well thats all right because i like the way it hurts just gonna stand there and hear me cry well thats all right because i love the way you lie i love the way you lie i love the way you lie you ever love somebody so much you can barely breathe when youre with em you meet and neither one of you even know what hit em got that warm fuzzy feelin yeah them chills used to get em now youre gettin fuckin sick of lookin at em you swore youd never hit em never do nothin to hurt em now youre in each others face spewin venom in your words when you spit em you push pull each others hair scratch claw bit em throw em down pin em so lost in the moments when youre in em its the rage that took over it controls you both so they say youre best to go your separate ways guess that they dont know ya cause today that was yesterday yesterday is over its a different day sound like broken records playin over but you promised her next time youll show restraint you dont get another chance life is no nintendo game but you lied again now you get to watch her leave out the window guess thats why they call it window pane you might also like just gonna stand there and watch me burn well thats all right because i like the way it hurts just gonna stand there and hear me cry well thats all right because i love the way you lie i love the way you lie i love the way you lie  now i know we said things did things that we didnt mean then we fall back into the same patterns same routine but your tempers just as bad as mine is youre the same as me when it comes to love youre just as blinded baby please come back it wasnt you baby it was me maybe our relationship isnt as crazy as it seems maybe thats what happens when a tornado meets a volcano all i know is i love you too much to walk away though come inside pick up your bags off the sidewalk dont you hear sincerity in my voice when i talk told you this is my fault look me in the eyeball next time im pissed ill aim my fist at the drywall next time there wont be no next time i apologize even though i know its lies im tired of the games i just want her back i know im a liar if she ever tries to fuckin leave again ima tie her to the bed and set this house on fire just gonnaâ just gonna stand there and watch me burn well thats all right because i like the way it hurts just gonna stand there and hear me cry well thats all right because i love the way you lie i love the way you lie i love the way you lie  \n",
       "2                                                                                                                                                                                                                                                                                                                                                                                                                                                                                                                                                                                                                                                                                                                                                                                                                                                                                                                                                                                                                                                                                                                                                                                                                                                                                                                                                                     grab my glasses im out the door im gonna hit this city lets go before i leave brush my teeth with a bottle of jack cause when i leave for the night i aint coming back  im talkin pedicure on our toes toes tryin on all our clothes clothes boys blowin up our phones phones droptoppin playin our favorite cds pullin up to the parties tryna get a little bit tipsy dont stop make it pop dj blow my speakers up tonight ima fight til we see the sunlight tick tock on the clock but the party dont stop no oh woah woah oh oh woah woah oh dont stop make it pop dj blow my speakers up tonight ima fight til we see the sunlight tick tock on the clock but the party dont stop no oh woah woah oh oh woah woah oh  aint got a care in the world but got plenty of beer aint got no money in my pocket but im already here and now the dudes are linin up cause they hear we got swagger but we kick em to the curb unless they look like mick jagger  im talkin bout everybody gettin crunk crunk boys try to touch my junk junk gonna smack him if he gettin too drunk drunk nonow we go until they kick us out out or the police shut us down down police shut us down down popo shut us down  dont stop make it pop dj blow my speakers up tonight ima fight til we see the sunlight tick tock on the clock but the party dont stop no oh woah woah oh oh woah woah oh dont stop make it pop dj blow my speakers up tonight ima fight til we see the sunlight tick tock on the clock but the party dont stop no oh woah woah oh oh woah woah oh you might also like dj you build me up you break me down my heart it pounds yeah you got me with my hands up you got me now you got that sound yeah you got me dj you build me up you break me down my heart it pounds yeah you got me with my hands up put your hands up put your hands up  now the party dont start til i walk in  dont stop make it pop dj blow my speakers up tonight ima fight til we see the sunlight tick tock on the clock but the party dont stop no oh woah woah oh oh woah woah oh dont stop make it pop dj blow my speakers up tonight ima fight til we see the sunlight tick tock on the clock but the party dont stop no oh woah woah oh oh woah woah oh  "
      ]
     },
     "metadata": {},
     "output_type": "display_data"
    }
   ],
   "source": [
    "# Removed embed\n",
    "df['lyrics'] = df['lyrics'].str.replace('embed', '')\n",
    "\n",
    "with pd.option_context('display.max_colwidth', None):\n",
    "  display(df.head(3))"
   ]
  },
  {
   "cell_type": "code",
   "execution_count": 16,
   "id": "1dc8acb8",
   "metadata": {},
   "outputs": [
    {
     "data": {
      "text/html": [
       "<div>\n",
       "<style scoped>\n",
       "    .dataframe tbody tr th:only-of-type {\n",
       "        vertical-align: middle;\n",
       "    }\n",
       "\n",
       "    .dataframe tbody tr th {\n",
       "        vertical-align: top;\n",
       "    }\n",
       "\n",
       "    .dataframe thead th {\n",
       "        text-align: right;\n",
       "    }\n",
       "</style>\n",
       "<table border=\"1\" class=\"dataframe\">\n",
       "  <thead>\n",
       "    <tr style=\"text-align: right;\">\n",
       "      <th></th>\n",
       "      <th>title</th>\n",
       "      <th>artist</th>\n",
       "      <th>lyrics</th>\n",
       "    </tr>\n",
       "  </thead>\n",
       "  <tbody>\n",
       "    <tr>\n",
       "      <th>0</th>\n",
       "      <td>Hey, Soul Sister</td>\n",
       "      <td>Train</td>\n",
       "      <td>heeeeey heeeeey  your lipstick stains on the front lobe of my leftside brains i knew i wouldnt forget you and so i went and let you blow my mind your sweet moonbeam the smell of you in every single dream i dream i knew when we collided youre the one i have decided whos one of my kind hey soul sister aint that mr mister on the radio stereo the way you move aint fair you know hey soul sister i dont want to miss a single thing you do tonight  hey heeeeey heeeeey  just in time im so glad you have a onetrack mind like me you gave my life direction a game show love connection we cant deny im so obsessed my heart is bound to beat right out my untrimmed chest i believe in you like a virgin youre madonna and im always gonna wanna blow your mind  hey soul sister aint that mr mister on the radio stereo the way you move aint fair you know hey soul sister i dont want to miss a single thing you do tonight  you might also like the way you can cut a rug watching yous the only drug i need so gangster im so thug youre the only one im dreaming of you see i can be myself now finally in fact theres nothing i cant be i want the world to see you be with me  hey soul sister aint that mr mister on the radio stereo the way you move aint fair you know hey soul sister i dont want to miss a single thing you do tonight hey soul sister i dont want to miss a single thing you do tonight  hey heeeeey heeeeey tonight hey heeeeey heeeeey tonight</td>\n",
       "    </tr>\n",
       "    <tr>\n",
       "      <th>1</th>\n",
       "      <td>Love The Way You Lie</td>\n",
       "      <td>Eminem</td>\n",
       "      <td>well thats all right because i like the way it hurts just gonna stand there and hear me cry well thats all right because i love the way you lie i love the way you lie  i cant tell you what it really is i can only tell you what it feels like and right now theres a steel knife in my windpipe i cant breathe but i still fight while i can fight as long as the wrong feels right its like im in flight high off her love drunk from her hate its like im huffin paint and i love her the more i suffer i suffocate and right before im about to drown she resuscitates me she fuckin hates me and i love it â wait where you going â im leaving you â no you aint come back â were runnin right back here we go again its so insane cause when its goin good its goin great im superman with the wind at his back shes lois lane but when its bad its awful i feel so ashamed i snapped whos that dude i dont even know his name i laid hands on her ill never stoop so low again i guess i dont know my own strength just gonna stand there and watch me burn well thats all right because i like the way it hurts just gonna stand there and hear me cry well thats all right because i love the way you lie i love the way you lie i love the way you lie you ever love somebody so much you can barely breathe when youre with em you meet and neither one of you even know what hit em got that warm fuzzy feelin yeah them chills used to get em now youre gettin fuckin sick of lookin at em you swore youd never hit em never do nothin to hurt em now youre in each others face spewin venom in your words when you spit em you push pull each others hair scratch claw bit em throw em down pin em so lost in the moments when youre in em its the rage that took over it controls you both so they say youre best to go your separate ways guess that they dont know ya cause today that was yesterday yesterday is over its a different day sound like broken records playin over but you promised her next time youll show restraint you dont get another chance life is no nintendo game but you lied again now you get to watch her leave out the window guess thats why they call it window pane you might also like just gonna stand there and watch me burn well thats all right because i like the way it hurts just gonna stand there and hear me cry well thats all right because i love the way you lie i love the way you lie i love the way you lie  now i know we said things did things that we didnt mean then we fall back into the same patterns same routine but your tempers just as bad as mine is youre the same as me when it comes to love youre just as blinded baby please come back it wasnt you baby it was me maybe our relationship isnt as crazy as it seems maybe thats what happens when a tornado meets a volcano all i know is i love you too much to walk away though come inside pick up your bags off the sidewalk dont you hear sincerity in my voice when i talk told you this is my fault look me in the eyeball next time im pissed ill aim my fist at the drywall next time there wont be no next time i apologize even though i know its lies im tired of the games i just want her back i know im a liar if she ever tries to fuckin leave again ima tie her to the bed and set this house on fire just gonnaâ just gonna stand there and watch me burn well thats all right because i like the way it hurts just gonna stand there and hear me cry well thats all right because i love the way you lie i love the way you lie i love the way you lie</td>\n",
       "    </tr>\n",
       "    <tr>\n",
       "      <th>2</th>\n",
       "      <td>TiK ToK</td>\n",
       "      <td>Kesha</td>\n",
       "      <td>grab my glasses im out the door im gonna hit this city lets go before i leave brush my teeth with a bottle of jack cause when i leave for the night i aint coming back  im talkin pedicure on our toes toes tryin on all our clothes clothes boys blowin up our phones phones droptoppin playin our favorite cds pullin up to the parties tryna get a little bit tipsy dont stop make it pop dj blow my speakers up tonight ima fight til we see the sunlight tick tock on the clock but the party dont stop no oh woah woah oh oh woah woah oh dont stop make it pop dj blow my speakers up tonight ima fight til we see the sunlight tick tock on the clock but the party dont stop no oh woah woah oh oh woah woah oh  aint got a care in the world but got plenty of beer aint got no money in my pocket but im already here and now the dudes are linin up cause they hear we got swagger but we kick em to the curb unless they look like mick jagger  im talkin bout everybody gettin crunk crunk boys try to touch my junk junk gonna smack him if he gettin too drunk drunk nonow we go until they kick us out out or the police shut us down down police shut us down down popo shut us down  dont stop make it pop dj blow my speakers up tonight ima fight til we see the sunlight tick tock on the clock but the party dont stop no oh woah woah oh oh woah woah oh dont stop make it pop dj blow my speakers up tonight ima fight til we see the sunlight tick tock on the clock but the party dont stop no oh woah woah oh oh woah woah oh you might also like dj you build me up you break me down my heart it pounds yeah you got me with my hands up you got me now you got that sound yeah you got me dj you build me up you break me down my heart it pounds yeah you got me with my hands up put your hands up put your hands up  now the party dont start til i walk in  dont stop make it pop dj blow my speakers up tonight ima fight til we see the sunlight tick tock on the clock but the party dont stop no oh woah woah oh oh woah woah oh dont stop make it pop dj blow my speakers up tonight ima fight til we see the sunlight tick tock on the clock but the party dont stop no oh woah woah oh oh woah woah oh</td>\n",
       "    </tr>\n",
       "  </tbody>\n",
       "</table>\n",
       "</div>"
      ],
      "text/plain": [
       "                  title  artist  \\\n",
       "0      Hey, Soul Sister   Train   \n",
       "1  Love The Way You Lie  Eminem   \n",
       "2               TiK ToK   Kesha   \n",
       "\n",
       "                                                                                                                                                                                                                                                                                                                                                                                                                                                                                                                                                                                                                                                                                                                                                                                                                                                                                                                                                                                                                                                                                                                                                                                                                                                                                                                                                                                                                                                                                                                                                                                                                                                                                                                                                                                                                                                                                                                                                                                                                                                                                                                                                                                                                                                                                                                                                                                                                                                                                                                                                                                                                                                                                                                                                                                                                                                                                                                                                                                                                                                                                                                                                                                                                                                                                                                                                                                                                                                                                                                                                                                                                lyrics  \n",
       "0                                                                                                                                                                                                                                                                                                                                                                                                                                                                                                                                                                                                                                                                                                                                                                                                                                                                                                                                                                                                                                                                                                                                                                                                                                                                                                                                                                                                                                                                                                                                                                                                                                                                                                                                                                                                                                                                                                                                                                                                                                                                                                                            heeeeey heeeeey  your lipstick stains on the front lobe of my leftside brains i knew i wouldnt forget you and so i went and let you blow my mind your sweet moonbeam the smell of you in every single dream i dream i knew when we collided youre the one i have decided whos one of my kind hey soul sister aint that mr mister on the radio stereo the way you move aint fair you know hey soul sister i dont want to miss a single thing you do tonight  hey heeeeey heeeeey  just in time im so glad you have a onetrack mind like me you gave my life direction a game show love connection we cant deny im so obsessed my heart is bound to beat right out my untrimmed chest i believe in you like a virgin youre madonna and im always gonna wanna blow your mind  hey soul sister aint that mr mister on the radio stereo the way you move aint fair you know hey soul sister i dont want to miss a single thing you do tonight  you might also like the way you can cut a rug watching yous the only drug i need so gangster im so thug youre the only one im dreaming of you see i can be myself now finally in fact theres nothing i cant be i want the world to see you be with me  hey soul sister aint that mr mister on the radio stereo the way you move aint fair you know hey soul sister i dont want to miss a single thing you do tonight hey soul sister i dont want to miss a single thing you do tonight  hey heeeeey heeeeey tonight hey heeeeey heeeeey tonight  \n",
       "1  well thats all right because i like the way it hurts just gonna stand there and hear me cry well thats all right because i love the way you lie i love the way you lie  i cant tell you what it really is i can only tell you what it feels like and right now theres a steel knife in my windpipe i cant breathe but i still fight while i can fight as long as the wrong feels right its like im in flight high off her love drunk from her hate its like im huffin paint and i love her the more i suffer i suffocate and right before im about to drown she resuscitates me she fuckin hates me and i love it â wait where you going â im leaving you â no you aint come back â were runnin right back here we go again its so insane cause when its goin good its goin great im superman with the wind at his back shes lois lane but when its bad its awful i feel so ashamed i snapped whos that dude i dont even know his name i laid hands on her ill never stoop so low again i guess i dont know my own strength just gonna stand there and watch me burn well thats all right because i like the way it hurts just gonna stand there and hear me cry well thats all right because i love the way you lie i love the way you lie i love the way you lie you ever love somebody so much you can barely breathe when youre with em you meet and neither one of you even know what hit em got that warm fuzzy feelin yeah them chills used to get em now youre gettin fuckin sick of lookin at em you swore youd never hit em never do nothin to hurt em now youre in each others face spewin venom in your words when you spit em you push pull each others hair scratch claw bit em throw em down pin em so lost in the moments when youre in em its the rage that took over it controls you both so they say youre best to go your separate ways guess that they dont know ya cause today that was yesterday yesterday is over its a different day sound like broken records playin over but you promised her next time youll show restraint you dont get another chance life is no nintendo game but you lied again now you get to watch her leave out the window guess thats why they call it window pane you might also like just gonna stand there and watch me burn well thats all right because i like the way it hurts just gonna stand there and hear me cry well thats all right because i love the way you lie i love the way you lie i love the way you lie  now i know we said things did things that we didnt mean then we fall back into the same patterns same routine but your tempers just as bad as mine is youre the same as me when it comes to love youre just as blinded baby please come back it wasnt you baby it was me maybe our relationship isnt as crazy as it seems maybe thats what happens when a tornado meets a volcano all i know is i love you too much to walk away though come inside pick up your bags off the sidewalk dont you hear sincerity in my voice when i talk told you this is my fault look me in the eyeball next time im pissed ill aim my fist at the drywall next time there wont be no next time i apologize even though i know its lies im tired of the games i just want her back i know im a liar if she ever tries to fuckin leave again ima tie her to the bed and set this house on fire just gonnaâ just gonna stand there and watch me burn well thats all right because i like the way it hurts just gonna stand there and hear me cry well thats all right because i love the way you lie i love the way you lie i love the way you lie  \n",
       "2                                                                                                                                                                                                                                                                                                                                                                                                                                                                                                                                                                                                                                                                                                                                                                                                                                                                                                                                                                                                                                                                                                                                                                                                                                                                                                                                                                     grab my glasses im out the door im gonna hit this city lets go before i leave brush my teeth with a bottle of jack cause when i leave for the night i aint coming back  im talkin pedicure on our toes toes tryin on all our clothes clothes boys blowin up our phones phones droptoppin playin our favorite cds pullin up to the parties tryna get a little bit tipsy dont stop make it pop dj blow my speakers up tonight ima fight til we see the sunlight tick tock on the clock but the party dont stop no oh woah woah oh oh woah woah oh dont stop make it pop dj blow my speakers up tonight ima fight til we see the sunlight tick tock on the clock but the party dont stop no oh woah woah oh oh woah woah oh  aint got a care in the world but got plenty of beer aint got no money in my pocket but im already here and now the dudes are linin up cause they hear we got swagger but we kick em to the curb unless they look like mick jagger  im talkin bout everybody gettin crunk crunk boys try to touch my junk junk gonna smack him if he gettin too drunk drunk nonow we go until they kick us out out or the police shut us down down police shut us down down popo shut us down  dont stop make it pop dj blow my speakers up tonight ima fight til we see the sunlight tick tock on the clock but the party dont stop no oh woah woah oh oh woah woah oh dont stop make it pop dj blow my speakers up tonight ima fight til we see the sunlight tick tock on the clock but the party dont stop no oh woah woah oh oh woah woah oh you might also like dj you build me up you break me down my heart it pounds yeah you got me with my hands up you got me now you got that sound yeah you got me dj you build me up you break me down my heart it pounds yeah you got me with my hands up put your hands up put your hands up  now the party dont start til i walk in  dont stop make it pop dj blow my speakers up tonight ima fight til we see the sunlight tick tock on the clock but the party dont stop no oh woah woah oh oh woah woah oh dont stop make it pop dj blow my speakers up tonight ima fight til we see the sunlight tick tock on the clock but the party dont stop no oh woah woah oh oh woah woah oh  "
      ]
     },
     "metadata": {},
     "output_type": "display_data"
    }
   ],
   "source": [
    "#remove add for Train show\n",
    "add = \"see train liveget tickets as low as\"\n",
    "\n",
    "df['lyrics'] = df['lyrics'].str.replace(add, '')\n",
    "\n",
    "with pd.option_context('display.max_colwidth', None):\n",
    "  display(df.head(3))"
   ]
  },
  {
   "cell_type": "code",
   "execution_count": 18,
   "id": "267081af",
=======
   "execution_count": 8,
   "id": "e8f3ce1d",
>>>>>>> main
   "metadata": {},
   "outputs": [],
   "source": [
    "# Exporting cleaned data\n",
    "df.to_csv('data/lyric_data_clean.csv')"
   ]
<<<<<<< HEAD
  },
  {
   "cell_type": "code",
   "execution_count": null,
   "id": "1f3f254b",
   "metadata": {},
   "outputs": [],
   "source": []
=======
>>>>>>> main
  }
 ],
 "metadata": {
  "kernelspec": {
   "display_name": "PythonData",
   "language": "python",
   "name": "pythondata"
  },
  "language_info": {
   "codemirror_mode": {
    "name": "ipython",
    "version": 3
   },
   "file_extension": ".py",
   "mimetype": "text/x-python",
   "name": "python",
   "nbconvert_exporter": "python",
   "pygments_lexer": "ipython3",
   "version": "3.7.13"
  }
 },
 "nbformat": 4,
 "nbformat_minor": 5
}
