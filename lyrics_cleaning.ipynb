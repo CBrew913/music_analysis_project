{
 "cells": [
  {
   "cell_type": "code",
   "execution_count": 1,
   "id": "40d3c350",
   "metadata": {},
   "outputs": [
    {
     "data": {
      "text/html": [
       "<div>\n",
       "<style scoped>\n",
       "    .dataframe tbody tr th:only-of-type {\n",
       "        vertical-align: middle;\n",
       "    }\n",
       "\n",
       "    .dataframe tbody tr th {\n",
       "        vertical-align: top;\n",
       "    }\n",
       "\n",
       "    .dataframe thead th {\n",
       "        text-align: right;\n",
       "    }\n",
       "</style>\n",
       "<table border=\"1\" class=\"dataframe\">\n",
       "  <thead>\n",
       "    <tr style=\"text-align: right;\">\n",
       "      <th></th>\n",
       "      <th>Unnamed: 0</th>\n",
       "      <th>title</th>\n",
       "      <th>artist</th>\n",
       "      <th>lyrics</th>\n",
       "    </tr>\n",
       "  </thead>\n",
       "  <tbody>\n",
       "    <tr>\n",
       "      <th>0</th>\n",
       "      <td>0</td>\n",
       "      <td>Hey, Soul Sister</td>\n",
       "      <td>Train</td>\n",
       "      <td>Hey, Soul Sister Lyrics\\nHey\\nHe-e-e-e-ey\\nHe-...</td>\n",
       "    </tr>\n",
       "    <tr>\n",
       "      <th>1</th>\n",
       "      <td>1</td>\n",
       "      <td>Love The Way You Lie</td>\n",
       "      <td>Eminem</td>\n",
       "      <td>TranslationsTürkçeEspañolPortuguêsΕλληνικάEngl...</td>\n",
       "    </tr>\n",
       "    <tr>\n",
       "      <th>2</th>\n",
       "      <td>2</td>\n",
       "      <td>TiK ToK</td>\n",
       "      <td>Kesha</td>\n",
       "      <td>TranslationsPortuguêsTiK ToK Lyrics\\nWake up i...</td>\n",
       "    </tr>\n",
       "    <tr>\n",
       "      <th>3</th>\n",
       "      <td>3</td>\n",
       "      <td>Bad Romance</td>\n",
       "      <td>Lady Gaga</td>\n",
       "      <td>TranslationsEspañolPortuguêsBad Romance Lyrics...</td>\n",
       "    </tr>\n",
       "    <tr>\n",
       "      <th>4</th>\n",
       "      <td>4</td>\n",
       "      <td>Just the Way You Are</td>\n",
       "      <td>Bruno Mars</td>\n",
       "      <td>TranslationsΕλληνικάJust the Way You Are Lyric...</td>\n",
       "    </tr>\n",
       "  </tbody>\n",
       "</table>\n",
       "</div>"
      ],
      "text/plain": [
       "   Unnamed: 0                 title      artist  \\\n",
       "0           0      Hey, Soul Sister       Train   \n",
       "1           1  Love The Way You Lie      Eminem   \n",
       "2           2               TiK ToK       Kesha   \n",
       "3           3           Bad Romance   Lady Gaga   \n",
       "4           4  Just the Way You Are  Bruno Mars   \n",
       "\n",
       "                                              lyrics  \n",
       "0  Hey, Soul Sister Lyrics\\nHey\\nHe-e-e-e-ey\\nHe-...  \n",
       "1  TranslationsTürkçeEspañolPortuguêsΕλληνικάEngl...  \n",
       "2  TranslationsPortuguêsTiK ToK Lyrics\\nWake up i...  \n",
       "3  TranslationsEspañolPortuguêsBad Romance Lyrics...  \n",
       "4  TranslationsΕλληνικάJust the Way You Are Lyric...  "
      ]
     },
     "execution_count": 1,
     "metadata": {},
     "output_type": "execute_result"
    }
   ],
   "source": [
    "# Dependencies\n",
    "import pandas as pd\n",
    "\n",
    "# Getting csv file\n",
    "df = pd.read_csv('data/lyric_data.csv')\n",
    "df.head()"
   ]
  },
  {
   "cell_type": "code",
   "execution_count": 2,
   "id": "956d228d",
   "metadata": {},
   "outputs": [
    {
     "data": {
      "text/html": [
       "<div>\n",
       "<style scoped>\n",
       "    .dataframe tbody tr th:only-of-type {\n",
       "        vertical-align: middle;\n",
       "    }\n",
       "\n",
       "    .dataframe tbody tr th {\n",
       "        vertical-align: top;\n",
       "    }\n",
       "\n",
       "    .dataframe thead th {\n",
       "        text-align: right;\n",
       "    }\n",
       "</style>\n",
       "<table border=\"1\" class=\"dataframe\">\n",
       "  <thead>\n",
       "    <tr style=\"text-align: right;\">\n",
       "      <th></th>\n",
       "      <th>title</th>\n",
       "      <th>artist</th>\n",
       "      <th>lyrics</th>\n",
       "    </tr>\n",
       "  </thead>\n",
       "  <tbody>\n",
       "    <tr>\n",
       "      <th>0</th>\n",
       "      <td>Hey, Soul Sister</td>\n",
       "      <td>Train</td>\n",
       "      <td>Hey, Soul Sister Lyrics\\nHey\\nHe-e-e-e-ey\\nHe-...</td>\n",
       "    </tr>\n",
       "    <tr>\n",
       "      <th>1</th>\n",
       "      <td>Love The Way You Lie</td>\n",
       "      <td>Eminem</td>\n",
       "      <td>TranslationsTürkçeEspañolPortuguêsΕλληνικάEngl...</td>\n",
       "    </tr>\n",
       "    <tr>\n",
       "      <th>2</th>\n",
       "      <td>TiK ToK</td>\n",
       "      <td>Kesha</td>\n",
       "      <td>TranslationsPortuguêsTiK ToK Lyrics\\nWake up i...</td>\n",
       "    </tr>\n",
       "    <tr>\n",
       "      <th>3</th>\n",
       "      <td>Bad Romance</td>\n",
       "      <td>Lady Gaga</td>\n",
       "      <td>TranslationsEspañolPortuguêsBad Romance Lyrics...</td>\n",
       "    </tr>\n",
       "    <tr>\n",
       "      <th>4</th>\n",
       "      <td>Just the Way You Are</td>\n",
       "      <td>Bruno Mars</td>\n",
       "      <td>TranslationsΕλληνικάJust the Way You Are Lyric...</td>\n",
       "    </tr>\n",
       "  </tbody>\n",
       "</table>\n",
       "</div>"
      ],
      "text/plain": [
       "                  title      artist  \\\n",
       "0      Hey, Soul Sister       Train   \n",
       "1  Love The Way You Lie      Eminem   \n",
       "2               TiK ToK       Kesha   \n",
       "3           Bad Romance   Lady Gaga   \n",
       "4  Just the Way You Are  Bruno Mars   \n",
       "\n",
       "                                              lyrics  \n",
       "0  Hey, Soul Sister Lyrics\\nHey\\nHe-e-e-e-ey\\nHe-...  \n",
       "1  TranslationsTürkçeEspañolPortuguêsΕλληνικάEngl...  \n",
       "2  TranslationsPortuguêsTiK ToK Lyrics\\nWake up i...  \n",
       "3  TranslationsEspañolPortuguêsBad Romance Lyrics...  \n",
       "4  TranslationsΕλληνικάJust the Way You Are Lyric...  "
      ]
     },
     "execution_count": 2,
     "metadata": {},
     "output_type": "execute_result"
    }
   ],
   "source": [
    "# Dropping unnamed column\n",
    "df = df.drop(['Unnamed: 0'], axis=1)\n",
    "df.head()"
   ]
  },
  {
   "cell_type": "code",
   "execution_count": 3,
   "id": "c513fc91",
   "metadata": {},
   "outputs": [
    {
     "data": {
      "text/plain": [
       "15"
      ]
     },
     "execution_count": 3,
     "metadata": {},
     "output_type": "execute_result"
    }
   ],
   "source": [
    "# Checking count of rows containing NaN\n",
    "df['lyrics'].isnull().sum()"
   ]
  },
  {
   "cell_type": "code",
   "execution_count": 4,
   "id": "a8f1d597",
   "metadata": {},
   "outputs": [
    {
     "data": {
      "text/plain": [
       "0"
      ]
     },
     "execution_count": 4,
     "metadata": {},
     "output_type": "execute_result"
    }
   ],
   "source": [
    "# Removing rows containing NaN\n",
    "df = df.dropna()\n",
    "df['lyrics'].isnull().sum()"
   ]
  },
  {
   "cell_type": "code",
   "execution_count": 5,
   "id": "00bfafba",
   "metadata": {},
   "outputs": [
    {
     "data": {
      "text/html": [
       "<div>\n",
       "<style scoped>\n",
       "    .dataframe tbody tr th:only-of-type {\n",
       "        vertical-align: middle;\n",
       "    }\n",
       "\n",
       "    .dataframe tbody tr th {\n",
       "        vertical-align: top;\n",
       "    }\n",
       "\n",
       "    .dataframe thead th {\n",
       "        text-align: right;\n",
       "    }\n",
       "</style>\n",
       "<table border=\"1\" class=\"dataframe\">\n",
       "  <thead>\n",
       "    <tr style=\"text-align: right;\">\n",
       "      <th></th>\n",
       "      <th>title</th>\n",
       "      <th>artist</th>\n",
       "      <th>lyrics</th>\n",
       "    </tr>\n",
       "  </thead>\n",
       "  <tbody>\n",
       "    <tr>\n",
       "      <th>0</th>\n",
       "      <td>Hey, Soul Sister</td>\n",
       "      <td>Train</td>\n",
       "      <td>Hey, Soul Sister Lyrics Hey He-e-e-e-ey He-e-e-e-ey  Your lipstick stains On the front lobe of my left-side brains I knew I wouldn't forget you And so I went and let you blow my mind Your sweet moonbeam The smell of you in every single dream I dream I knew when we collided You're the one I have decided who's one of my kind Hey, soul sister Ain't that Mr. Mister on the radio, stereo? The way you move ain't fair, you know Hey, soul sister I don't want to miss a single thing you do Tonight  Hey He-e-e-e-ey He-e-e-e-ey  Just in time I'm so glad you have a one-track mind like me You gave my life direction A game show love connection we can't deny I'm so obsessed My heart is bound to beat right out my untrimmed chest I believe in you, like a virgin, you're Madonna And I'm always gonna wanna blow your mind  Hey, soul sister Ain't that Mr. Mister on the radio, stereo? The way you move ain't fair, you know Hey, soul sister I don't want to miss a single thing you do Tonight You might also like The way you can cut a rug Watching you's the only drug I need So gangster, I'm so thug You're the only one I'm dreaming of, you see I can be myself now finally In fact, there's nothing I can't be I want the world to see you be, with me  Hey, soul sister Ain't that Mr. Mister on the radio, stereo? The way you move ain't fair, you know Hey, soul sister I don't want to miss a single thing you do tonight Hey, soul sister I don't want to miss a single thing you do Tonight  Hey He-e-e-e-ey He-e-e-e-ey Tonight Hey He-e-e-e-ey He-e-e-e-ey Tonight64Embed</td>\n",
       "    </tr>\n",
       "    <tr>\n",
       "      <th>1</th>\n",
       "      <td>Love The Way You Lie</td>\n",
       "      <td>Eminem</td>\n",
       "      <td>TranslationsTürkçeEspañolPortuguêsΕλληνικάEnglishالعربيةLove the Way You Lie Lyrics Just gonna stand there and watch me burn? Well, that's all right because I like the way it hurts Just gonna stand there and hear me cry? Well, that's all right because I love the way you lie I love the way you lie  I can't tell you what it really is, I can only tell you what it feels like And right now, there's a steel knife in my windpipe I can't breathe, but I still fight while I can fight As long as the wrong feels right, it's like I'm in flight High off her love, drunk from her hate It's like I'm huffin' paint and I love her, the more I suffer, I suffocate And right before I'm about to drown, she resuscitates me She fuckin' hates me, and I love it — \"Wait! Where you going?\" — \"I'm leaving you!\" — \"No, you ain't! Come back!\" — We're runnin' right back, here we go again It's so insane, 'cause when it's goin' good, it's goin' great I'm Superman with the wind at his back, she's Lois Lane But when it's bad, it's awful, I feel so ashamed I snapped, \"Who's that dude?\", I don't even know his name I laid hands on her, I'll never stoop so low again I guess I don't know my own strength Just gonna stand there and watch me burn? Well, that's all right because I like the way it hurts Just gonna stand there and hear me cry? Well, that's all right because I love the way you lie I love the way you lie I love the way you lie You ever love somebody so much you can barely breathe when you're with 'em? You meet, and neither one of you even know what hit 'em Got that warm fuzzy feelin', yeah, them chills, used to get 'em Now you're gettin' fuckin' sick of lookin' at 'em? You swore you'd never hit 'em, never do nothin' to hurt 'em Now you're in each other's face Spewin' venom in your words when you spit 'em You push, pull each other's hair, scratch, claw, bit 'em Throw 'em down, pin 'em So lost in the moments when you're in 'em It's the rage that took over, it controls you both So they say you're best to go your separate ways Guess that they don't know ya 'Cause today, that was yesterday, yesterday is over It's a different day, sound like broken records playin' over But you promised her, next time you'll show restraint You don't get another chance, life is no Nintendo game But you lied again Now you get to watch her leave out the window Guess that's why they call it window pane You might also like Just gonna stand there and watch me burn? Well, that's all right because I like the way it hurts Just gonna stand there and hear me cry? Well, that's all right because I love the way you lie I love the way you lie I love the way you lie  Now, I know we said things, did things that we didn't mean Then we fall back into the same patterns, same routine But your temper's just as bad as mine is, you're the same as me When it comes to love you're just as blinded, baby, please Come back, it wasn't you, baby, it was me Maybe our relationship isn't as crazy as it seems Maybe that's what happens when a tornado meets a volcano All I know is I love you too much to walk away though Come inside, pick up your bags off the sidewalk Don't you hear sincerity in my voice when I talk? Told you this is my fault, look me in the eyeball Next time I'm pissed, I'll aim my fist at the drywall Next time? There won't be no next time! I apologize, even though I know it's lies I'm tired of the games, I just want her back, I know I'm a liar If she ever tries to fuckin' leave again, I'ma tie her To the bed and set this house on fire, just gonna— Just gonna stand there and watch me burn? Well, that's all right because I like the way it hurts Just gonna stand there and hear me cry? Well, that's all right because I love the way you lie I love the way you lie I love the way you lie303Embed</td>\n",
       "    </tr>\n",
       "    <tr>\n",
       "      <th>2</th>\n",
       "      <td>TiK ToK</td>\n",
       "      <td>Kesha</td>\n",
       "      <td>TranslationsPortuguêsTiK ToK Lyrics Wake up in the morning feelin' like P. Diddy (Hey, what up, girl?) Grab my glasses, I'm out the door, I'm gonna hit this city (Let's go) Before I leave, brush my teeth with a bottle of Jack 'Cause when I leave for the night, I ain't coming back  I'm talkin' pedicure on our toes, toes, tryin' on all our clothes, clothes Boys blowin' up our phones, phones Drop-toppin', playin' our favorite CDs, pullin' up to the parties Tryna get a little bit tipsy Don't stop, make it pop, DJ, blow my speakers up Tonight, I'ma fight 'til we see the sunlight Tick tock on the clock, but the party don't stop, no Oh, woah, woah, oh, oh, woah, woah, oh Don't stop, make it pop, DJ, blow my speakers up Tonight, I'ma fight 'til we see the sunlight Tick tock on the clock, but the party don't stop, no Oh, woah, woah, oh, oh, woah, woah, oh  Ain't got a care in the world, but got plenty of beer Ain't got no money in my pocket, but I'm already here And now the dudes are linin' up, 'cause they hear we got swagger But we kick 'em to the curb unless they look like Mick Jagger  I'm talkin' 'bout everybody gettin' crunk, crunk, boys try to touch my junk, junk Gonna smack him if he gettin' too drunk, drunk No-now we go until they kick us out, out or the police shut us down, down Police shut us down, down, po-po shut us down  Don't stop, make it pop, DJ, blow my speakers up Tonight, I'ma fight 'til we see the sunlight Tick tock on the clock, but the party don't stop, no Oh, woah, woah, oh, oh, woah, woah, oh Don't stop, make it pop, DJ, blow my speakers up Tonight, I'ma fight 'til we see the sunlight Tick tock on the clock, but the party don't stop, no Oh, woah, woah, oh, oh, woah, woah, oh You might also like (DJ) You build me up, you break me down My heart, it pounds, yeah, you got me With my hands up, you got me now You got that sound, yeah, you got me (DJ) You build me up, you break me down My heart, it pounds, yeah, you got me With my hands up, put your hands up Put your hands up  Now, the party don't start 'til I walk in  Don't stop, make it pop, DJ, blow my speakers up Tonight, I'ma fight 'til we see the sunlight Tick tock on the clock, but the party don't stop, no Oh, woah, woah, oh, oh, woah, woah, oh Don't stop, make it pop, DJ, blow my speakers up Tonight, I'ma fight 'til we see the sunlight Tick tock on the clock, but the party don't stop, no Oh, woah, woah, oh, oh, woah, woah, oh58Embed</td>\n",
       "    </tr>\n",
       "  </tbody>\n",
       "</table>\n",
       "</div>"
      ],
      "text/plain": [
       "                  title  artist  \\\n",
       "0      Hey, Soul Sister   Train   \n",
       "1  Love The Way You Lie  Eminem   \n",
       "2               TiK ToK   Kesha   \n",
       "\n",
       "                                                                                                                                                                                                                                                                                                                                                                                                                                                                                                                                                                                                                                                                                                                                                                                                                                                                                                                                                                                                                                                                                                                                                                                                                                                                                                                                                                                                                                                                                                                                                                                                                                                                                                                                                                                                                                                                                                                                                                                                                                                                                                                                                                                                                                                                                                                                                                                                                                                                                                                                                                                                                                                                                                                                                                                                                                                                                                                                                                                                                                                                                                                                                                                                                                                                                                                                                                                                                                                                                                                                                                                                                                                                                                                                                                                                                                                                                                                                 lyrics  \n",
       "0                                                                                                                                                                                                                                                                                                                                                                                                                                                                                                                                                                                                                                                                                                                                                                                                                                                                                                                                                                                                                                                                                                                                                                                                                                                                                                                                                                                                                                                                                                                                                                                                                                                                                                                                                                                                                                                                                                                                                                                                                                                                                                                                                                                                                                                                                                                        Hey, Soul Sister Lyrics Hey He-e-e-e-ey He-e-e-e-ey  Your lipstick stains On the front lobe of my left-side brains I knew I wouldn't forget you And so I went and let you blow my mind Your sweet moonbeam The smell of you in every single dream I dream I knew when we collided You're the one I have decided who's one of my kind Hey, soul sister Ain't that Mr. Mister on the radio, stereo? The way you move ain't fair, you know Hey, soul sister I don't want to miss a single thing you do Tonight  Hey He-e-e-e-ey He-e-e-e-ey  Just in time I'm so glad you have a one-track mind like me You gave my life direction A game show love connection we can't deny I'm so obsessed My heart is bound to beat right out my untrimmed chest I believe in you, like a virgin, you're Madonna And I'm always gonna wanna blow your mind  Hey, soul sister Ain't that Mr. Mister on the radio, stereo? The way you move ain't fair, you know Hey, soul sister I don't want to miss a single thing you do Tonight You might also like The way you can cut a rug Watching you's the only drug I need So gangster, I'm so thug You're the only one I'm dreaming of, you see I can be myself now finally In fact, there's nothing I can't be I want the world to see you be, with me  Hey, soul sister Ain't that Mr. Mister on the radio, stereo? The way you move ain't fair, you know Hey, soul sister I don't want to miss a single thing you do tonight Hey, soul sister I don't want to miss a single thing you do Tonight  Hey He-e-e-e-ey He-e-e-e-ey Tonight Hey He-e-e-e-ey He-e-e-e-ey Tonight64Embed  \n",
       "1  TranslationsTürkçeEspañolPortuguêsΕλληνικάEnglishالعربيةLove the Way You Lie Lyrics Just gonna stand there and watch me burn? Well, that's all right because I like the way it hurts Just gonna stand there and hear me cry? Well, that's all right because I love the way you lie I love the way you lie  I can't tell you what it really is, I can only tell you what it feels like And right now, there's a steel knife in my windpipe I can't breathe, but I still fight while I can fight As long as the wrong feels right, it's like I'm in flight High off her love, drunk from her hate It's like I'm huffin' paint and I love her, the more I suffer, I suffocate And right before I'm about to drown, she resuscitates me She fuckin' hates me, and I love it — \"Wait! Where you going?\" — \"I'm leaving you!\" — \"No, you ain't! Come back!\" — We're runnin' right back, here we go again It's so insane, 'cause when it's goin' good, it's goin' great I'm Superman with the wind at his back, she's Lois Lane But when it's bad, it's awful, I feel so ashamed I snapped, \"Who's that dude?\", I don't even know his name I laid hands on her, I'll never stoop so low again I guess I don't know my own strength Just gonna stand there and watch me burn? Well, that's all right because I like the way it hurts Just gonna stand there and hear me cry? Well, that's all right because I love the way you lie I love the way you lie I love the way you lie You ever love somebody so much you can barely breathe when you're with 'em? You meet, and neither one of you even know what hit 'em Got that warm fuzzy feelin', yeah, them chills, used to get 'em Now you're gettin' fuckin' sick of lookin' at 'em? You swore you'd never hit 'em, never do nothin' to hurt 'em Now you're in each other's face Spewin' venom in your words when you spit 'em You push, pull each other's hair, scratch, claw, bit 'em Throw 'em down, pin 'em So lost in the moments when you're in 'em It's the rage that took over, it controls you both So they say you're best to go your separate ways Guess that they don't know ya 'Cause today, that was yesterday, yesterday is over It's a different day, sound like broken records playin' over But you promised her, next time you'll show restraint You don't get another chance, life is no Nintendo game But you lied again Now you get to watch her leave out the window Guess that's why they call it window pane You might also like Just gonna stand there and watch me burn? Well, that's all right because I like the way it hurts Just gonna stand there and hear me cry? Well, that's all right because I love the way you lie I love the way you lie I love the way you lie  Now, I know we said things, did things that we didn't mean Then we fall back into the same patterns, same routine But your temper's just as bad as mine is, you're the same as me When it comes to love you're just as blinded, baby, please Come back, it wasn't you, baby, it was me Maybe our relationship isn't as crazy as it seems Maybe that's what happens when a tornado meets a volcano All I know is I love you too much to walk away though Come inside, pick up your bags off the sidewalk Don't you hear sincerity in my voice when I talk? Told you this is my fault, look me in the eyeball Next time I'm pissed, I'll aim my fist at the drywall Next time? There won't be no next time! I apologize, even though I know it's lies I'm tired of the games, I just want her back, I know I'm a liar If she ever tries to fuckin' leave again, I'ma tie her To the bed and set this house on fire, just gonna— Just gonna stand there and watch me burn? Well, that's all right because I like the way it hurts Just gonna stand there and hear me cry? Well, that's all right because I love the way you lie I love the way you lie I love the way you lie303Embed  \n",
       "2                                                                                                                                                                                                                                                                                                                                                                                                                                                                                                                                                                                                                                                                                                                                                                                                                                                                                                                                                                                                                                                                                                                                                                                                                                                                                                                                                                                              TranslationsPortuguêsTiK ToK Lyrics Wake up in the morning feelin' like P. Diddy (Hey, what up, girl?) Grab my glasses, I'm out the door, I'm gonna hit this city (Let's go) Before I leave, brush my teeth with a bottle of Jack 'Cause when I leave for the night, I ain't coming back  I'm talkin' pedicure on our toes, toes, tryin' on all our clothes, clothes Boys blowin' up our phones, phones Drop-toppin', playin' our favorite CDs, pullin' up to the parties Tryna get a little bit tipsy Don't stop, make it pop, DJ, blow my speakers up Tonight, I'ma fight 'til we see the sunlight Tick tock on the clock, but the party don't stop, no Oh, woah, woah, oh, oh, woah, woah, oh Don't stop, make it pop, DJ, blow my speakers up Tonight, I'ma fight 'til we see the sunlight Tick tock on the clock, but the party don't stop, no Oh, woah, woah, oh, oh, woah, woah, oh  Ain't got a care in the world, but got plenty of beer Ain't got no money in my pocket, but I'm already here And now the dudes are linin' up, 'cause they hear we got swagger But we kick 'em to the curb unless they look like Mick Jagger  I'm talkin' 'bout everybody gettin' crunk, crunk, boys try to touch my junk, junk Gonna smack him if he gettin' too drunk, drunk No-now we go until they kick us out, out or the police shut us down, down Police shut us down, down, po-po shut us down  Don't stop, make it pop, DJ, blow my speakers up Tonight, I'ma fight 'til we see the sunlight Tick tock on the clock, but the party don't stop, no Oh, woah, woah, oh, oh, woah, woah, oh Don't stop, make it pop, DJ, blow my speakers up Tonight, I'ma fight 'til we see the sunlight Tick tock on the clock, but the party don't stop, no Oh, woah, woah, oh, oh, woah, woah, oh You might also like (DJ) You build me up, you break me down My heart, it pounds, yeah, you got me With my hands up, you got me now You got that sound, yeah, you got me (DJ) You build me up, you break me down My heart, it pounds, yeah, you got me With my hands up, put your hands up Put your hands up  Now, the party don't start 'til I walk in  Don't stop, make it pop, DJ, blow my speakers up Tonight, I'ma fight 'til we see the sunlight Tick tock on the clock, but the party don't stop, no Oh, woah, woah, oh, oh, woah, woah, oh Don't stop, make it pop, DJ, blow my speakers up Tonight, I'ma fight 'til we see the sunlight Tick tock on the clock, but the party don't stop, no Oh, woah, woah, oh, oh, woah, woah, oh58Embed  "
      ]
     },
     "metadata": {},
     "output_type": "display_data"
    }
   ],
   "source": [
    "# Removing \\n from lyric text\n",
    "df['lyrics'] = df['lyrics'].replace(r'\\n',' ', regex=True) \n",
    "    \n",
    "with pd.option_context('display.max_colwidth', None):\n",
    "  display(df.head(3))"
   ]
  },
  {
   "cell_type": "code",
   "execution_count": 6,
   "id": "9e34da83",
   "metadata": {},
   "outputs": [
    {
     "name": "stderr",
     "output_type": "stream",
     "text": [
      "/opt/anaconda3/envs/PythonData/lib/python3.7/site-packages/ipykernel_launcher.py:2: FutureWarning: The default value of regex will change from True to False in a future version.\n",
      "  \n"
     ]
    },
    {
     "data": {
      "text/html": [
       "<div>\n",
       "<style scoped>\n",
       "    .dataframe tbody tr th:only-of-type {\n",
       "        vertical-align: middle;\n",
       "    }\n",
       "\n",
       "    .dataframe tbody tr th {\n",
       "        vertical-align: top;\n",
       "    }\n",
       "\n",
       "    .dataframe thead th {\n",
       "        text-align: right;\n",
       "    }\n",
       "</style>\n",
       "<table border=\"1\" class=\"dataframe\">\n",
       "  <thead>\n",
       "    <tr style=\"text-align: right;\">\n",
       "      <th></th>\n",
       "      <th>title</th>\n",
       "      <th>artist</th>\n",
       "      <th>lyrics</th>\n",
       "    </tr>\n",
       "  </thead>\n",
       "  <tbody>\n",
       "    <tr>\n",
       "      <th>0</th>\n",
       "      <td>Hey, Soul Sister</td>\n",
       "      <td>Train</td>\n",
       "      <td>Hey Soul Sister Lyrics Hey Heeeeey Heeeeey  Your lipstick stains On the front lobe of my leftside brains I knew I wouldnt forget you And so I went and let you blow my mind Your sweet moonbeam The smell of you in every single dream I dream I knew when we collided Youre the one I have decided whos one of my kind Hey soul sister Aint that Mr Mister on the radio stereo The way you move aint fair you know Hey soul sister I dont want to miss a single thing you do Tonight  Hey Heeeeey Heeeeey  Just in time Im so glad you have a onetrack mind like me You gave my life direction A game show love connection we cant deny Im so obsessed My heart is bound to beat right out my untrimmed chest I believe in you like a virgin youre Madonna And Im always gonna wanna blow your mind  Hey soul sister Aint that Mr Mister on the radio stereo The way you move aint fair you know Hey soul sister I dont want to miss a single thing you do Tonight You might also like The way you can cut a rug Watching yous the only drug I need So gangster Im so thug Youre the only one Im dreaming of you see I can be myself now finally In fact theres nothing I cant be I want the world to see you be with me  Hey soul sister Aint that Mr Mister on the radio stereo The way you move aint fair you know Hey soul sister I dont want to miss a single thing you do tonight Hey soul sister I dont want to miss a single thing you do Tonight  Hey Heeeeey Heeeeey Tonight Hey Heeeeey Heeeeey Tonight64Embed</td>\n",
       "    </tr>\n",
       "    <tr>\n",
       "      <th>1</th>\n",
       "      <td>Love The Way You Lie</td>\n",
       "      <td>Eminem</td>\n",
       "      <td>TranslationsTürkçeEspañolPortuguêsΕλληνικάEnglishالعربيةLove the Way You Lie Lyrics Just gonna stand there and watch me burn Well thats all right because I like the way it hurts Just gonna stand there and hear me cry Well thats all right because I love the way you lie I love the way you lie  I cant tell you what it really is I can only tell you what it feels like And right now theres a steel knife in my windpipe I cant breathe but I still fight while I can fight As long as the wrong feels right its like Im in flight High off her love drunk from her hate Its like Im huffin paint and I love her the more I suffer I suffocate And right before Im about to drown she resuscitates me She fuckin hates me and I love it  Wait Where you going  Im leaving you  No you aint Come back  Were runnin right back here we go again Its so insane cause when its goin good its goin great Im Superman with the wind at his back shes Lois Lane But when its bad its awful I feel so ashamed I snapped Whos that dude I dont even know his name I laid hands on her Ill never stoop so low again I guess I dont know my own strength Just gonna stand there and watch me burn Well thats all right because I like the way it hurts Just gonna stand there and hear me cry Well thats all right because I love the way you lie I love the way you lie I love the way you lie You ever love somebody so much you can barely breathe when youre with em You meet and neither one of you even know what hit em Got that warm fuzzy feelin yeah them chills used to get em Now youre gettin fuckin sick of lookin at em You swore youd never hit em never do nothin to hurt em Now youre in each others face Spewin venom in your words when you spit em You push pull each others hair scratch claw bit em Throw em down pin em So lost in the moments when youre in em Its the rage that took over it controls you both So they say youre best to go your separate ways Guess that they dont know ya Cause today that was yesterday yesterday is over Its a different day sound like broken records playin over But you promised her next time youll show restraint You dont get another chance life is no Nintendo game But you lied again Now you get to watch her leave out the window Guess thats why they call it window pane You might also like Just gonna stand there and watch me burn Well thats all right because I like the way it hurts Just gonna stand there and hear me cry Well thats all right because I love the way you lie I love the way you lie I love the way you lie  Now I know we said things did things that we didnt mean Then we fall back into the same patterns same routine But your tempers just as bad as mine is youre the same as me When it comes to love youre just as blinded baby please Come back it wasnt you baby it was me Maybe our relationship isnt as crazy as it seems Maybe thats what happens when a tornado meets a volcano All I know is I love you too much to walk away though Come inside pick up your bags off the sidewalk Dont you hear sincerity in my voice when I talk Told you this is my fault look me in the eyeball Next time Im pissed Ill aim my fist at the drywall Next time There wont be no next time I apologize even though I know its lies Im tired of the games I just want her back I know Im a liar If she ever tries to fuckin leave again Ima tie her To the bed and set this house on fire just gonna Just gonna stand there and watch me burn Well thats all right because I like the way it hurts Just gonna stand there and hear me cry Well thats all right because I love the way you lie I love the way you lie I love the way you lie303Embed</td>\n",
       "    </tr>\n",
       "    <tr>\n",
       "      <th>2</th>\n",
       "      <td>TiK ToK</td>\n",
       "      <td>Kesha</td>\n",
       "      <td>TranslationsPortuguêsTiK ToK Lyrics Wake up in the morning feelin like P Diddy Hey what up girl Grab my glasses Im out the door Im gonna hit this city Lets go Before I leave brush my teeth with a bottle of Jack Cause when I leave for the night I aint coming back  Im talkin pedicure on our toes toes tryin on all our clothes clothes Boys blowin up our phones phones Droptoppin playin our favorite CDs pullin up to the parties Tryna get a little bit tipsy Dont stop make it pop DJ blow my speakers up Tonight Ima fight til we see the sunlight Tick tock on the clock but the party dont stop no Oh woah woah oh oh woah woah oh Dont stop make it pop DJ blow my speakers up Tonight Ima fight til we see the sunlight Tick tock on the clock but the party dont stop no Oh woah woah oh oh woah woah oh  Aint got a care in the world but got plenty of beer Aint got no money in my pocket but Im already here And now the dudes are linin up cause they hear we got swagger But we kick em to the curb unless they look like Mick Jagger  Im talkin bout everybody gettin crunk crunk boys try to touch my junk junk Gonna smack him if he gettin too drunk drunk Nonow we go until they kick us out out or the police shut us down down Police shut us down down popo shut us down  Dont stop make it pop DJ blow my speakers up Tonight Ima fight til we see the sunlight Tick tock on the clock but the party dont stop no Oh woah woah oh oh woah woah oh Dont stop make it pop DJ blow my speakers up Tonight Ima fight til we see the sunlight Tick tock on the clock but the party dont stop no Oh woah woah oh oh woah woah oh You might also like DJ You build me up you break me down My heart it pounds yeah you got me With my hands up you got me now You got that sound yeah you got me DJ You build me up you break me down My heart it pounds yeah you got me With my hands up put your hands up Put your hands up  Now the party dont start til I walk in  Dont stop make it pop DJ blow my speakers up Tonight Ima fight til we see the sunlight Tick tock on the clock but the party dont stop no Oh woah woah oh oh woah woah oh Dont stop make it pop DJ blow my speakers up Tonight Ima fight til we see the sunlight Tick tock on the clock but the party dont stop no Oh woah woah oh oh woah woah oh58Embed</td>\n",
       "    </tr>\n",
       "  </tbody>\n",
       "</table>\n",
       "</div>"
      ],
      "text/plain": [
       "                  title  artist  \\\n",
       "0      Hey, Soul Sister   Train   \n",
       "1  Love The Way You Lie  Eminem   \n",
       "2               TiK ToK   Kesha   \n",
       "\n",
       "                                                                                                                                                                                                                                                                                                                                                                                                                                                                                                                                                                                                                                                                                                                                                                                                                                                                                                                                                                                                                                                                                                                                                                                                                                                                                                                                                                                                                                                                                                                                                                                                                                                                                                                                                                                                                                                                                                                                                                                                                                                                                                                                                                                                                                                                                                                                                                                                                                                                                                                                                                                                                                                                                                                                                                                                                                                                                                                                                                                                                                                                                                                                                                                                                                                                                                                                                                                                                                                                                                                                                                                                                                                                                                                                                lyrics  \n",
       "0                                                                                                                                                                                                                                                                                                                                                                                                                                                                                                                                                                                                                                                                                                                                                                                                                                                                                                                                                                                                                                                                                                                                                                                                                                                                                                                                                                                                                                                                                                                                                                                                                                                                                                                                                                                                                                                                                                                                                                                                                                                                                                                                                                                                                           Hey Soul Sister Lyrics Hey Heeeeey Heeeeey  Your lipstick stains On the front lobe of my leftside brains I knew I wouldnt forget you And so I went and let you blow my mind Your sweet moonbeam The smell of you in every single dream I dream I knew when we collided Youre the one I have decided whos one of my kind Hey soul sister Aint that Mr Mister on the radio stereo The way you move aint fair you know Hey soul sister I dont want to miss a single thing you do Tonight  Hey Heeeeey Heeeeey  Just in time Im so glad you have a onetrack mind like me You gave my life direction A game show love connection we cant deny Im so obsessed My heart is bound to beat right out my untrimmed chest I believe in you like a virgin youre Madonna And Im always gonna wanna blow your mind  Hey soul sister Aint that Mr Mister on the radio stereo The way you move aint fair you know Hey soul sister I dont want to miss a single thing you do Tonight You might also like The way you can cut a rug Watching yous the only drug I need So gangster Im so thug Youre the only one Im dreaming of you see I can be myself now finally In fact theres nothing I cant be I want the world to see you be with me  Hey soul sister Aint that Mr Mister on the radio stereo The way you move aint fair you know Hey soul sister I dont want to miss a single thing you do tonight Hey soul sister I dont want to miss a single thing you do Tonight  Hey Heeeeey Heeeeey Tonight Hey Heeeeey Heeeeey Tonight64Embed  \n",
       "1  TranslationsTürkçeEspañolPortuguêsΕλληνικάEnglishالعربيةLove the Way You Lie Lyrics Just gonna stand there and watch me burn Well thats all right because I like the way it hurts Just gonna stand there and hear me cry Well thats all right because I love the way you lie I love the way you lie  I cant tell you what it really is I can only tell you what it feels like And right now theres a steel knife in my windpipe I cant breathe but I still fight while I can fight As long as the wrong feels right its like Im in flight High off her love drunk from her hate Its like Im huffin paint and I love her the more I suffer I suffocate And right before Im about to drown she resuscitates me She fuckin hates me and I love it  Wait Where you going  Im leaving you  No you aint Come back  Were runnin right back here we go again Its so insane cause when its goin good its goin great Im Superman with the wind at his back shes Lois Lane But when its bad its awful I feel so ashamed I snapped Whos that dude I dont even know his name I laid hands on her Ill never stoop so low again I guess I dont know my own strength Just gonna stand there and watch me burn Well thats all right because I like the way it hurts Just gonna stand there and hear me cry Well thats all right because I love the way you lie I love the way you lie I love the way you lie You ever love somebody so much you can barely breathe when youre with em You meet and neither one of you even know what hit em Got that warm fuzzy feelin yeah them chills used to get em Now youre gettin fuckin sick of lookin at em You swore youd never hit em never do nothin to hurt em Now youre in each others face Spewin venom in your words when you spit em You push pull each others hair scratch claw bit em Throw em down pin em So lost in the moments when youre in em Its the rage that took over it controls you both So they say youre best to go your separate ways Guess that they dont know ya Cause today that was yesterday yesterday is over Its a different day sound like broken records playin over But you promised her next time youll show restraint You dont get another chance life is no Nintendo game But you lied again Now you get to watch her leave out the window Guess thats why they call it window pane You might also like Just gonna stand there and watch me burn Well thats all right because I like the way it hurts Just gonna stand there and hear me cry Well thats all right because I love the way you lie I love the way you lie I love the way you lie  Now I know we said things did things that we didnt mean Then we fall back into the same patterns same routine But your tempers just as bad as mine is youre the same as me When it comes to love youre just as blinded baby please Come back it wasnt you baby it was me Maybe our relationship isnt as crazy as it seems Maybe thats what happens when a tornado meets a volcano All I know is I love you too much to walk away though Come inside pick up your bags off the sidewalk Dont you hear sincerity in my voice when I talk Told you this is my fault look me in the eyeball Next time Im pissed Ill aim my fist at the drywall Next time There wont be no next time I apologize even though I know its lies Im tired of the games I just want her back I know Im a liar If she ever tries to fuckin leave again Ima tie her To the bed and set this house on fire just gonna Just gonna stand there and watch me burn Well thats all right because I like the way it hurts Just gonna stand there and hear me cry Well thats all right because I love the way you lie I love the way you lie I love the way you lie303Embed  \n",
       "2                                                                                                                                                                                                                                                                                                                                                                                                                                                                                                                                                                                                                                                                                                                                                                                                                                                                                                                                                                                                                                                                                                                                                                                                                                                                                                                                                                                              TranslationsPortuguêsTiK ToK Lyrics Wake up in the morning feelin like P Diddy Hey what up girl Grab my glasses Im out the door Im gonna hit this city Lets go Before I leave brush my teeth with a bottle of Jack Cause when I leave for the night I aint coming back  Im talkin pedicure on our toes toes tryin on all our clothes clothes Boys blowin up our phones phones Droptoppin playin our favorite CDs pullin up to the parties Tryna get a little bit tipsy Dont stop make it pop DJ blow my speakers up Tonight Ima fight til we see the sunlight Tick tock on the clock but the party dont stop no Oh woah woah oh oh woah woah oh Dont stop make it pop DJ blow my speakers up Tonight Ima fight til we see the sunlight Tick tock on the clock but the party dont stop no Oh woah woah oh oh woah woah oh  Aint got a care in the world but got plenty of beer Aint got no money in my pocket but Im already here And now the dudes are linin up cause they hear we got swagger But we kick em to the curb unless they look like Mick Jagger  Im talkin bout everybody gettin crunk crunk boys try to touch my junk junk Gonna smack him if he gettin too drunk drunk Nonow we go until they kick us out out or the police shut us down down Police shut us down down popo shut us down  Dont stop make it pop DJ blow my speakers up Tonight Ima fight til we see the sunlight Tick tock on the clock but the party dont stop no Oh woah woah oh oh woah woah oh Dont stop make it pop DJ blow my speakers up Tonight Ima fight til we see the sunlight Tick tock on the clock but the party dont stop no Oh woah woah oh oh woah woah oh You might also like DJ You build me up you break me down My heart it pounds yeah you got me With my hands up you got me now You got that sound yeah you got me DJ You build me up you break me down My heart it pounds yeah you got me With my hands up put your hands up Put your hands up  Now the party dont start til I walk in  Dont stop make it pop DJ blow my speakers up Tonight Ima fight til we see the sunlight Tick tock on the clock but the party dont stop no Oh woah woah oh oh woah woah oh Dont stop make it pop DJ blow my speakers up Tonight Ima fight til we see the sunlight Tick tock on the clock but the party dont stop no Oh woah woah oh oh woah woah oh58Embed  "
      ]
     },
     "metadata": {},
     "output_type": "display_data"
    }
   ],
   "source": [
    "# Removing punctuation with regex\n",
    "df['lyrics'] = df['lyrics'].str.replace('[^\\w\\s]','')\n",
    "\n",
    "with pd.option_context('display.max_colwidth', None):\n",
    "  display(df.head(3))"
   ]
  },
  {
   "cell_type": "code",
   "execution_count": 7,
   "id": "14ad079b",
   "metadata": {},
   "outputs": [
    {
     "data": {
      "text/html": [
       "<div>\n",
       "<style scoped>\n",
       "    .dataframe tbody tr th:only-of-type {\n",
       "        vertical-align: middle;\n",
       "    }\n",
       "\n",
       "    .dataframe tbody tr th {\n",
       "        vertical-align: top;\n",
       "    }\n",
       "\n",
       "    .dataframe thead th {\n",
       "        text-align: right;\n",
       "    }\n",
       "</style>\n",
       "<table border=\"1\" class=\"dataframe\">\n",
       "  <thead>\n",
       "    <tr style=\"text-align: right;\">\n",
       "      <th></th>\n",
       "      <th>title</th>\n",
       "      <th>artist</th>\n",
       "      <th>lyrics</th>\n",
       "    </tr>\n",
       "  </thead>\n",
       "  <tbody>\n",
       "    <tr>\n",
       "      <th>0</th>\n",
       "      <td>Hey, Soul Sister</td>\n",
       "      <td>Train</td>\n",
       "      <td>hey soul sister lyrics hey heeeeey heeeeey  your lipstick stains on the front lobe of my leftside brains i knew i wouldnt forget you and so i went and let you blow my mind your sweet moonbeam the smell of you in every single dream i dream i knew when we collided youre the one i have decided whos one of my kind hey soul sister aint that mr mister on the radio stereo the way you move aint fair you know hey soul sister i dont want to miss a single thing you do tonight  hey heeeeey heeeeey  just in time im so glad you have a onetrack mind like me you gave my life direction a game show love connection we cant deny im so obsessed my heart is bound to beat right out my untrimmed chest i believe in you like a virgin youre madonna and im always gonna wanna blow your mind  hey soul sister aint that mr mister on the radio stereo the way you move aint fair you know hey soul sister i dont want to miss a single thing you do tonight you might also like the way you can cut a rug watching yous the only drug i need so gangster im so thug youre the only one im dreaming of you see i can be myself now finally in fact theres nothing i cant be i want the world to see you be with me  hey soul sister aint that mr mister on the radio stereo the way you move aint fair you know hey soul sister i dont want to miss a single thing you do tonight hey soul sister i dont want to miss a single thing you do tonight  hey heeeeey heeeeey tonight hey heeeeey heeeeey tonight64embed</td>\n",
       "    </tr>\n",
       "    <tr>\n",
       "      <th>1</th>\n",
       "      <td>Love The Way You Lie</td>\n",
       "      <td>Eminem</td>\n",
       "      <td>translationstürkçeespañolportuguêsελληνικάenglishالعربيةlove the way you lie lyrics just gonna stand there and watch me burn well thats all right because i like the way it hurts just gonna stand there and hear me cry well thats all right because i love the way you lie i love the way you lie  i cant tell you what it really is i can only tell you what it feels like and right now theres a steel knife in my windpipe i cant breathe but i still fight while i can fight as long as the wrong feels right its like im in flight high off her love drunk from her hate its like im huffin paint and i love her the more i suffer i suffocate and right before im about to drown she resuscitates me she fuckin hates me and i love it  wait where you going  im leaving you  no you aint come back  were runnin right back here we go again its so insane cause when its goin good its goin great im superman with the wind at his back shes lois lane but when its bad its awful i feel so ashamed i snapped whos that dude i dont even know his name i laid hands on her ill never stoop so low again i guess i dont know my own strength just gonna stand there and watch me burn well thats all right because i like the way it hurts just gonna stand there and hear me cry well thats all right because i love the way you lie i love the way you lie i love the way you lie you ever love somebody so much you can barely breathe when youre with em you meet and neither one of you even know what hit em got that warm fuzzy feelin yeah them chills used to get em now youre gettin fuckin sick of lookin at em you swore youd never hit em never do nothin to hurt em now youre in each others face spewin venom in your words when you spit em you push pull each others hair scratch claw bit em throw em down pin em so lost in the moments when youre in em its the rage that took over it controls you both so they say youre best to go your separate ways guess that they dont know ya cause today that was yesterday yesterday is over its a different day sound like broken records playin over but you promised her next time youll show restraint you dont get another chance life is no nintendo game but you lied again now you get to watch her leave out the window guess thats why they call it window pane you might also like just gonna stand there and watch me burn well thats all right because i like the way it hurts just gonna stand there and hear me cry well thats all right because i love the way you lie i love the way you lie i love the way you lie  now i know we said things did things that we didnt mean then we fall back into the same patterns same routine but your tempers just as bad as mine is youre the same as me when it comes to love youre just as blinded baby please come back it wasnt you baby it was me maybe our relationship isnt as crazy as it seems maybe thats what happens when a tornado meets a volcano all i know is i love you too much to walk away though come inside pick up your bags off the sidewalk dont you hear sincerity in my voice when i talk told you this is my fault look me in the eyeball next time im pissed ill aim my fist at the drywall next time there wont be no next time i apologize even though i know its lies im tired of the games i just want her back i know im a liar if she ever tries to fuckin leave again ima tie her to the bed and set this house on fire just gonna just gonna stand there and watch me burn well thats all right because i like the way it hurts just gonna stand there and hear me cry well thats all right because i love the way you lie i love the way you lie i love the way you lie303embed</td>\n",
       "    </tr>\n",
       "    <tr>\n",
       "      <th>2</th>\n",
       "      <td>TiK ToK</td>\n",
       "      <td>Kesha</td>\n",
       "      <td>translationsportuguêstik tok lyrics wake up in the morning feelin like p diddy hey what up girl grab my glasses im out the door im gonna hit this city lets go before i leave brush my teeth with a bottle of jack cause when i leave for the night i aint coming back  im talkin pedicure on our toes toes tryin on all our clothes clothes boys blowin up our phones phones droptoppin playin our favorite cds pullin up to the parties tryna get a little bit tipsy dont stop make it pop dj blow my speakers up tonight ima fight til we see the sunlight tick tock on the clock but the party dont stop no oh woah woah oh oh woah woah oh dont stop make it pop dj blow my speakers up tonight ima fight til we see the sunlight tick tock on the clock but the party dont stop no oh woah woah oh oh woah woah oh  aint got a care in the world but got plenty of beer aint got no money in my pocket but im already here and now the dudes are linin up cause they hear we got swagger but we kick em to the curb unless they look like mick jagger  im talkin bout everybody gettin crunk crunk boys try to touch my junk junk gonna smack him if he gettin too drunk drunk nonow we go until they kick us out out or the police shut us down down police shut us down down popo shut us down  dont stop make it pop dj blow my speakers up tonight ima fight til we see the sunlight tick tock on the clock but the party dont stop no oh woah woah oh oh woah woah oh dont stop make it pop dj blow my speakers up tonight ima fight til we see the sunlight tick tock on the clock but the party dont stop no oh woah woah oh oh woah woah oh you might also like dj you build me up you break me down my heart it pounds yeah you got me with my hands up you got me now you got that sound yeah you got me dj you build me up you break me down my heart it pounds yeah you got me with my hands up put your hands up put your hands up  now the party dont start til i walk in  dont stop make it pop dj blow my speakers up tonight ima fight til we see the sunlight tick tock on the clock but the party dont stop no oh woah woah oh oh woah woah oh dont stop make it pop dj blow my speakers up tonight ima fight til we see the sunlight tick tock on the clock but the party dont stop no oh woah woah oh oh woah woah oh58embed</td>\n",
       "    </tr>\n",
       "  </tbody>\n",
       "</table>\n",
       "</div>"
      ],
      "text/plain": [
       "                  title  artist  \\\n",
       "0      Hey, Soul Sister   Train   \n",
       "1  Love The Way You Lie  Eminem   \n",
       "2               TiK ToK   Kesha   \n",
       "\n",
       "                                                                                                                                                                                                                                                                                                                                                                                                                                                                                                                                                                                                                                                                                                                                                                                                                                                                                                                                                                                                                                                                                                                                                                                                                                                                                                                                                                                                                                                                                                                                                                                                                                                                                                                                                                                                                                                                                                                                                                                                                                                                                                                                                                                                                                                                                                                                                                                                                                                                                                                                                                                                                                                                                                                                                                                                                                                                                                                                                                                                                                                                                                                                                                                                                                                                                                                                                                                                                                                                                                                                                                                                                                                                                                                                                lyrics  \n",
       "0                                                                                                                                                                                                                                                                                                                                                                                                                                                                                                                                                                                                                                                                                                                                                                                                                                                                                                                                                                                                                                                                                                                                                                                                                                                                                                                                                                                                                                                                                                                                                                                                                                                                                                                                                                                                                                                                                                                                                                                                                                                                                                                                                                                                                           hey soul sister lyrics hey heeeeey heeeeey  your lipstick stains on the front lobe of my leftside brains i knew i wouldnt forget you and so i went and let you blow my mind your sweet moonbeam the smell of you in every single dream i dream i knew when we collided youre the one i have decided whos one of my kind hey soul sister aint that mr mister on the radio stereo the way you move aint fair you know hey soul sister i dont want to miss a single thing you do tonight  hey heeeeey heeeeey  just in time im so glad you have a onetrack mind like me you gave my life direction a game show love connection we cant deny im so obsessed my heart is bound to beat right out my untrimmed chest i believe in you like a virgin youre madonna and im always gonna wanna blow your mind  hey soul sister aint that mr mister on the radio stereo the way you move aint fair you know hey soul sister i dont want to miss a single thing you do tonight you might also like the way you can cut a rug watching yous the only drug i need so gangster im so thug youre the only one im dreaming of you see i can be myself now finally in fact theres nothing i cant be i want the world to see you be with me  hey soul sister aint that mr mister on the radio stereo the way you move aint fair you know hey soul sister i dont want to miss a single thing you do tonight hey soul sister i dont want to miss a single thing you do tonight  hey heeeeey heeeeey tonight hey heeeeey heeeeey tonight64embed  \n",
       "1  translationstürkçeespañolportuguêsελληνικάenglishالعربيةlove the way you lie lyrics just gonna stand there and watch me burn well thats all right because i like the way it hurts just gonna stand there and hear me cry well thats all right because i love the way you lie i love the way you lie  i cant tell you what it really is i can only tell you what it feels like and right now theres a steel knife in my windpipe i cant breathe but i still fight while i can fight as long as the wrong feels right its like im in flight high off her love drunk from her hate its like im huffin paint and i love her the more i suffer i suffocate and right before im about to drown she resuscitates me she fuckin hates me and i love it  wait where you going  im leaving you  no you aint come back  were runnin right back here we go again its so insane cause when its goin good its goin great im superman with the wind at his back shes lois lane but when its bad its awful i feel so ashamed i snapped whos that dude i dont even know his name i laid hands on her ill never stoop so low again i guess i dont know my own strength just gonna stand there and watch me burn well thats all right because i like the way it hurts just gonna stand there and hear me cry well thats all right because i love the way you lie i love the way you lie i love the way you lie you ever love somebody so much you can barely breathe when youre with em you meet and neither one of you even know what hit em got that warm fuzzy feelin yeah them chills used to get em now youre gettin fuckin sick of lookin at em you swore youd never hit em never do nothin to hurt em now youre in each others face spewin venom in your words when you spit em you push pull each others hair scratch claw bit em throw em down pin em so lost in the moments when youre in em its the rage that took over it controls you both so they say youre best to go your separate ways guess that they dont know ya cause today that was yesterday yesterday is over its a different day sound like broken records playin over but you promised her next time youll show restraint you dont get another chance life is no nintendo game but you lied again now you get to watch her leave out the window guess thats why they call it window pane you might also like just gonna stand there and watch me burn well thats all right because i like the way it hurts just gonna stand there and hear me cry well thats all right because i love the way you lie i love the way you lie i love the way you lie  now i know we said things did things that we didnt mean then we fall back into the same patterns same routine but your tempers just as bad as mine is youre the same as me when it comes to love youre just as blinded baby please come back it wasnt you baby it was me maybe our relationship isnt as crazy as it seems maybe thats what happens when a tornado meets a volcano all i know is i love you too much to walk away though come inside pick up your bags off the sidewalk dont you hear sincerity in my voice when i talk told you this is my fault look me in the eyeball next time im pissed ill aim my fist at the drywall next time there wont be no next time i apologize even though i know its lies im tired of the games i just want her back i know im a liar if she ever tries to fuckin leave again ima tie her to the bed and set this house on fire just gonna just gonna stand there and watch me burn well thats all right because i like the way it hurts just gonna stand there and hear me cry well thats all right because i love the way you lie i love the way you lie i love the way you lie303embed  \n",
       "2                                                                                                                                                                                                                                                                                                                                                                                                                                                                                                                                                                                                                                                                                                                                                                                                                                                                                                                                                                                                                                                                                                                                                                                                                                                                                                                                                                                              translationsportuguêstik tok lyrics wake up in the morning feelin like p diddy hey what up girl grab my glasses im out the door im gonna hit this city lets go before i leave brush my teeth with a bottle of jack cause when i leave for the night i aint coming back  im talkin pedicure on our toes toes tryin on all our clothes clothes boys blowin up our phones phones droptoppin playin our favorite cds pullin up to the parties tryna get a little bit tipsy dont stop make it pop dj blow my speakers up tonight ima fight til we see the sunlight tick tock on the clock but the party dont stop no oh woah woah oh oh woah woah oh dont stop make it pop dj blow my speakers up tonight ima fight til we see the sunlight tick tock on the clock but the party dont stop no oh woah woah oh oh woah woah oh  aint got a care in the world but got plenty of beer aint got no money in my pocket but im already here and now the dudes are linin up cause they hear we got swagger but we kick em to the curb unless they look like mick jagger  im talkin bout everybody gettin crunk crunk boys try to touch my junk junk gonna smack him if he gettin too drunk drunk nonow we go until they kick us out out or the police shut us down down police shut us down down popo shut us down  dont stop make it pop dj blow my speakers up tonight ima fight til we see the sunlight tick tock on the clock but the party dont stop no oh woah woah oh oh woah woah oh dont stop make it pop dj blow my speakers up tonight ima fight til we see the sunlight tick tock on the clock but the party dont stop no oh woah woah oh oh woah woah oh you might also like dj you build me up you break me down my heart it pounds yeah you got me with my hands up you got me now you got that sound yeah you got me dj you build me up you break me down my heart it pounds yeah you got me with my hands up put your hands up put your hands up  now the party dont start til i walk in  dont stop make it pop dj blow my speakers up tonight ima fight til we see the sunlight tick tock on the clock but the party dont stop no oh woah woah oh oh woah woah oh dont stop make it pop dj blow my speakers up tonight ima fight til we see the sunlight tick tock on the clock but the party dont stop no oh woah woah oh oh woah woah oh58embed  "
      ]
     },
     "metadata": {},
     "output_type": "display_data"
    }
   ],
   "source": [
    "df['lyrics'] = df['lyrics'].str.lower()\n",
    "\n",
    "with pd.option_context('display.max_colwidth', None):\n",
    "  display(df.head(3))"
   ]
  },
  {
   "cell_type": "code",
   "execution_count": 8,
   "id": "e8f3ce1d",
   "metadata": {},
   "outputs": [],
   "source": [
    "# Exporting cleaned data\n",
    "df.to_csv('data/lyric_data_clean.csv')"
   ]
  }
 ],
 "metadata": {
  "kernelspec": {
   "display_name": "PythonData",
   "language": "python",
   "name": "pythondata"
  },
  "language_info": {
   "codemirror_mode": {
    "name": "ipython",
    "version": 3
   },
   "file_extension": ".py",
   "mimetype": "text/x-python",
   "name": "python",
   "nbconvert_exporter": "python",
   "pygments_lexer": "ipython3",
   "version": "3.7.13"
  }
 },
 "nbformat": 4,
 "nbformat_minor": 5
}
